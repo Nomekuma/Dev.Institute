{
 "cells": [
  {
   "cell_type": "code",
   "execution_count": null,
   "metadata": {},
   "outputs": [],
   "source": [
    "import sqlite3\n",
    "\n",
    "# Function to create the database and table\n",
    "def setup_database():\n",
    "    conn = sqlite3.connect(\"hotel_bookins.csv.db\")\n",
    "    cursor = conn.cursor()\n",
    "    cursor.execute('''CREATE TABLE IF NOT EXISTS todos (id INTEGER PRIMARY KEY AUTOINCREMENT, task TEXT)''')\n",
    "    conn.commit()\n",
    "    conn.close()\n"
   ]
  },
  {
   "cell_type": "code",
   "execution_count": null,
   "metadata": {},
   "outputs": [],
   "source": [
    "# Function to add a task to the hotel bookings\n",
    "def add_task(task):\n",
    "    conn = sqlite3.connect(\"hotel_bookins.csv.db\")\n",
    "    cursor = conn.cursor()\n",
    "    cursor.execute(\"INSERT INTO todos (task) VALUES (?)\", (task,))\n",
    "    conn.commit()\n",
    "    conn.close()\n"
   ]
  },
  {
   "cell_type": "code",
   "execution_count": null,
   "metadata": {},
   "outputs": [],
   "source": [
    "# Function to remove a task from the hotel bookings\n",
    "def remove_task(task_id):\n",
    "    conn = sqlite3.connect(\"hotel_bookins.csv.db\")\n",
    "    cursor = conn.cursor()\n",
    "    cursor.execute(\"DELETE FROM todos WHERE id=?\", (task_id,))\n",
    "    conn.commit()\n",
    "    conn.close()\n"
   ]
  },
  {
   "cell_type": "code",
   "execution_count": null,
   "metadata": {},
   "outputs": [],
   "source": [
    "# Function to view all tasks in the hotel bookings\n",
    "def view_tasks():\n",
    "    conn = sqlite3.connect(\"hotel_bookins.csv.db\")\n",
    "    cursor = conn.cursor()\n",
    "    cursor.execute(\"SELECT * FROM todos\")\n",
    "    tasks = cursor.fetchall()\n",
    "    conn.close()"
   ]
  }
 ],
 "metadata": {
  "kernelspec": {
   "display_name": "Python 3",
   "language": "python",
   "name": "python3"
  },
  "language_info": {
   "codemirror_mode": {
    "name": "ipython",
    "version": 3
   },
   "file_extension": ".py",
   "mimetype": "text/x-python",
   "name": "python",
   "nbconvert_exporter": "python",
   "pygments_lexer": "ipython3",
   "version": "3.11.4"
  },
  "orig_nbformat": 4
 },
 "nbformat": 4,
 "nbformat_minor": 2
}
