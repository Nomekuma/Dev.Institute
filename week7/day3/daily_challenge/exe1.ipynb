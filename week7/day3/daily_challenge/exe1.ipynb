{
 "cells": [
  {
   "cell_type": "code",
   "execution_count": 1,
   "metadata": {},
   "outputs": [
    {
     "name": "stdout",
     "output_type": "stream",
     "text": [
      "7This$#^is% Matrix?#  %!\n"
     ]
    }
   ],
   "source": [
    "def extract_hidden_message(matrix_string):\n",
    "    # Split the matrix_string into rows using newline character '\\n'\n",
    "    rows = matrix_string.strip().split('\\n')\n",
    "    \n",
    "    # Calculate the number of columns in the matrix (length of the first row)\n",
    "    num_columns = len(rows[0])\n",
    "    \n",
    "    # Initialize an empty list to store the hidden message column-wise\n",
    "    hidden_message = [''] * num_columns\n",
    "    \n",
    "    # Iterate through each row and concatenate the characters column-wise\n",
    "    for row in rows:\n",
    "        for col_index, char in enumerate(row):\n",
    "            hidden_message[col_index] += char\n",
    "    \n",
    "    # Combine the columns to form the final message\n",
    "    final_message = ''.join(hidden_message)\n",
    "    return final_message\n",
    "\n",
    "# Given Matrix string\n",
    "matrix_string = '''7ii\n",
    "Tsx\n",
    "h%?\n",
    "i #\n",
    "sM \n",
    "$a \n",
    "#t%\n",
    "^r!'''\n",
    "\n",
    "# Extract the hidden message\n",
    "message = extract_hidden_message(matrix_string)\n",
    "print(message)\n"
   ]
  },
  {
   "cell_type": "code",
   "execution_count": 2,
   "metadata": {},
   "outputs": [
    {
     "name": "stdout",
     "output_type": "stream",
     "text": [
      " This   is  Matrix      \n"
     ]
    }
   ],
   "source": [
    "def decrypt_matrix(matrix_string):\n",
    "    # Split the matrix_string into rows using newline character '\\n'\n",
    "    rows = matrix_string.strip().split('\\n')\n",
    "    \n",
    "    # Calculate the number of columns in the matrix (length of the first row)\n",
    "    num_columns = len(rows[0])\n",
    "    \n",
    "    # Initialize an empty list to store the hidden message column-wise\n",
    "    hidden_message = [''] * num_columns\n",
    "    \n",
    "    # Iterate through each row and concatenate the characters column-wise\n",
    "    for row in rows:\n",
    "        for col_index, char in enumerate(row):\n",
    "            hidden_message[col_index] += char if char.isalpha() else ' '\n",
    "    \n",
    "    # Combine the columns to form the final decrypted message\n",
    "    final_message = ''.join(hidden_message)\n",
    "    return final_message\n",
    "\n",
    "# Given Matrix string\n",
    "matrix_string = '''7ii\n",
    "Tsx\n",
    "h%?\n",
    "i #\n",
    "sM \n",
    "$a \n",
    "#t%\n",
    "^r!'''\n",
    "\n",
    "# Decrypt the matrix\n",
    "decrypted_message = decrypt_matrix(matrix_string)\n",
    "print(decrypted_message)\n"
   ]
  }
 ],
 "metadata": {
  "kernelspec": {
   "display_name": "Python 3",
   "language": "python",
   "name": "python3"
  },
  "language_info": {
   "codemirror_mode": {
    "name": "ipython",
    "version": 3
   },
   "file_extension": ".py",
   "mimetype": "text/x-python",
   "name": "python",
   "nbconvert_exporter": "python",
   "pygments_lexer": "ipython3",
   "version": "3.11.4"
  },
  "orig_nbformat": 4
 },
 "nbformat": 4,
 "nbformat_minor": 2
}
