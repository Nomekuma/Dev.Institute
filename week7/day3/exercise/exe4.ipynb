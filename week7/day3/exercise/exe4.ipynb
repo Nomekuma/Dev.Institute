{
 "cells": [
  {
   "cell_type": "code",
   "execution_count": 1,
   "metadata": {},
   "outputs": [],
   "source": [
    "import random\n",
    "\n",
    "def generate_random_number(number):\n",
    "    if 1 <= number <= 100:\n",
    "        random_number = random.randint(1, 100)\n",
    "        return random_number\n",
    "    else:\n",
    "        raise ValueError(\"Input number must be between 1 and 100.\")\n"
   ]
  },
  {
   "cell_type": "code",
   "execution_count": 2,
   "metadata": {},
   "outputs": [
    {
     "name": "stdout",
     "output_type": "stream",
     "text": [
      "Random number: 16\n"
     ]
    }
   ],
   "source": [
    "random_num = generate_random_number(50)\n",
    "print(\"Random number:\", random_num)\n"
   ]
  },
  {
   "cell_type": "code",
   "execution_count": 4,
   "metadata": {},
   "outputs": [],
   "source": [
    "import random\n",
    "\n",
    "def generate_random_number(number):\n",
    "    if 1 <= number <= 100:\n",
    "        random_number = random.randint(1, 100)\n",
    "        if number == random_number:\n",
    "            print(\"Success! The generated number is also\", number)\n",
    "        else:\n",
    "            print(\"Fail! The generated number is\", random_number, \"and it's different from\", number)\n",
    "    else:\n",
    "        raise ValueError(\"Input number must be between 1 and 100.\")\n"
   ]
  },
  {
   "cell_type": "code",
   "execution_count": 5,
   "metadata": {},
   "outputs": [
    {
     "name": "stdout",
     "output_type": "stream",
     "text": [
      "Fail! The generated number is 2 and it's different from 50\n"
     ]
    }
   ],
   "source": [
    "generate_random_number(50)\n"
   ]
  }
 ],
 "metadata": {
  "kernelspec": {
   "display_name": "Python 3",
   "language": "python",
   "name": "python3"
  },
  "language_info": {
   "codemirror_mode": {
    "name": "ipython",
    "version": 3
   },
   "file_extension": ".py",
   "mimetype": "text/x-python",
   "name": "python",
   "nbconvert_exporter": "python",
   "pygments_lexer": "ipython3",
   "version": "3.11.4"
  },
  "orig_nbformat": 4
 },
 "nbformat": 4,
 "nbformat_minor": 2
}
