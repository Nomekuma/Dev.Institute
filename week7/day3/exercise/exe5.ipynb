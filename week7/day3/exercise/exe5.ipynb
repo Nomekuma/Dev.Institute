{
 "cells": [
  {
   "cell_type": "code",
   "execution_count": 1,
   "metadata": {},
   "outputs": [],
   "source": [
    "def make_shirt(size, message):\n",
    "    print(\"Size:\", size)\n",
    "    print(\"Message:\", message)\n"
   ]
  },
  {
   "cell_type": "code",
   "execution_count": 2,
   "metadata": {},
   "outputs": [
    {
     "name": "stdout",
     "output_type": "stream",
     "text": [
      "Size: L\n",
      "Message: I love Python\n"
     ]
    }
   ],
   "source": [
    "make_shirt(\"L\", \"I love Python\")\n"
   ]
  },
  {
   "cell_type": "code",
   "execution_count": 3,
   "metadata": {},
   "outputs": [
    {
     "name": "stdout",
     "output_type": "stream",
     "text": [
      "Size: M\n",
      "Message: Hello, World!\n"
     ]
    }
   ],
   "source": [
    "make_shirt(\"M\", \"Hello, World!\")\n"
   ]
  },
  {
   "cell_type": "code",
   "execution_count": 4,
   "metadata": {},
   "outputs": [],
   "source": [
    "def make_shirt(size, message):\n",
    "    print(\"The size of the shirt is\", size, \"and the text is\", message)\n"
   ]
  },
  {
   "cell_type": "code",
   "execution_count": 5,
   "metadata": {},
   "outputs": [
    {
     "name": "stdout",
     "output_type": "stream",
     "text": [
      "The size of the shirt is L and the text is I love Python\n"
     ]
    }
   ],
   "source": [
    "make_shirt(\"L\", \"I love Python\")\n"
   ]
  },
  {
   "cell_type": "code",
   "execution_count": 6,
   "metadata": {},
   "outputs": [
    {
     "name": "stdout",
     "output_type": "stream",
     "text": [
      "The size of the shirt is M and the text is Hello, World!\n"
     ]
    }
   ],
   "source": [
    "make_shirt(\"M\", \"Hello, World!\")\n"
   ]
  },
  {
   "cell_type": "code",
   "execution_count": 7,
   "metadata": {},
   "outputs": [
    {
     "name": "stdout",
     "output_type": "stream",
     "text": [
      "The size of the shirt is XL and the text is Be Kind\n"
     ]
    }
   ],
   "source": [
    "make_shirt(\"XL\", \"Be Kind\")\n"
   ]
  },
  {
   "cell_type": "code",
   "execution_count": 8,
   "metadata": {},
   "outputs": [
    {
     "name": "stdout",
     "output_type": "stream",
     "text": [
      "The size of the shirt is S and the text is Stay Curious\n"
     ]
    }
   ],
   "source": [
    "make_shirt(\"S\", \"Stay Curious\")\n"
   ]
  },
  {
   "cell_type": "code",
   "execution_count": 9,
   "metadata": {},
   "outputs": [],
   "source": [
    "def make_shirt(size=\"large\", message=\"I love Python\"):\n",
    "    print(\"The size of the shirt is\", size, \"and the text is\", message)\n"
   ]
  },
  {
   "cell_type": "code",
   "execution_count": 10,
   "metadata": {},
   "outputs": [
    {
     "name": "stdout",
     "output_type": "stream",
     "text": [
      "The size of the shirt is large and the text is I love Python\n"
     ]
    }
   ],
   "source": [
    "make_shirt()\n"
   ]
  },
  {
   "cell_type": "code",
   "execution_count": 11,
   "metadata": {},
   "outputs": [
    {
     "name": "stdout",
     "output_type": "stream",
     "text": [
      "The size of the shirt is medium and the text is I love Python\n"
     ]
    }
   ],
   "source": [
    "make_shirt(\"medium\")\n"
   ]
  },
  {
   "cell_type": "code",
   "execution_count": 12,
   "metadata": {},
   "outputs": [
    {
     "name": "stdout",
     "output_type": "stream",
     "text": [
      "The size of the shirt is small and the text is Hello, World!\n"
     ]
    }
   ],
   "source": [
    "make_shirt(\"small\", \"Hello, World!\")\n"
   ]
  },
  {
   "cell_type": "code",
   "execution_count": 13,
   "metadata": {},
   "outputs": [
    {
     "name": "stdout",
     "output_type": "stream",
     "text": [
      "The size of the shirt is large and the text is I love Python\n"
     ]
    }
   ],
   "source": [
    "make_shirt()\n"
   ]
  },
  {
   "cell_type": "code",
   "execution_count": 14,
   "metadata": {},
   "outputs": [
    {
     "name": "stdout",
     "output_type": "stream",
     "text": [
      "The size of the shirt is medium and the text is I love Python\n"
     ]
    }
   ],
   "source": [
    "make_shirt(\"medium\")\n"
   ]
  },
  {
   "cell_type": "code",
   "execution_count": 15,
   "metadata": {},
   "outputs": [
    {
     "name": "stdout",
     "output_type": "stream",
     "text": [
      "The size of the shirt is small and the text is Keep Coding!\n"
     ]
    }
   ],
   "source": [
    "make_shirt(\"small\", \"Keep Coding!\")\n"
   ]
  },
  {
   "cell_type": "code",
   "execution_count": 16,
   "metadata": {},
   "outputs": [
    {
     "name": "stdout",
     "output_type": "stream",
     "text": [
      "The size of the shirt is large and the text is Python is awesome!\n"
     ]
    }
   ],
   "source": [
    "make_shirt(size=\"large\", message=\"Python is awesome!\")\n"
   ]
  }
 ],
 "metadata": {
  "kernelspec": {
   "display_name": "Python 3",
   "language": "python",
   "name": "python3"
  },
  "language_info": {
   "codemirror_mode": {
    "name": "ipython",
    "version": 3
   },
   "file_extension": ".py",
   "mimetype": "text/x-python",
   "name": "python",
   "nbconvert_exporter": "python",
   "pygments_lexer": "ipython3",
   "version": "3.11.4"
  },
  "orig_nbformat": 4
 },
 "nbformat": 4,
 "nbformat_minor": 2
}
