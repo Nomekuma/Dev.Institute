{
 "cells": [
  {
   "cell_type": "code",
   "execution_count": 1,
   "metadata": {},
   "outputs": [],
   "source": [
    "\n",
    "def display_message():\n",
    "    print(\"I am learning various topics in this course, including programming concepts, algorithms, data structures, and problem-solving techniques.\")\n"
   ]
  },
  {
   "cell_type": "code",
   "execution_count": 2,
   "metadata": {},
   "outputs": [
    {
     "name": "stdout",
     "output_type": "stream",
     "text": [
      "I am learning various topics in this course, including programming concepts, algorithms, data structures, and problem-solving techniques.\n"
     ]
    }
   ],
   "source": [
    "display_message()\n"
   ]
  },
  {
   "cell_type": "code",
   "execution_count": 4,
   "metadata": {},
   "outputs": [
    {
     "name": "stdout",
     "output_type": "stream",
     "text": [
      "I am learning various topics in this course, including programming concepts, algorithms, data structures, and problem-solving techniques.\n"
     ]
    }
   ],
   "source": [
    "def display_message():\n",
    "    print(\"I am learning various topics in this course, including programming concepts, algorithms, data structures, and problem-solving techniques.\")\n",
    "\n",
    "# Call the function\n",
    "display_message()\n"
   ]
  }
 ],
 "metadata": {
  "kernelspec": {
   "display_name": "Python 3",
   "language": "python",
   "name": "python3"
  },
  "language_info": {
   "codemirror_mode": {
    "name": "ipython",
    "version": 3
   },
   "file_extension": ".py",
   "mimetype": "text/x-python",
   "name": "python",
   "nbconvert_exporter": "python",
   "pygments_lexer": "ipython3",
   "version": "3.11.4"
  },
  "orig_nbformat": 4
 },
 "nbformat": 4,
 "nbformat_minor": 2
}
