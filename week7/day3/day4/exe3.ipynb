{
 "cells": [
  {
   "cell_type": "code",
   "execution_count": 1,
   "metadata": {},
   "outputs": [
    {
     "ename": "ValueError",
     "evalue": "invalid literal for int() with base 10: ''",
     "output_type": "error",
     "traceback": [
      "\u001b[1;31m---------------------------------------------------------------------------\u001b[0m",
      "\u001b[1;31mValueError\u001b[0m                                Traceback (most recent call last)",
      "Cell \u001b[1;32mIn[1], line 26\u001b[0m\n\u001b[0;32m     23\u001b[0m         \u001b[39mprint\u001b[39m(\u001b[39m\"\u001b[39m\u001b[39mSorry, you cannot retire yet.\u001b[39m\u001b[39m\"\u001b[39m)\n\u001b[0;32m     25\u001b[0m \u001b[39mif\u001b[39;00m \u001b[39m__name__\u001b[39m \u001b[39m==\u001b[39m \u001b[39m\"\u001b[39m\u001b[39m__main__\u001b[39m\u001b[39m\"\u001b[39m:\n\u001b[1;32m---> 26\u001b[0m     main()\n",
      "Cell \u001b[1;32mIn[1], line 13\u001b[0m, in \u001b[0;36mmain\u001b[1;34m()\u001b[0m\n\u001b[0;32m     12\u001b[0m \u001b[39mdef\u001b[39;00m \u001b[39mmain\u001b[39m():\n\u001b[1;32m---> 13\u001b[0m     birth_year \u001b[39m=\u001b[39m \u001b[39mint\u001b[39;49m(\u001b[39minput\u001b[39;49m(\u001b[39m\"\u001b[39;49m\u001b[39mEnter your birth year: \u001b[39;49m\u001b[39m\"\u001b[39;49m))\n\u001b[0;32m     14\u001b[0m     gender \u001b[39m=\u001b[39m \u001b[39minput\u001b[39m(\u001b[39m\"\u001b[39m\u001b[39mEnter your gender (male or female): \u001b[39m\u001b[39m\"\u001b[39m)\u001b[39m.\u001b[39mlower()\n\u001b[0;32m     16\u001b[0m     \u001b[39mif\u001b[39;00m gender \u001b[39mnot\u001b[39;00m \u001b[39min\u001b[39;00m [\u001b[39m\"\u001b[39m\u001b[39mmale\u001b[39m\u001b[39m\"\u001b[39m, \u001b[39m\"\u001b[39m\u001b[39mfemale\u001b[39m\u001b[39m\"\u001b[39m]:\n",
      "\u001b[1;31mValueError\u001b[0m: invalid literal for int() with base 10: ''"
     ]
    }
   ],
   "source": [
    "def can_retire(birth_year, gender):\n",
    "    retirement_age = 67 if gender == \"male\" else 62\n",
    "\n",
    "    current_year = 2023  # Replace this with the current year\n",
    "    age = current_year - birth_year\n",
    "\n",
    "    if age >= retirement_age:\n",
    "        return True\n",
    "    else:\n",
    "        return False\n",
    "\n",
    "def main():\n",
    "    birth_year = int(input(\"Enter your birth year: \"))\n",
    "    gender = input(\"Enter your gender (male or female): \").lower()\n",
    "\n",
    "    if gender not in [\"male\", \"female\"]:\n",
    "        print(\"Invalid gender. Please enter 'male' or 'female'.\")\n",
    "        return\n",
    "\n",
    "    if can_retire(birth_year, gender):\n",
    "        print(\"Congratulations! You can retire.\")\n",
    "    else:\n",
    "        print(\"Sorry, you cannot retire yet.\")\n",
    "\n",
    "if __name__ == \"__main__\":\n",
    "    main()\n"
   ]
  },
  {
   "cell_type": "code",
   "execution_count": 2,
   "metadata": {},
   "outputs": [
    {
     "ename": "ValueError",
     "evalue": "invalid literal for int() with base 10: ''",
     "output_type": "error",
     "traceback": [
      "\u001b[1;31m---------------------------------------------------------------------------\u001b[0m",
      "\u001b[1;31mValueError\u001b[0m                                Traceback (most recent call last)",
      "Cell \u001b[1;32mIn[2], line 33\u001b[0m\n\u001b[0;32m     30\u001b[0m         \u001b[39mprint\u001b[39m(\u001b[39m\"\u001b[39m\u001b[39mSorry, you cannot retire yet.\u001b[39m\u001b[39m\"\u001b[39m)\n\u001b[0;32m     32\u001b[0m \u001b[39mif\u001b[39;00m \u001b[39m__name__\u001b[39m \u001b[39m==\u001b[39m \u001b[39m\"\u001b[39m\u001b[39m__main__\u001b[39m\u001b[39m\"\u001b[39m:\n\u001b[1;32m---> 33\u001b[0m     main()\n",
      "Cell \u001b[1;32mIn[2], line 16\u001b[0m, in \u001b[0;36mmain\u001b[1;34m()\u001b[0m\n\u001b[0;32m     15\u001b[0m \u001b[39mdef\u001b[39;00m \u001b[39mmain\u001b[39m():\n\u001b[1;32m---> 16\u001b[0m     birth_year \u001b[39m=\u001b[39m \u001b[39mint\u001b[39;49m(\u001b[39minput\u001b[39;49m(\u001b[39m\"\u001b[39;49m\u001b[39mEnter your birth year: \u001b[39;49m\u001b[39m\"\u001b[39;49m))\n\u001b[0;32m     17\u001b[0m     birth_month \u001b[39m=\u001b[39m \u001b[39mint\u001b[39m(\u001b[39minput\u001b[39m(\u001b[39m\"\u001b[39m\u001b[39mEnter your birth month (1-12): \u001b[39m\u001b[39m\"\u001b[39m))\n\u001b[0;32m     18\u001b[0m     birth_day \u001b[39m=\u001b[39m \u001b[39mint\u001b[39m(\u001b[39minput\u001b[39m(\u001b[39m\"\u001b[39m\u001b[39mEnter your birth day (1-31): \u001b[39m\u001b[39m\"\u001b[39m))\n",
      "\u001b[1;31mValueError\u001b[0m: invalid literal for int() with base 10: ''"
     ]
    }
   ],
   "source": [
    "def get_age(year, month, day):\n",
    "    current_year = 2023\n",
    "    current_month = 8  # Assuming the current month is August\n",
    "\n",
    "    age = current_year - year\n",
    "    if current_month < month or (current_month == month and day < 1):\n",
    "        age -= 1\n",
    "\n",
    "    return age\n",
    "\n",
    "def can_retire(gender, age):\n",
    "    retirement_age = 67 if gender == \"male\" else 62\n",
    "    return age >= retirement_age\n",
    "\n",
    "def main():\n",
    "    birth_year = int(input(\"Enter your birth year: \"))\n",
    "    birth_month = int(input(\"Enter your birth month (1-12): \"))\n",
    "    birth_day = int(input(\"Enter your birth day (1-31): \"))\n",
    "    gender = input(\"Enter your gender (male or female): \").lower()\n",
    "\n",
    "    if gender not in [\"male\", \"female\"]:\n",
    "        print(\"Invalid gender. Please enter 'male' or 'female'.\")\n",
    "        return\n",
    "\n",
    "    age = get_age(birth_year, birth_month, birth_day)\n",
    "\n",
    "    if can_retire(gender, age):\n",
    "        print(\"Congratulations! You can retire.\")\n",
    "    else:\n",
    "        print(\"Sorry, you cannot retire yet.\")\n",
    "\n",
    "if __name__ == \"__main__\":\n",
    "    main()\n"
   ]
  },
  {
   "cell_type": "code",
   "execution_count": 3,
   "metadata": {},
   "outputs": [
    {
     "ename": "ValueError",
     "evalue": "invalid literal for int() with base 10: ''",
     "output_type": "error",
     "traceback": [
      "\u001b[1;31m---------------------------------------------------------------------------\u001b[0m",
      "\u001b[1;31mValueError\u001b[0m                                Traceback (most recent call last)",
      "Cell \u001b[1;32mIn[3], line 33\u001b[0m\n\u001b[0;32m     30\u001b[0m         \u001b[39mprint\u001b[39m(\u001b[39m\"\u001b[39m\u001b[39mSorry, you cannot retire yet.\u001b[39m\u001b[39m\"\u001b[39m)\n\u001b[0;32m     32\u001b[0m \u001b[39mif\u001b[39;00m \u001b[39m__name__\u001b[39m \u001b[39m==\u001b[39m \u001b[39m\"\u001b[39m\u001b[39m__main__\u001b[39m\u001b[39m\"\u001b[39m:\n\u001b[1;32m---> 33\u001b[0m     main()\n",
      "Cell \u001b[1;32mIn[3], line 16\u001b[0m, in \u001b[0;36mmain\u001b[1;34m()\u001b[0m\n\u001b[0;32m     15\u001b[0m \u001b[39mdef\u001b[39;00m \u001b[39mmain\u001b[39m():\n\u001b[1;32m---> 16\u001b[0m     birth_year \u001b[39m=\u001b[39m \u001b[39mint\u001b[39;49m(\u001b[39minput\u001b[39;49m(\u001b[39m\"\u001b[39;49m\u001b[39mEnter your birth year: \u001b[39;49m\u001b[39m\"\u001b[39;49m))\n\u001b[0;32m     17\u001b[0m     birth_month \u001b[39m=\u001b[39m \u001b[39mint\u001b[39m(\u001b[39minput\u001b[39m(\u001b[39m\"\u001b[39m\u001b[39mEnter your birth month (1-12): \u001b[39m\u001b[39m\"\u001b[39m))\n\u001b[0;32m     18\u001b[0m     birth_day \u001b[39m=\u001b[39m \u001b[39mint\u001b[39m(\u001b[39minput\u001b[39m(\u001b[39m\"\u001b[39m\u001b[39mEnter your birth day (1-31): \u001b[39m\u001b[39m\"\u001b[39m))\n",
      "\u001b[1;31mValueError\u001b[0m: invalid literal for int() with base 10: ''"
     ]
    }
   ],
   "source": [
    "def get_age(year, month, day):\n",
    "    current_year = 2023\n",
    "    current_month = 8  # Assuming the current month is August\n",
    "\n",
    "    age = current_year - year\n",
    "    if current_month < month or (current_month == month and day < 1):\n",
    "        age -= 1\n",
    "\n",
    "    return age\n",
    "\n",
    "def can_retire(gender, age):\n",
    "    retirement_age = 67 if gender == \"male\" else 62\n",
    "    return age >= retirement_age\n",
    "\n",
    "def main():\n",
    "    birth_year = int(input(\"Enter your birth year: \"))\n",
    "    birth_month = int(input(\"Enter your birth month (1-12): \"))\n",
    "    birth_day = int(input(\"Enter your birth day (1-31): \"))\n",
    "    gender = input(\"Enter your gender (male or female): \").lower()\n",
    "\n",
    "    if gender not in [\"male\", \"female\"]:\n",
    "        print(\"Invalid gender. Please enter 'male' or 'female'.\")\n",
    "        return\n",
    "\n",
    "    age = get_age(birth_year, birth_month, birth_day)\n",
    "\n",
    "    if can_retire(gender, age):\n",
    "        print(\"Congratulations! You can retire.\")\n",
    "    else:\n",
    "        print(\"Sorry, you cannot retire yet.\")\n",
    "\n",
    "if __name__ == \"__main__\":\n",
    "    main()\n"
   ]
  },
  {
   "cell_type": "code",
   "execution_count": 4,
   "metadata": {},
   "outputs": [
    {
     "ename": "ValueError",
     "evalue": "invalid literal for int() with base 10: ''",
     "output_type": "error",
     "traceback": [
      "\u001b[1;31m---------------------------------------------------------------------------\u001b[0m",
      "\u001b[1;31mValueError\u001b[0m                                Traceback (most recent call last)",
      "Cell \u001b[1;32mIn[4], line 36\u001b[0m\n\u001b[0;32m     33\u001b[0m         \u001b[39mprint\u001b[39m(\u001b[39m\"\u001b[39m\u001b[39mSorry, you cannot retire yet.\u001b[39m\u001b[39m\"\u001b[39m)\n\u001b[0;32m     35\u001b[0m \u001b[39mif\u001b[39;00m \u001b[39m__name__\u001b[39m \u001b[39m==\u001b[39m \u001b[39m\"\u001b[39m\u001b[39m__main__\u001b[39m\u001b[39m\"\u001b[39m:\n\u001b[1;32m---> 36\u001b[0m     main()\n",
      "Cell \u001b[1;32mIn[4], line 19\u001b[0m, in \u001b[0;36mmain\u001b[1;34m()\u001b[0m\n\u001b[0;32m     18\u001b[0m \u001b[39mdef\u001b[39;00m \u001b[39mmain\u001b[39m():\n\u001b[1;32m---> 19\u001b[0m     birth_year \u001b[39m=\u001b[39m \u001b[39mint\u001b[39;49m(\u001b[39minput\u001b[39;49m(\u001b[39m\"\u001b[39;49m\u001b[39mEnter your birth year: \u001b[39;49m\u001b[39m\"\u001b[39;49m))\n\u001b[0;32m     20\u001b[0m     birth_month \u001b[39m=\u001b[39m \u001b[39mint\u001b[39m(\u001b[39minput\u001b[39m(\u001b[39m\"\u001b[39m\u001b[39mEnter your birth month (1-12): \u001b[39m\u001b[39m\"\u001b[39m))\n\u001b[0;32m     21\u001b[0m     birth_day \u001b[39m=\u001b[39m \u001b[39mint\u001b[39m(\u001b[39minput\u001b[39m(\u001b[39m\"\u001b[39m\u001b[39mEnter your birth day (1-31): \u001b[39m\u001b[39m\"\u001b[39m))\n",
      "\u001b[1;31mValueError\u001b[0m: invalid literal for int() with base 10: ''"
     ]
    }
   ],
   "source": [
    "def get_age(year, month, day):\n",
    "    current_year = 2023\n",
    "    current_month = 8  # Assuming the current month is August\n",
    "\n",
    "    age = current_year - year\n",
    "    if current_month < month or (current_month == month and day < 1):\n",
    "        age -= 1\n",
    "\n",
    "    return age\n",
    "\n",
    "def can_retire(gender, date_of_birth):\n",
    "    birth_year, birth_month, birth_day = date_of_birth\n",
    "    age = get_age(birth_year, birth_month, birth_day)\n",
    "\n",
    "    retirement_age = 67 if gender == \"male\" else 62\n",
    "    return age >= retirement_age\n",
    "\n",
    "def main():\n",
    "    birth_year = int(input(\"Enter your birth year: \"))\n",
    "    birth_month = int(input(\"Enter your birth month (1-12): \"))\n",
    "    birth_day = int(input(\"Enter your birth day (1-31): \"))\n",
    "    gender = input(\"Enter your gender (male or female): \").lower()\n",
    "\n",
    "    if gender not in [\"male\", \"female\"]:\n",
    "        print(\"Invalid gender. Please enter 'male' or 'female'.\")\n",
    "        return\n",
    "\n",
    "    date_of_birth = (birth_year, birth_month, birth_day)\n",
    "\n",
    "    if can_retire(gender, date_of_birth):\n",
    "        print(\"Congratulations! You can retire.\")\n",
    "    else:\n",
    "        print(\"Sorry, you cannot retire yet.\")\n",
    "\n",
    "if __name__ == \"__main__\":\n",
    "    main()\n"
   ]
  },
  {
   "cell_type": "code",
   "execution_count": 5,
   "metadata": {},
   "outputs": [
    {
     "ename": "ValueError",
     "evalue": "invalid literal for int() with base 10: ''",
     "output_type": "error",
     "traceback": [
      "\u001b[1;31m---------------------------------------------------------------------------\u001b[0m",
      "\u001b[1;31mValueError\u001b[0m                                Traceback (most recent call last)",
      "Cell \u001b[1;32mIn[5], line 36\u001b[0m\n\u001b[0;32m     33\u001b[0m         \u001b[39mprint\u001b[39m(\u001b[39m\"\u001b[39m\u001b[39mSorry, you cannot retire yet.\u001b[39m\u001b[39m\"\u001b[39m)\n\u001b[0;32m     35\u001b[0m \u001b[39mif\u001b[39;00m \u001b[39m__name__\u001b[39m \u001b[39m==\u001b[39m \u001b[39m\"\u001b[39m\u001b[39m__main__\u001b[39m\u001b[39m\"\u001b[39m:\n\u001b[1;32m---> 36\u001b[0m     main()\n",
      "Cell \u001b[1;32mIn[5], line 19\u001b[0m, in \u001b[0;36mmain\u001b[1;34m()\u001b[0m\n\u001b[0;32m     18\u001b[0m \u001b[39mdef\u001b[39;00m \u001b[39mmain\u001b[39m():\n\u001b[1;32m---> 19\u001b[0m     birth_year \u001b[39m=\u001b[39m \u001b[39mint\u001b[39;49m(\u001b[39minput\u001b[39;49m(\u001b[39m\"\u001b[39;49m\u001b[39mEnter your birth year: \u001b[39;49m\u001b[39m\"\u001b[39;49m))\n\u001b[0;32m     20\u001b[0m     birth_month \u001b[39m=\u001b[39m \u001b[39mint\u001b[39m(\u001b[39minput\u001b[39m(\u001b[39m\"\u001b[39m\u001b[39mEnter your birth month (1-12): \u001b[39m\u001b[39m\"\u001b[39m))\n\u001b[0;32m     21\u001b[0m     birth_day \u001b[39m=\u001b[39m \u001b[39mint\u001b[39m(\u001b[39minput\u001b[39m(\u001b[39m\"\u001b[39m\u001b[39mEnter your birth day (1-31): \u001b[39m\u001b[39m\"\u001b[39m))\n",
      "\u001b[1;31mValueError\u001b[0m: invalid literal for int() with base 10: ''"
     ]
    }
   ],
   "source": [
    "def get_age(year, month, day):\n",
    "    current_year = 2023\n",
    "    current_month = 8  # August\n",
    "\n",
    "    age = current_year - year\n",
    "    if current_month < month or (current_month == month and day < 1):\n",
    "        age -= 1\n",
    "\n",
    "    return age\n",
    "\n",
    "def can_retire(gender, date_of_birth):\n",
    "    birth_year, birth_month, birth_day = date_of_birth\n",
    "    age = get_age(birth_year, birth_month, birth_day)\n",
    "\n",
    "    retirement_age = 67 if gender == \"male\" else 62\n",
    "    return age >= retirement_age\n",
    "\n",
    "def main():\n",
    "    birth_year = int(input(\"Enter your birth year: \"))\n",
    "    birth_month = int(input(\"Enter your birth month (1-12): \"))\n",
    "    birth_day = int(input(\"Enter your birth day (1-31): \"))\n",
    "    gender = input(\"Enter your gender (male or female): \").lower()\n",
    "\n",
    "    if gender not in [\"male\", \"female\"]:\n",
    "        print(\"Invalid gender. Please enter 'male' or 'female'.\")\n",
    "        return\n",
    "\n",
    "    date_of_birth = (birth_year, birth_month, birth_day)\n",
    "\n",
    "    if can_retire(gender, date_of_birth):\n",
    "        print(\"Congratulations! You can retire.\")\n",
    "    else:\n",
    "        print(\"Sorry, you cannot retire yet.\")\n",
    "\n",
    "if __name__ == \"__main__\":\n",
    "    main()\n"
   ]
  },
  {
   "cell_type": "code",
   "execution_count": 6,
   "metadata": {},
   "outputs": [
    {
     "ename": "ValueError",
     "evalue": "invalid literal for int() with base 10: ''",
     "output_type": "error",
     "traceback": [
      "\u001b[1;31m---------------------------------------------------------------------------\u001b[0m",
      "\u001b[1;31mValueError\u001b[0m                                Traceback (most recent call last)",
      "Cell \u001b[1;32mIn[6], line 36\u001b[0m\n\u001b[0;32m     33\u001b[0m         \u001b[39mprint\u001b[39m(\u001b[39m\"\u001b[39m\u001b[39mSorry, you cannot retire yet.\u001b[39m\u001b[39m\"\u001b[39m)\n\u001b[0;32m     35\u001b[0m \u001b[39mif\u001b[39;00m \u001b[39m__name__\u001b[39m \u001b[39m==\u001b[39m \u001b[39m\"\u001b[39m\u001b[39m__main__\u001b[39m\u001b[39m\"\u001b[39m:\n\u001b[1;32m---> 36\u001b[0m     main()\n",
      "Cell \u001b[1;32mIn[6], line 19\u001b[0m, in \u001b[0;36mmain\u001b[1;34m()\u001b[0m\n\u001b[0;32m     18\u001b[0m \u001b[39mdef\u001b[39;00m \u001b[39mmain\u001b[39m():\n\u001b[1;32m---> 19\u001b[0m     birth_year \u001b[39m=\u001b[39m \u001b[39mint\u001b[39;49m(\u001b[39minput\u001b[39;49m(\u001b[39m\"\u001b[39;49m\u001b[39mEnter your birth year: \u001b[39;49m\u001b[39m\"\u001b[39;49m))\n\u001b[0;32m     20\u001b[0m     birth_month \u001b[39m=\u001b[39m \u001b[39mint\u001b[39m(\u001b[39minput\u001b[39m(\u001b[39m\"\u001b[39m\u001b[39mEnter your birth month (1-12): \u001b[39m\u001b[39m\"\u001b[39m))\n\u001b[0;32m     21\u001b[0m     birth_day \u001b[39m=\u001b[39m \u001b[39mint\u001b[39m(\u001b[39minput\u001b[39m(\u001b[39m\"\u001b[39m\u001b[39mEnter your birth day (1-31): \u001b[39m\u001b[39m\"\u001b[39m))\n",
      "\u001b[1;31mValueError\u001b[0m: invalid literal for int() with base 10: ''"
     ]
    }
   ],
   "source": [
    "def get_age(year, month, day):\n",
    "    current_year = 2023\n",
    "    current_month = 8  # August\n",
    "\n",
    "    age = current_year - year\n",
    "    if current_month < month or (current_month == month and day < 1):\n",
    "        age -= 1\n",
    "\n",
    "    return age\n",
    "\n",
    "def can_retire(gender, date_of_birth):\n",
    "    birth_year, birth_month, birth_day = date_of_birth\n",
    "    age = get_age(birth_year, birth_month, birth_day)\n",
    "\n",
    "    retirement_age = 67 if gender == \"male\" else 62\n",
    "    return age >= retirement_age\n",
    "\n",
    "def main():\n",
    "    birth_year = int(input(\"Enter your birth year: \"))\n",
    "    birth_month = int(input(\"Enter your birth month (1-12): \"))\n",
    "    birth_day = int(input(\"Enter your birth day (1-31): \"))\n",
    "    gender = input(\"Enter your gender (male or female): \").lower()\n",
    "\n",
    "    if gender not in [\"male\", \"female\"]:\n",
    "        print(\"Invalid gender. Please enter 'male' or 'female'.\")\n",
    "        return\n",
    "\n",
    "    date_of_birth = (birth_year, birth_month, birth_day)\n",
    "\n",
    "    if can_retire(gender, date_of_birth):\n",
    "        print(\"Congratulations! You can retire.\")\n",
    "    else:\n",
    "        print(\"Sorry, you cannot retire yet.\")\n",
    "\n",
    "if __name__ == \"__main__\":\n",
    "    main()\n"
   ]
  }
 ],
 "metadata": {
  "kernelspec": {
   "display_name": "Python 3",
   "language": "python",
   "name": "python3"
  },
  "language_info": {
   "codemirror_mode": {
    "name": "ipython",
    "version": 3
   },
   "file_extension": ".py",
   "mimetype": "text/x-python",
   "name": "python",
   "nbconvert_exporter": "python",
   "pygments_lexer": "ipython3",
   "version": "3.11.4"
  },
  "orig_nbformat": 4
 },
 "nbformat": 4,
 "nbformat_minor": 2
}
