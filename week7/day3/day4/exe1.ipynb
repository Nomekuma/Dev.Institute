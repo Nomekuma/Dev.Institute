{
 "cells": [
  {
   "cell_type": "code",
   "execution_count": 1,
   "metadata": {},
   "outputs": [],
   "source": [
    "import random\n",
    "\n",
    "def get_random_temp():\n",
    "    return random.randint(-10, 40)\n"
   ]
  },
  {
   "cell_type": "code",
   "execution_count": 2,
   "metadata": {},
   "outputs": [
    {
     "name": "stdout",
     "output_type": "stream",
     "text": [
      "Random Temperature: 39 °C\n"
     ]
    }
   ],
   "source": [
    "random_temperature = get_random_temp()\n",
    "print(\"Random Temperature:\", random_temperature, \"°C\")\n"
   ]
  },
  {
   "cell_type": "code",
   "execution_count": 3,
   "metadata": {},
   "outputs": [
    {
     "name": "stdout",
     "output_type": "stream",
     "text": [
      "Random Temperature: 23 °C (Within the range)\n",
      "Random Temperature: 35 °C (Within the range)\n",
      "Random Temperature: 5 °C (Within the range)\n",
      "Random Temperature: -9 °C (Within the range)\n",
      "Random Temperature: 27 °C (Within the range)\n",
      "Random Temperature: 35 °C (Within the range)\n",
      "Random Temperature: 38 °C (Within the range)\n",
      "Random Temperature: 17 °C (Within the range)\n",
      "Random Temperature: 31 °C (Within the range)\n",
      "Random Temperature: 33 °C (Within the range)\n"
     ]
    }
   ],
   "source": [
    "def get_random_temp():\n",
    "    return random.randint(-10, 40)\n",
    "\n",
    "# Test the function multiple times\n",
    "num_tests = 10\n",
    "\n",
    "for _ in range(num_tests):\n",
    "    random_temperature = get_random_temp()\n",
    "    if -10 <= random_temperature <= 40:\n",
    "        print(f\"Random Temperature: {random_temperature} °C (Within the range)\")\n",
    "    else:\n",
    "        print(f\"Random Temperature: {random_temperature} °C (Outside the range)\")\n"
   ]
  },
  {
   "cell_type": "code",
   "execution_count": 4,
   "metadata": {},
   "outputs": [
    {
     "name": "stdout",
     "output_type": "stream",
     "text": [
      "Random Temperature: -1 °C\n"
     ]
    }
   ],
   "source": [
    "import random\n",
    "\n",
    "def get_random_temp():\n",
    "    return random.randint(-10, 40)\n",
    "\n",
    "def main():\n",
    "    # Your main program logic here\n",
    "    random_temperature = get_random_temp()\n",
    "    print(\"Random Temperature:\", random_temperature, \"°C\")\n",
    "\n",
    "if __name__ == \"__main__\":\n",
    "    main()\n"
   ]
  },
  {
   "cell_type": "code",
   "execution_count": 5,
   "metadata": {},
   "outputs": [
    {
     "name": "stdout",
     "output_type": "stream",
     "text": [
      "Random Temperature: 34 °C\n"
     ]
    }
   ],
   "source": [
    "import random\n",
    "\n",
    "def get_random_temp():\n",
    "    return random.randint(-10, 40)\n",
    "\n",
    "def main():\n",
    "    # Call get_random_temp() to get a temperature and store its value in a variable\n",
    "    random_temperature = get_random_temp()\n",
    "    print(\"Random Temperature:\", random_temperature, \"°C\")\n",
    "\n",
    "if __name__ == \"__main__\":\n",
    "    main()\n"
   ]
  },
  {
   "cell_type": "code",
   "execution_count": 6,
   "metadata": {},
   "outputs": [
    {
     "name": "stdout",
     "output_type": "stream",
     "text": [
      "The temperature right now is 38 degrees Celsius.\n"
     ]
    }
   ],
   "source": [
    "import random\n",
    "\n",
    "def get_random_temp():\n",
    "    return random.randint(-10, 40)\n",
    "\n",
    "def main():\n",
    "    # Call get_random_temp() to get a temperature and store its value in a variable\n",
    "    random_temperature = get_random_temp()\n",
    "    print(\"The temperature right now is\", random_temperature, \"degrees Celsius.\")\n",
    "\n",
    "if __name__ == \"__main__\":\n",
    "    main()\n"
   ]
  },
  {
   "cell_type": "code",
   "execution_count": 7,
   "metadata": {},
   "outputs": [
    {
     "name": "stdout",
     "output_type": "stream",
     "text": [
      "The temperature right now is 21 degrees Celsius.\n",
      "It's warm outside. Stay hydrated and wear sunscreen.\n"
     ]
    }
   ],
   "source": [
    "import random\n",
    "\n",
    "def get_random_temp():\n",
    "    return random.randint(-10, 40)\n",
    "\n",
    "def main():\n",
    "    # Call get_random_temp() to get a temperature and store its value in a variable\n",
    "    random_temperature = get_random_temp()\n",
    "\n",
    "    # Inform the user of the temperature in a friendly message\n",
    "    print(\"The temperature right now is\", random_temperature, \"degrees Celsius.\")\n",
    "\n",
    "    # Provide friendly advice based on the temperature\n",
    "    if random_temperature < 0:\n",
    "        print(\"Brrr, that's freezing! Wear some extra layers today.\")\n",
    "    elif random_temperature < 10:\n",
    "        print(\"It's a bit chilly outside. Consider bringing a light jacket.\")\n",
    "    elif random_temperature < 20:\n",
    "        print(\"The weather is pleasant. Enjoy your day!\")\n",
    "    else:\n",
    "        print(\"It's warm outside. Stay hydrated and wear sunscreen.\")\n",
    "\n",
    "if __name__ == \"__main__\":\n",
    "    main()\n"
   ]
  },
  {
   "cell_type": "code",
   "execution_count": 8,
   "metadata": {},
   "outputs": [
    {
     "name": "stdout",
     "output_type": "stream",
     "text": [
      "The temperature right now is 30 degrees Celsius.\n",
      "It's warm outside. Stay hydrated and wear sunscreen.\n"
     ]
    }
   ],
   "source": [
    "import random\n",
    "\n",
    "def get_random_temp():\n",
    "    return random.randint(-10, 40)\n",
    "\n",
    "def main():\n",
    "    # Call get_random_temp() to get a temperature and store its value in a variable\n",
    "    random_temperature = get_random_temp()\n",
    "\n",
    "    # Inform the user of the temperature in a friendly message\n",
    "    print(\"The temperature right now is\", random_temperature, \"degrees Celsius.\")\n",
    "\n",
    "    # Provide friendly advice based on the temperature\n",
    "    if random_temperature < 0:\n",
    "        print(\"Brrr, that's freezing! Wear some extra layers today.\")\n",
    "    elif 0 <= random_temperature < 10:\n",
    "        print(\"Quite chilly! Don't forget your coat.\")\n",
    "    elif 10 <= random_temperature < 20:\n",
    "        print(\"The weather is pleasant. Enjoy your day!\")\n",
    "    else:\n",
    "        print(\"It's warm outside. Stay hydrated and wear sunscreen.\")\n",
    "\n",
    "if __name__ == \"__main__\":\n",
    "    main()\n"
   ]
  },
  {
   "cell_type": "code",
   "execution_count": 9,
   "metadata": {},
   "outputs": [
    {
     "name": "stdout",
     "output_type": "stream",
     "text": [
      "The temperature right now is 2 degrees Celsius.\n",
      "Quite chilly! Don't forget your coat.\n"
     ]
    }
   ],
   "source": [
    "import random\n",
    "\n",
    "def get_random_temp():\n",
    "    return random.randint(-10, 40)\n",
    "\n",
    "def main():\n",
    "    # Call get_random_temp() to get a temperature and store its value in a variable\n",
    "    random_temperature = get_random_temp()\n",
    "\n",
    "    # Inform the user of the temperature in a friendly message\n",
    "    print(\"The temperature right now is\", random_temperature, \"degrees Celsius.\")\n",
    "\n",
    "    # Provide friendly advice based on the temperature\n",
    "    if random_temperature < 0:\n",
    "        print(\"Brrr, that's freezing! Wear some extra layers today.\")\n",
    "    elif 0 <= random_temperature < 10:\n",
    "        print(\"Quite chilly! Don't forget your coat.\")\n",
    "    elif 10 <= random_temperature < 16:\n",
    "        print(\"It's a bit cool outside. Bring a light jacket.\")\n",
    "    elif 16 <= random_temperature < 23:\n",
    "        print(\"The weather is pleasant. Enjoy your day!\")\n",
    "    else:\n",
    "        print(\"It's warm outside. Stay hydrated and wear sunscreen.\")\n",
    "\n",
    "if __name__ == \"__main__\":\n",
    "    main()\n"
   ]
  },
  {
   "cell_type": "code",
   "execution_count": 10,
   "metadata": {},
   "outputs": [
    {
     "name": "stdout",
     "output_type": "stream",
     "text": [
      "The temperature right now is 39 degrees Celsius.\n",
      "It's hot outside. Stay cool and find some shade.\n"
     ]
    }
   ],
   "source": [
    "import random\n",
    "\n",
    "def get_random_temp():\n",
    "    return random.randint(-10, 40)\n",
    "\n",
    "def main():\n",
    "    # Call get_random_temp() to get a temperature and store its value in a variable\n",
    "    random_temperature = get_random_temp()\n",
    "\n",
    "    # Inform the user of the temperature in a friendly message\n",
    "    print(\"The temperature right now is\", random_temperature, \"degrees Celsius.\")\n",
    "\n",
    "    # Provide friendly advice based on the temperature\n",
    "    if random_temperature < 0:\n",
    "        print(\"Brrr, that's freezing! Wear some extra layers today.\")\n",
    "    elif 0 <= random_temperature < 10:\n",
    "        print(\"Quite chilly! Don't forget your coat.\")\n",
    "    elif 10 <= random_temperature < 16:\n",
    "        print(\"It's a bit cool outside. Bring a light jacket.\")\n",
    "    elif 16 <= random_temperature < 23:\n",
    "        print(\"The weather is pleasant. Enjoy your day!\")\n",
    "    elif 24 <= random_temperature < 32:\n",
    "        print(\"It's getting warm. Stay cool and hydrated.\")\n",
    "    else:\n",
    "        print(\"It's hot outside. Stay cool and find some shade.\")\n",
    "\n",
    "if __name__ == \"__main__\":\n",
    "    main()\n"
   ]
  },
  {
   "cell_type": "code",
   "execution_count": 11,
   "metadata": {},
   "outputs": [
    {
     "name": "stdout",
     "output_type": "stream",
     "text": [
      "The temperature right now is 19 degrees Celsius.\n",
      "The weather is pleasant. Enjoy your day!\n"
     ]
    }
   ],
   "source": [
    "import random\n",
    "\n",
    "def get_random_temp():\n",
    "    return random.randint(-10, 40)\n",
    "\n",
    "def main():\n",
    "    # Call get_random_temp() to get a temperature and store its value in a variable\n",
    "    random_temperature = get_random_temp()\n",
    "\n",
    "    # Inform the user of the temperature in a friendly message\n",
    "    print(\"The temperature right now is\", random_temperature, \"degrees Celsius.\")\n",
    "\n",
    "    # Provide friendly advice based on the temperature\n",
    "    if random_temperature < 0:\n",
    "        print(\"Brrr, that's freezing! Wear some extra layers today.\")\n",
    "    elif 0 <= random_temperature < 10:\n",
    "        print(\"Quite chilly! Don't forget your coat.\")\n",
    "    elif 10 <= random_temperature < 16:\n",
    "        print(\"It's a bit cool outside. Bring a light jacket.\")\n",
    "    elif 16 <= random_temperature < 23:\n",
    "        print(\"The weather is pleasant. Enjoy your day!\")\n",
    "    elif 24 <= random_temperature < 32:\n",
    "        print(\"It's getting warm. Stay cool and hydrated.\")\n",
    "    elif 32 <= random_temperature < 40:\n",
    "        print(\"It's hot outside. Stay cool and find some shade.\")\n",
    "    else:\n",
    "        print(\"It's scorching hot! Stay indoors and keep yourself cool.\")\n",
    "\n",
    "if __name__ == \"__main__\":\n",
    "    main()\n"
   ]
  },
  {
   "cell_type": "code",
   "execution_count": 12,
   "metadata": {},
   "outputs": [],
   "source": [
    "import random\n",
    "\n",
    "def get_random_temp():\n",
    "    return round(random.uniform(-10.0, 40.0), 1)\n"
   ]
  },
  {
   "cell_type": "code",
   "execution_count": 13,
   "metadata": {},
   "outputs": [],
   "source": [
    "import random\n",
    "\n",
    "def get_random_temp(season):\n",
    "    if season == \"winter\":\n",
    "        return round(random.uniform(-10.0, 10.0), 1)\n",
    "    elif season == \"spring\":\n",
    "        return round(random.uniform(5.0, 20.0), 1)\n",
    "    elif season == \"summer\":\n",
    "        return round(random.uniform(20.0, 40.0), 1)\n",
    "    elif season == \"autumn\" or season == \"fall\":\n",
    "        return round(random.uniform(10.0, 25.0), 1)\n",
    "    else:\n",
    "        raise ValueError(\"Invalid season. Please choose one of: winter, spring, summer, autumn (or fall).\")\n"
   ]
  },
  {
   "cell_type": "code",
   "execution_count": 14,
   "metadata": {},
   "outputs": [
    {
     "name": "stdout",
     "output_type": "stream",
     "text": [
      "The temperature right now is 34.1 degrees Celsius.\n"
     ]
    }
   ],
   "source": [
    "random_temperature = get_random_temp(\"summer\")\n",
    "print(\"The temperature right now is\", random_temperature, \"degrees Celsius.\")\n"
   ]
  },
  {
   "cell_type": "code",
   "execution_count": 15,
   "metadata": {},
   "outputs": [],
   "source": [
    "import random\n",
    "\n",
    "def get_random_temp(season):\n",
    "    if season == \"winter\":\n",
    "        return round(random.uniform(-10.0, 16.0), 1)\n",
    "    elif season == \"spring\":\n",
    "        return round(random.uniform(5.0, 20.0), 1)\n",
    "    elif season == \"summer\":\n",
    "        return round(random.uniform(20.0, 40.0), 1)\n",
    "    elif season == \"autumn\" or season == \"fall\":\n",
    "        return round(random.uniform(10.0, 25.0), 1)\n",
    "    else:\n",
    "        raise ValueError(\"Invalid season. Please choose one of: winter, spring, summer, autumn (or fall).\")\n"
   ]
  },
  {
   "cell_type": "code",
   "execution_count": 16,
   "metadata": {},
   "outputs": [
    {
     "name": "stdout",
     "output_type": "stream",
     "text": [
      "The temperature right now is -0.1 degrees Celsius.\n"
     ]
    }
   ],
   "source": [
    "random_temperature = get_random_temp(\"winter\")\n",
    "print(\"The temperature right now is\", random_temperature, \"degrees Celsius.\")\n"
   ]
  },
  {
   "cell_type": "code",
   "execution_count": 19,
   "metadata": {},
   "outputs": [
    {
     "name": "stdout",
     "output_type": "stream",
     "text": [
      "Invalid season. Please choose one of: winter, spring, summer, autumn (or fall).\n"
     ]
    }
   ],
   "source": [
    "import random\n",
    "\n",
    "def get_random_temp(season):\n",
    "    if season == \"winter\":\n",
    "        return round(random.uniform(-10.0, 16.0), 1)\n",
    "    elif season == \"spring\":\n",
    "        return round(random.uniform(5.0, 20.0), 1)\n",
    "    elif season == \"summer\":\n",
    "        return round(random.uniform(20.0, 40.0), 1)\n",
    "    elif season == \"autumn\" or season == \"fall\":\n",
    "        return round(random.uniform(10.0, 25.0), 1)\n",
    "    else:\n",
    "        raise ValueError(\"Invalid season. Please choose one of: winter, spring, summer, autumn (or fall).\")\n",
    "\n",
    "def main():\n",
    "    # Ask the user to input a season\n",
    "    season = input(\"Please enter a season (summer, autumn, winter, or spring): \")\n",
    "\n",
    "    try:\n",
    "        # Call get_random_temp() with the user-provided season\n",
    "        random_temperature = get_random_temp(season)\n",
    "\n",
    "        # Inform the user of the temperature in a friendly message\n",
    "        print(\"The temperature right now is\", random_temperature, \"degrees Celsius.\")\n",
    "    except ValueError as e:\n",
    "        print(e)\n",
    "\n",
    "if __name__ == \"__main__\":\n",
    "    main()\n"
   ]
  },
  {
   "cell_type": "code",
   "execution_count": 20,
   "metadata": {},
   "outputs": [
    {
     "ename": "ValueError",
     "evalue": "Invalid season. Please choose one of: winter, spring, summer, autumn (or fall).",
     "output_type": "error",
     "traceback": [
      "\u001b[1;31m---------------------------------------------------------------------------\u001b[0m",
      "\u001b[1;31mValueError\u001b[0m                                Traceback (most recent call last)",
      "Cell \u001b[1;32mIn[20], line 26\u001b[0m\n\u001b[0;32m     23\u001b[0m     \u001b[39mprint\u001b[39m(\u001b[39m\"\u001b[39m\u001b[39mThe temperature right now is\u001b[39m\u001b[39m\"\u001b[39m, random_temperature, \u001b[39m\"\u001b[39m\u001b[39mdegrees Celsius.\u001b[39m\u001b[39m\"\u001b[39m)\n\u001b[0;32m     25\u001b[0m \u001b[39mif\u001b[39;00m \u001b[39m__name__\u001b[39m \u001b[39m==\u001b[39m \u001b[39m\"\u001b[39m\u001b[39m__main__\u001b[39m\u001b[39m\"\u001b[39m:\n\u001b[1;32m---> 26\u001b[0m     main()\n",
      "Cell \u001b[1;32mIn[20], line 20\u001b[0m, in \u001b[0;36mmain\u001b[1;34m()\u001b[0m\n\u001b[0;32m     17\u001b[0m season \u001b[39m=\u001b[39m \u001b[39minput\u001b[39m(\u001b[39m\"\u001b[39m\u001b[39mPlease enter a season (summer, autumn, winter, or spring): \u001b[39m\u001b[39m\"\u001b[39m)\n\u001b[0;32m     19\u001b[0m \u001b[39m# Call get_random_temp() with the user-provided season\u001b[39;00m\n\u001b[1;32m---> 20\u001b[0m random_temperature \u001b[39m=\u001b[39m get_random_temp(season)\n\u001b[0;32m     22\u001b[0m \u001b[39m# Inform the user of the temperature in a friendly message\u001b[39;00m\n\u001b[0;32m     23\u001b[0m \u001b[39mprint\u001b[39m(\u001b[39m\"\u001b[39m\u001b[39mThe temperature right now is\u001b[39m\u001b[39m\"\u001b[39m, random_temperature, \u001b[39m\"\u001b[39m\u001b[39mdegrees Celsius.\u001b[39m\u001b[39m\"\u001b[39m)\n",
      "Cell \u001b[1;32mIn[20], line 13\u001b[0m, in \u001b[0;36mget_random_temp\u001b[1;34m(season)\u001b[0m\n\u001b[0;32m     11\u001b[0m     \u001b[39mreturn\u001b[39;00m \u001b[39mround\u001b[39m(random\u001b[39m.\u001b[39muniform(\u001b[39m10.0\u001b[39m, \u001b[39m25.0\u001b[39m), \u001b[39m1\u001b[39m)\n\u001b[0;32m     12\u001b[0m \u001b[39melse\u001b[39;00m:\n\u001b[1;32m---> 13\u001b[0m     \u001b[39mraise\u001b[39;00m \u001b[39mValueError\u001b[39;00m(\u001b[39m\"\u001b[39m\u001b[39mInvalid season. Please choose one of: winter, spring, summer, autumn (or fall).\u001b[39m\u001b[39m\"\u001b[39m)\n",
      "\u001b[1;31mValueError\u001b[0m: Invalid season. Please choose one of: winter, spring, summer, autumn (or fall)."
     ]
    }
   ],
   "source": [
    "import random\n",
    "\n",
    "def get_random_temp(season):\n",
    "    if season == \"winter\":\n",
    "        return round(random.uniform(-10.0, 16.0), 1)\n",
    "    elif season == \"spring\":\n",
    "        return round(random.uniform(5.0, 20.0), 1)\n",
    "    elif season == \"summer\":\n",
    "        return round(random.uniform(20.0, 40.0), 1)\n",
    "    elif season == \"autumn\" or season == \"fall\":\n",
    "        return round(random.uniform(10.0, 25.0), 1)\n",
    "    else:\n",
    "        raise ValueError(\"Invalid season. Please choose one of: winter, spring, summer, autumn (or fall).\")\n",
    "\n",
    "def main():\n",
    "    # Ask the user to input a season\n",
    "    season = input(\"Please enter a season (summer, autumn, winter, or spring): \")\n",
    "\n",
    "    # Call get_random_temp() with the user-provided season\n",
    "    random_temperature = get_random_temp(season)\n",
    "\n",
    "    # Inform the user of the temperature in a friendly message\n",
    "    print(\"The temperature right now is\", random_temperature, \"degrees Celsius.\")\n",
    "\n",
    "if __name__ == \"__main__\":\n",
    "    main()\n"
   ]
  },
  {
   "cell_type": "code",
   "execution_count": 21,
   "metadata": {},
   "outputs": [
    {
     "ename": "ValueError",
     "evalue": "Invalid season. Please choose one of: winter, spring, summer, autumn (or fall).",
     "output_type": "error",
     "traceback": [
      "\u001b[1;31m---------------------------------------------------------------------------\u001b[0m",
      "\u001b[1;31mValueError\u001b[0m                                Traceback (most recent call last)",
      "Cell \u001b[1;32mIn[21], line 26\u001b[0m\n\u001b[0;32m     23\u001b[0m     \u001b[39mprint\u001b[39m(\u001b[39m\"\u001b[39m\u001b[39mThe temperature right now is\u001b[39m\u001b[39m\"\u001b[39m, random_temperature, \u001b[39m\"\u001b[39m\u001b[39mdegrees Celsius.\u001b[39m\u001b[39m\"\u001b[39m)\n\u001b[0;32m     25\u001b[0m \u001b[39mif\u001b[39;00m \u001b[39m__name__\u001b[39m \u001b[39m==\u001b[39m \u001b[39m\"\u001b[39m\u001b[39m__main__\u001b[39m\u001b[39m\"\u001b[39m:\n\u001b[1;32m---> 26\u001b[0m     main()\n",
      "Cell \u001b[1;32mIn[21], line 20\u001b[0m, in \u001b[0;36mmain\u001b[1;34m()\u001b[0m\n\u001b[0;32m     17\u001b[0m season \u001b[39m=\u001b[39m \u001b[39minput\u001b[39m(\u001b[39m\"\u001b[39m\u001b[39mPlease enter a season (summer, autumn, winter, or spring): \u001b[39m\u001b[39m\"\u001b[39m)\n\u001b[0;32m     19\u001b[0m \u001b[39m# Call get_random_temp() with the user-provided season\u001b[39;00m\n\u001b[1;32m---> 20\u001b[0m random_temperature \u001b[39m=\u001b[39m get_random_temp(season)\n\u001b[0;32m     22\u001b[0m \u001b[39m# Inform the user of the temperature in a friendly message\u001b[39;00m\n\u001b[0;32m     23\u001b[0m \u001b[39mprint\u001b[39m(\u001b[39m\"\u001b[39m\u001b[39mThe temperature right now is\u001b[39m\u001b[39m\"\u001b[39m, random_temperature, \u001b[39m\"\u001b[39m\u001b[39mdegrees Celsius.\u001b[39m\u001b[39m\"\u001b[39m)\n",
      "Cell \u001b[1;32mIn[21], line 13\u001b[0m, in \u001b[0;36mget_random_temp\u001b[1;34m(season)\u001b[0m\n\u001b[0;32m     11\u001b[0m     \u001b[39mreturn\u001b[39;00m \u001b[39mround\u001b[39m(random\u001b[39m.\u001b[39muniform(\u001b[39m10.0\u001b[39m, \u001b[39m25.0\u001b[39m), \u001b[39m1\u001b[39m)\n\u001b[0;32m     12\u001b[0m \u001b[39melse\u001b[39;00m:\n\u001b[1;32m---> 13\u001b[0m     \u001b[39mraise\u001b[39;00m \u001b[39mValueError\u001b[39;00m(\u001b[39m\"\u001b[39m\u001b[39mInvalid season. Please choose one of: winter, spring, summer, autumn (or fall).\u001b[39m\u001b[39m\"\u001b[39m)\n",
      "\u001b[1;31mValueError\u001b[0m: Invalid season. Please choose one of: winter, spring, summer, autumn (or fall)."
     ]
    }
   ],
   "source": [
    "import random\n",
    "\n",
    "def get_random_temp(season):\n",
    "    if season == \"winter\":\n",
    "        return round(random.uniform(-10.0, 16.0), 1)\n",
    "    elif season == \"spring\":\n",
    "        return round(random.uniform(5.0, 20.0), 1)\n",
    "    elif season == \"summer\":\n",
    "        return round(random.uniform(20.0, 40.0), 1)\n",
    "    elif season == \"autumn\" or season == \"fall\":\n",
    "        return round(random.uniform(10.0, 25.0), 1)\n",
    "    else:\n",
    "        raise ValueError(\"Invalid season. Please choose one of: winter, spring, summer, autumn (or fall).\")\n",
    "\n",
    "def main():\n",
    "    # Ask the user to input a season\n",
    "    season = input(\"Please enter a season (summer, autumn, winter, or spring): \")\n",
    "\n",
    "    # Call get_random_temp() with the user-provided season\n",
    "    random_temperature = get_random_temp(season)\n",
    "\n",
    "    # Inform the user of the temperature in a friendly message\n",
    "    print(\"The temperature right now is\", random_temperature, \"degrees Celsius.\")\n",
    "\n",
    "if __name__ == \"__main__\":\n",
    "    main()\n"
   ]
  },
  {
   "cell_type": "code",
   "execution_count": 22,
   "metadata": {},
   "outputs": [
    {
     "name": "stdout",
     "output_type": "stream",
     "text": [
      "invalid literal for int() with base 10: ''\n"
     ]
    }
   ],
   "source": [
    "import random\n",
    "\n",
    "def get_random_temp(season):\n",
    "    if season == \"winter\":\n",
    "        return round(random.uniform(-10.0, 16.0), 1)\n",
    "    elif season == \"spring\":\n",
    "        return round(random.uniform(5.0, 20.0), 1)\n",
    "    elif season == \"summer\":\n",
    "        return round(random.uniform(20.0, 40.0), 1)\n",
    "    elif season == \"autumn\" or season == \"fall\":\n",
    "        return round(random.uniform(10.0, 25.0), 1)\n",
    "    else:\n",
    "        raise ValueError(\"Invalid season. Please choose one of: winter, spring, summer, autumn (or fall).\")\n",
    "\n",
    "def get_season(month):\n",
    "    if month in [1, 2, 12]:\n",
    "        return \"winter\"\n",
    "    elif month in [3, 4, 5]:\n",
    "        return \"spring\"\n",
    "    elif month in [6, 7, 8]:\n",
    "        return \"summer\"\n",
    "    elif month in [9, 10, 11]:\n",
    "        return \"autumn\"\n",
    "    else:\n",
    "        raise ValueError(\"Invalid month. Please enter a number between 1 and 12.\")\n",
    "\n",
    "def main():\n",
    "    # Ask the user to input the number of the month (1 to 12)\n",
    "    try:\n",
    "        month = int(input(\"Please enter the number of the month (1 to 12): \"))\n",
    "        season = get_season(month)\n",
    "        random_temperature = get_random_temp(season)\n",
    "\n",
    "        # Inform the user of the temperature in a friendly message\n",
    "        print(\"The temperature right now is\", random_temperature, \"degrees Celsius.\")\n",
    "    except ValueError as e:\n",
    "        print(e)\n",
    "\n",
    "if __name__ == \"__main__\":\n",
    "    main()\n"
   ]
  }
 ],
 "metadata": {
  "kernelspec": {
   "display_name": "Python 3",
   "language": "python",
   "name": "python3"
  },
  "language_info": {
   "codemirror_mode": {
    "name": "ipython",
    "version": 3
   },
   "file_extension": ".py",
   "mimetype": "text/x-python",
   "name": "python",
   "nbconvert_exporter": "python",
   "pygments_lexer": "ipython3",
   "version": "3.11.4"
  },
  "orig_nbformat": 4
 },
 "nbformat": 4,
 "nbformat_minor": 2
}
