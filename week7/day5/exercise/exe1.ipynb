{
 "cells": [
  {
   "cell_type": "code",
   "execution_count": 1,
   "metadata": {},
   "outputs": [
    {
     "name": "stdout",
     "output_type": "stream",
     "text": [
      "Original List: [1, 2, 3, 5, 6]\n",
      "List after inserting 4 at index 3 : [1, 2, 3, 4, 5, 6]\n"
     ]
    }
   ],
   "source": [
    "def insert_item_at_index(lst, item, index):\n",
    "    lst.insert(index, item)\n",
    "\n",
    "def main():\n",
    "    my_list = [1, 2, 3, 5, 6]\n",
    "    item_to_insert = 4\n",
    "    insert_index = 3\n",
    "\n",
    "    print(\"Original List:\", my_list)\n",
    "    insert_item_at_index(my_list, item_to_insert, insert_index)\n",
    "    print(\"List after inserting\", item_to_insert, \"at index\", insert_index, \":\", my_list)\n",
    "\n",
    "if __name__ == \"__main__\":\n",
    "    main()\n"
   ]
  }
 ],
 "metadata": {
  "kernelspec": {
   "display_name": "Python 3",
   "language": "python",
   "name": "python3"
  },
  "language_info": {
   "codemirror_mode": {
    "name": "ipython",
    "version": 3
   },
   "file_extension": ".py",
   "mimetype": "text/x-python",
   "name": "python",
   "nbconvert_exporter": "python",
   "pygments_lexer": "ipython3",
   "version": "3.11.4"
  },
  "orig_nbformat": 4
 },
 "nbformat": 4,
 "nbformat_minor": 2
}
