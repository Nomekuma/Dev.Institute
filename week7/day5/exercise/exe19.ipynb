{
 "cells": [
  {
   "cell_type": "code",
   "execution_count": 1,
   "metadata": {},
   "outputs": [
    {
     "name": "stdout",
     "output_type": "stream",
     "text": [
      "['This', 'is', 'a', 'test', 'sentence']\n",
      "['Thi', ' i', ' a te', 't ', 'entence']\n"
     ]
    }
   ],
   "source": [
    "def custom_split(input_string, separator=None):\n",
    "    if separator is None:\n",
    "        return input_string.split()\n",
    "    else:\n",
    "        return input_string.split(separator)\n",
    "\n",
    "# Test the function\n",
    "sentence = \"This is a test sentence\"\n",
    "result1 = custom_split(sentence)\n",
    "result2 = custom_split(sentence, \"s\")\n",
    "\n",
    "print(result1)  # Output: ['This', 'is', 'a', 'test', 'sentence']\n",
    "print(result2)  # Output: ['Thi', ' i', ' a te', 't ', 'entence']\n"
   ]
  }
 ],
 "metadata": {
  "kernelspec": {
   "display_name": "Python 3",
   "language": "python",
   "name": "python3"
  },
  "language_info": {
   "codemirror_mode": {
    "name": "ipython",
    "version": 3
   },
   "file_extension": ".py",
   "mimetype": "text/x-python",
   "name": "python",
   "nbconvert_exporter": "python",
   "pygments_lexer": "ipython3",
   "version": "3.11.4"
  },
  "orig_nbformat": 4
 },
 "nbformat": 4,
 "nbformat_minor": 2
}
