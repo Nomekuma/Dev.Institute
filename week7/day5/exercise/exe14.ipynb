{
 "cells": [
  {
   "cell_type": "code",
   "execution_count": 1,
   "metadata": {},
   "outputs": [
    {
     "name": "stdout",
     "output_type": "stream",
     "text": [
      "3.0\n"
     ]
    }
   ],
   "source": [
    "def dict_avg(input_dict):\n",
    "    values = list(input_dict.values())\n",
    "    total_sum = sum(values)\n",
    "    avg = total_sum / len(values)\n",
    "    return avg\n",
    "\n",
    "# Test the function\n",
    "result = dict_avg({'a': 1, 'b': 2, 'c': 8, 'd': 1})\n",
    "print(result)  # Output: 3.0\n"
   ]
  }
 ],
 "metadata": {
  "kernelspec": {
   "display_name": "Python 3",
   "language": "python",
   "name": "python3"
  },
  "language_info": {
   "codemirror_mode": {
    "name": "ipython",
    "version": 3
   },
   "file_extension": ".py",
   "mimetype": "text/x-python",
   "name": "python",
   "nbconvert_exporter": "python",
   "pygments_lexer": "ipython3",
   "version": "3.11.4"
  },
  "orig_nbformat": 4
 },
 "nbformat": 4,
 "nbformat_minor": 2
}
