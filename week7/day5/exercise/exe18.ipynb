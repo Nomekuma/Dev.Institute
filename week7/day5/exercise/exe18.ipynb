{
 "cells": [
  {
   "cell_type": "code",
   "execution_count": 1,
   "metadata": {},
   "outputs": [
    {
     "name": "stdout",
     "output_type": "stream",
     "text": [
      "{'int': 1, 'str': 1, 'float': 1, 'bool': 2}\n"
     ]
    }
   ],
   "source": [
    "def type_count(**kwargs):\n",
    "    type_counts = {}\n",
    "    for value in kwargs.values():\n",
    "        type_name = type(value).__name__\n",
    "        type_counts[type_name] = type_counts.get(type_name, 0) + 1\n",
    "    return type_counts\n",
    "\n",
    "# Test the function\n",
    "result = type_count(a=1, b='string', c=1.0, d=True, e=False)\n",
    "print(result)  # Output: {'int': 1, 'str': 1, 'float': 1, 'bool': 2}\n"
   ]
  }
 ],
 "metadata": {
  "kernelspec": {
   "display_name": "Python 3",
   "language": "python",
   "name": "python3"
  },
  "language_info": {
   "codemirror_mode": {
    "name": "ipython",
    "version": 3
   },
   "file_extension": ".py",
   "mimetype": "text/x-python",
   "name": "python",
   "nbconvert_exporter": "python",
   "pygments_lexer": "ipython3",
   "version": "3.11.4"
  },
  "orig_nbformat": 4
 },
 "nbformat": 4,
 "nbformat_minor": 2
}
