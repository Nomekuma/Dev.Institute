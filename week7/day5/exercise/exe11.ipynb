{
 "cells": [
  {
   "cell_type": "code",
   "execution_count": 1,
   "metadata": {},
   "outputs": [
    {
     "name": "stdout",
     "output_type": "stream",
     "text": [
      "Integers: [1, 2, 3]\n",
      "Strings: ['apple', 'banana', 'grape', 'orange']\n"
     ]
    }
   ],
   "source": [
    "def split_integers_strings(input_list):\n",
    "    integer_list = []\n",
    "    string_list = []\n",
    "\n",
    "    for item in input_list:\n",
    "        if isinstance(item, int):\n",
    "            integer_list.append(item)\n",
    "        elif isinstance(item, str):\n",
    "            string_list.append(item)\n",
    "\n",
    "    return integer_list, string_list\n",
    "\n",
    "# Test the function\n",
    "mixed_list = [1, 'apple', 2, 'banana', 3, 'grape', 'orange']\n",
    "integers, strings = split_integers_strings(mixed_list)\n",
    "\n",
    "print(\"Integers:\", integers)\n",
    "print(\"Strings:\", strings)\n"
   ]
  }
 ],
 "metadata": {
  "kernelspec": {
   "display_name": "Python 3",
   "language": "python",
   "name": "python3"
  },
  "language_info": {
   "codemirror_mode": {
    "name": "ipython",
    "version": 3
   },
   "file_extension": ".py",
   "mimetype": "text/x-python",
   "name": "python",
   "nbconvert_exporter": "python",
   "pygments_lexer": "ipython3",
   "version": "3.11.4"
  },
  "orig_nbformat": 4
 },
 "nbformat": 4,
 "nbformat_minor": 2
}
