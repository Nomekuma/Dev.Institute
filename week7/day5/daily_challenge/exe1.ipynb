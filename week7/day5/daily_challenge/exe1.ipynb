{
 "cells": [
  {
   "cell_type": "code",
   "execution_count": 1,
   "metadata": {},
   "outputs": [
    {
     "name": "stdout",
     "output_type": "stream",
     "text": [
      "bag,hello,without,world\n"
     ]
    }
   ],
   "source": [
    "def sort_words_alphabetically(input_string):\n",
    "    words_list = input_string.split(',')\n",
    "    sorted_list = sorted(words_list)\n",
    "    sorted_string = ','.join(sorted_list)\n",
    "    return sorted_string\n",
    "\n",
    "# Test the function\n",
    "input_string = \"without,hello,bag,world\"\n",
    "output = sort_words_alphabetically(input_string)\n",
    "print(output)  # Output: bag,hello,without,world\n"
   ]
  },
  {
   "cell_type": "code",
   "execution_count": 2,
   "metadata": {},
   "outputs": [
    {
     "name": "stdout",
     "output_type": "stream",
     "text": [
      "bag,hello,without,world\n"
     ]
    }
   ],
   "source": [
    "def sort_words_alphabetically(input_string):\n",
    "    words_list = input_string.split(',')\n",
    "    sorted_list = sorted(words_list)\n",
    "    sorted_string = ','.join(sorted_list)\n",
    "    return sorted_string\n",
    "\n",
    "# Test the function\n",
    "input_string = \"without,hello,bag,world\"\n",
    "output = sort_words_alphabetically(input_string)\n",
    "print(output)  # Output: bag,hello,without,world\n"
   ]
  },
  {
   "cell_type": "code",
   "execution_count": 3,
   "metadata": {},
   "outputs": [
    {
     "name": "stdout",
     "output_type": "stream",
     "text": [
      "bag,hello,without,world\n"
     ]
    }
   ],
   "source": [
    "def sort_words_alphabetically(input_string):\n",
    "    words_list = input_string.split(',')\n",
    "    sorted_list = sorted([word.strip() for word in words_list])\n",
    "    sorted_string = ','.join(sorted_list)\n",
    "    return sorted_string\n",
    "\n",
    "# Test the function\n",
    "input_string = \"without,hello,bag,world\"\n",
    "output = sort_words_alphabetically(input_string)\n",
    "print(output)  # Output: bag,hello,without,world\n"
   ]
  }
 ],
 "metadata": {
  "kernelspec": {
   "display_name": "Python 3",
   "language": "python",
   "name": "python3"
  },
  "language_info": {
   "codemirror_mode": {
    "name": "ipython",
    "version": 3
   },
   "file_extension": ".py",
   "mimetype": "text/x-python",
   "name": "python",
   "nbconvert_exporter": "python",
   "pygments_lexer": "ipython3",
   "version": "3.11.4"
  },
  "orig_nbformat": 4
 },
 "nbformat": 4,
 "nbformat_minor": 2
}
