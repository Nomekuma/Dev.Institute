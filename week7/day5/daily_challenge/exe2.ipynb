{
 "cells": [
  {
   "cell_type": "code",
   "execution_count": 1,
   "metadata": {},
   "outputs": [
    {
     "name": "stdout",
     "output_type": "stream",
     "text": [
      "Margaret's\n",
      "forever.\n",
      "Forgetfulness\n"
     ]
    }
   ],
   "source": [
    "def longest_word(sentence):\n",
    "    words = sentence.split()\n",
    "    longest = \"\"\n",
    "    for word in words:\n",
    "        if len(word) > len(longest):\n",
    "            longest = word\n",
    "    return longest\n",
    "\n",
    "# Test the function\n",
    "print(longest_word(\"Margaret's toy is a pretty doll.\"))  # Output: \"Margaret's\"\n",
    "print(longest_word(\"A thing of beauty is a joy forever.\"))  # Output: \"forever.\"\n",
    "print(longest_word(\"Forgetfulness is by all means powerless!\"))  # Output: \"Forgetfulness\"\n"
   ]
  },
  {
   "cell_type": "code",
   "execution_count": 3,
   "metadata": {},
   "outputs": [
    {
     "name": "stdout",
     "output_type": "stream",
     "text": [
      "Margaret's\n",
      "forever.\n",
      "Forgetfulness\n"
     ]
    }
   ],
   "source": [
    "import re\n",
    "\n",
    "def longest_word(sentence):\n",
    "    # Use regex to find all continuous sequences of alphanumeric characters and special characters\n",
    "    words = re.findall(r\"[a-zA-Z0-9’',.]+\", sentence)\n",
    "\n",
    "    longest = \"\"\n",
    "    for word in words:\n",
    "        if len(word) > len(longest):\n",
    "            longest = word\n",
    "    return longest\n",
    "\n",
    "# Test the function\n",
    "print(longest_word(\"Margaret's toy is a pretty doll.\"))  # Output: \"Margaret's\"\n",
    "print(longest_word(\"A thing of beauty is a joy forever.\"))  # Output: \"forever.\"\n",
    "print(longest_word(\"Forgetfulness is by all means powerless!\"))  # Output: \"Forgetfulness\"\n"
   ]
  }
 ],
 "metadata": {
  "kernelspec": {
   "display_name": "Python 3",
   "language": "python",
   "name": "python3"
  },
  "language_info": {
   "codemirror_mode": {
    "name": "ipython",
    "version": 3
   },
   "file_extension": ".py",
   "mimetype": "text/x-python",
   "name": "python",
   "nbconvert_exporter": "python",
   "pygments_lexer": "ipython3",
   "version": "3.11.4"
  },
  "orig_nbformat": 4
 },
 "nbformat": 4,
 "nbformat_minor": 2
}
