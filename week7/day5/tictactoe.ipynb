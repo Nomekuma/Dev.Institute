{
 "cells": [
  {
   "cell_type": "code",
   "execution_count": 1,
   "metadata": {},
   "outputs": [],
   "source": [
    "def display_board():\n",
    "    print(\"\\n\\n***************\")\n",
    "    print(\"*  {} | {} | {}  *\".format(state[0][0], state[0][1], state[0][2]))\n",
    "    print(\"*-------------*\")\n",
    "    print(\"*  {} | {} | {}  *\".format(state[1][0], state[1][1], state[1][2]))\n",
    "    print(\"*-------------*\")\n",
    "    print(\"*  {} | {} | {}  *\".format(state[2][0], state[2][1], state[2][2]))\n",
    "    print(\"***************\")\n"
   ]
  },
  {
   "cell_type": "code",
   "execution_count": 2,
   "metadata": {},
   "outputs": [],
   "source": [
    "def check_win():\n",
    "    pass"
   ]
  },
  {
   "cell_type": "code",
   "execution_count": 3,
   "metadata": {},
   "outputs": [],
   "source": [
    "def player_input(player):\n",
    "    print(f\"Player {player}'s turn\")\n",
    "\n",
    "    success=False\n",
    "    while success==False:\n",
    "        row=int(input(\"Enter row: \"))\n",
    "        col=int(input(\"Enter column: \"))\n",
    "\n",
    "        if state[row][col]==\" \":\n",
    "            state[row][col]=player\n",
    "            success=True\n",
    "        else:\n",
    "            print(\"Enter empty row and column please \\n\")"
   ]
  },
  {
   "cell_type": "code",
   "execution_count": 4,
   "metadata": {},
   "outputs": [],
   "source": [
    "def check_win():\n",
    "    win=False\n",
    "    # check row\n",
    "    for i in range(3):\n",
    "        if state[i][0]==state[i][1]==state[i][2]!=\" \":\n",
    "            winner=state[i][0]\n",
    "            return True\n",
    "        \n",
    "    # check columns\n",
    "    for j in range(3):\n",
    "        if state[0][j]==state[1][j]==state[2][j]!=\" \":\n",
    "            winner=state[0][j]\n",
    "            return True\n",
    "\n",
    "    # check diagonals\n",
    "    if state[0][0]==state[1][1]==state[2][2]!=\" \":\n",
    "        winner=state[1][1]\n",
    "        return True\n",
    "    \n",
    "    if state[0][2]==state[1][1]==state[2][0]!=\" \":\n",
    "        winner=state[1][1]\n",
    "        return True\n",
    "\n",
    "    return win"
   ]
  },
  {
   "cell_type": "code",
   "execution_count": 5,
   "metadata": {},
   "outputs": [],
   "source": [
    "def check_board_full():\n",
    "    full=True\n",
    "    for i in range(3):\n",
    "        for j in range(3):\n",
    "            if state[i][j]==\" \":\n",
    "                full=False\n",
    "    return full"
   ]
  },
  {
   "cell_type": "code",
   "execution_count": 6,
   "metadata": {},
   "outputs": [],
   "source": [
    "state=[ [' ',' ',' '],[' ',' ',' '],[' ',' ',' ']] #initialise empty board in global list state\n",
    "winner=None\n",
    "def play():\n",
    "    print(\"Welcome to Tic Tac Toe!\")\n",
    "    display_board() #display initial board\n",
    "\n",
    "    players=['X','O']\n",
    "    while True:\n",
    "        for player in players:\n",
    "           #Player input\n",
    "           player_input(player) \n",
    "\n",
    "           #display board\n",
    "           display_board() \n",
    "            \n",
    "            #check if player won\n",
    "           if check_win()==True:\n",
    "               print(f\"Player {winner} won!\")\n",
    "              \n",
    "            \n",
    "            #check if board is full\n",
    "           if check_board_full()==True:\n",
    "             print(\"Board is full. Game over\")\n",
    "             break"
   ]
  },
  {
   "cell_type": "code",
   "execution_count": 7,
   "metadata": {},
   "outputs": [
    {
     "name": "stdout",
     "output_type": "stream",
     "text": [
      "Welcome to Tic Tac Toe!\n",
      "\n",
      "\n",
      "***************\n",
      "*    |   |    *\n",
      "*-------------*\n",
      "*    |   |    *\n",
      "*-------------*\n",
      "*    |   |    *\n",
      "***************\n",
      "Player X's turn\n"
     ]
    },
    {
     "ename": "ValueError",
     "evalue": "invalid literal for int() with base 10: ''",
     "output_type": "error",
     "traceback": [
      "\u001b[1;31m---------------------------------------------------------------------------\u001b[0m",
      "\u001b[1;31mValueError\u001b[0m                                Traceback (most recent call last)",
      "Cell \u001b[1;32mIn[7], line 1\u001b[0m\n\u001b[1;32m----> 1\u001b[0m play()\n",
      "Cell \u001b[1;32mIn[6], line 11\u001b[0m, in \u001b[0;36mplay\u001b[1;34m()\u001b[0m\n\u001b[0;32m      8\u001b[0m \u001b[39mwhile\u001b[39;00m \u001b[39mTrue\u001b[39;00m:\n\u001b[0;32m      9\u001b[0m     \u001b[39mfor\u001b[39;00m player \u001b[39min\u001b[39;00m players:\n\u001b[0;32m     10\u001b[0m        \u001b[39m#Player input\u001b[39;00m\n\u001b[1;32m---> 11\u001b[0m        player_input(player) \n\u001b[0;32m     13\u001b[0m        \u001b[39m#display board\u001b[39;00m\n\u001b[0;32m     14\u001b[0m        display_board() \n",
      "Cell \u001b[1;32mIn[3], line 6\u001b[0m, in \u001b[0;36mplayer_input\u001b[1;34m(player)\u001b[0m\n\u001b[0;32m      4\u001b[0m success\u001b[39m=\u001b[39m\u001b[39mFalse\u001b[39;00m\n\u001b[0;32m      5\u001b[0m \u001b[39mwhile\u001b[39;00m success\u001b[39m==\u001b[39m\u001b[39mFalse\u001b[39;00m:\n\u001b[1;32m----> 6\u001b[0m     row\u001b[39m=\u001b[39m\u001b[39mint\u001b[39;49m(\u001b[39minput\u001b[39;49m(\u001b[39m\"\u001b[39;49m\u001b[39mEnter row: \u001b[39;49m\u001b[39m\"\u001b[39;49m))\n\u001b[0;32m      7\u001b[0m     col\u001b[39m=\u001b[39m\u001b[39mint\u001b[39m(\u001b[39minput\u001b[39m(\u001b[39m\"\u001b[39m\u001b[39mEnter column: \u001b[39m\u001b[39m\"\u001b[39m))\n\u001b[0;32m      9\u001b[0m     \u001b[39mif\u001b[39;00m state[row][col]\u001b[39m==\u001b[39m\u001b[39m\"\u001b[39m\u001b[39m \u001b[39m\u001b[39m\"\u001b[39m:\n",
      "\u001b[1;31mValueError\u001b[0m: invalid literal for int() with base 10: ''"
     ]
    }
   ],
   "source": [
    "play()"
   ]
  }
 ],
 "metadata": {
  "kernelspec": {
   "display_name": "Python 3",
   "language": "python",
   "name": "python3"
  },
  "language_info": {
   "codemirror_mode": {
    "name": "ipython",
    "version": 3
   },
   "file_extension": ".py",
   "mimetype": "text/x-python",
   "name": "python",
   "nbconvert_exporter": "python",
   "pygments_lexer": "ipython3",
   "version": "3.11.4"
  },
  "orig_nbformat": 4
 },
 "nbformat": 4,
 "nbformat_minor": 2
}
