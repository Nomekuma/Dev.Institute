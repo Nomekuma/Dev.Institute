{
 "cells": [
  {
   "cell_type": "code",
   "execution_count": 1,
   "metadata": {},
   "outputs": [
    {
     "name": "stdout",
     "output_type": "stream",
     "text": [
      "  *\n",
      " ***\n",
      "*****\n"
     ]
    }
   ],
   "source": [
    "def draw_pattern(rows):\n",
    "    for i in range(rows):\n",
    "        for j in range(rows - i - 1):\n",
    "            print(\" \", end=\"\")\n",
    "        for k in range(2 * i + 1):\n",
    "            print(\"*\", end=\"\")\n",
    "        print()\n",
    "\n",
    "# Test the function\n",
    "draw_pattern(3)\n"
   ]
  },
  {
   "cell_type": "code",
   "execution_count": 2,
   "metadata": {},
   "outputs": [
    {
     "name": "stdout",
     "output_type": "stream",
     "text": [
      "    *\n",
      "   **\n",
      "  ***\n",
      " ****\n",
      "*****\n"
     ]
    }
   ],
   "source": [
    "def draw_pattern(rows):\n",
    "    for i in range(1, rows + 1):\n",
    "        for j in range(rows - i):\n",
    "            print(\" \", end=\"\")\n",
    "        for k in range(i):\n",
    "            print(\"*\", end=\"\")\n",
    "        print()\n",
    "\n",
    "# Test the function\n",
    "draw_pattern(5)\n"
   ]
  },
  {
   "cell_type": "code",
   "execution_count": 3,
   "metadata": {},
   "outputs": [
    {
     "name": "stdout",
     "output_type": "stream",
     "text": [
      "*\n",
      "**\n",
      "***\n",
      "****\n",
      "*****\n",
      "****\n",
      "***\n",
      "**\n",
      "*\n"
     ]
    }
   ],
   "source": [
    "def draw_pattern(rows):\n",
    "    for i in range(1, 2 * rows):\n",
    "        if i <= rows:\n",
    "            for j in range(i):\n",
    "                print(\"*\", end=\"\")\n",
    "        else:\n",
    "            for j in range(2 * rows - i):\n",
    "                print(\"*\", end=\"\")\n",
    "        print()\n",
    "\n",
    "# Test the function\n",
    "draw_pattern(5)\n"
   ]
  }
 ],
 "metadata": {
  "kernelspec": {
   "display_name": "Python 3",
   "language": "python",
   "name": "python3"
  },
  "language_info": {
   "codemirror_mode": {
    "name": "ipython",
    "version": 3
   },
   "file_extension": ".py",
   "mimetype": "text/x-python",
   "name": "python",
   "nbconvert_exporter": "python",
   "pygments_lexer": "ipython3",
   "version": "3.11.4"
  },
  "orig_nbformat": 4
 },
 "nbformat": 4,
 "nbformat_minor": 2
}
