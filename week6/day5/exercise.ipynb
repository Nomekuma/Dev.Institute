{
 "cells": [
  {
   "cell_type": "code",
   "execution_count": 16,
   "metadata": {},
   "outputs": [
    {
     "name": "stdout",
     "output_type": "stream",
     "text": [
      "{'Ten': 10, 'Twenty': 20, 'Thirty': 30}\n"
     ]
    }
   ],
   "source": [
    "# Given lists\n",
    "keys = ['Ten', 'Twenty', 'Thirty']\n",
    "values = [10, 20, 30]\n",
    "\n",
    "# Convert lists to a dictionary using zip\n",
    "result_dict = dict(zip(keys, values))\n",
    "\n",
    "# Print the resulting dictionary\n",
    "print(result_dict)\n"
   ]
  },
  {
   "cell_type": "code",
   "execution_count": 17,
   "metadata": {},
   "outputs": [
    {
     "name": "stdout",
     "output_type": "stream",
     "text": [
      "rick has to pay $15 for the movie.\n",
      "beth has to pay $15 for the movie.\n",
      "morty has to pay $10 for the movie.\n",
      "summer has to pay $10 for the movie.\n",
      "The total cost for the movies is $50.\n"
     ]
    }
   ],
   "source": [
    "# Given family dictionary\n",
    "family = {\"rick\": 43, 'beth': 13, 'morty': 5, 'summer': 8}\n",
    "\n",
    "# Initialize the total cost to 0\n",
    "total_cost = 0\n",
    "\n",
    "# Calculate the cost for each family member\n",
    "for name, age in family.items():\n",
    "    if age < 3:\n",
    "        ticket_cost = 0\n",
    "    elif age >= 3 and age <= 12:\n",
    "        ticket_cost = 10\n",
    "    else:\n",
    "        ticket_cost = 15\n",
    "\n",
    "    # Print the cost for each family member\n",
    "    print(f\"{name} has to pay ${ticket_cost} for the movie.\")\n",
    "\n",
    "    # Add the ticket cost to the total cost\n",
    "    total_cost += ticket_cost\n",
    "\n",
    "# Print the total cost for the entire family\n",
    "print(f\"The total cost for the movies is ${total_cost}.\")\n"
   ]
  },
  {
   "cell_type": "code",
   "execution_count": 18,
   "metadata": {},
   "outputs": [
    {
     "ename": "AttributeError",
     "evalue": "'dict' object has no attribute 'dic'",
     "output_type": "error",
     "traceback": [
      "\u001b[1;31m---------------------------------------------------------------------------\u001b[0m",
      "\u001b[1;31mAttributeError\u001b[0m                            Traceback (most recent call last)",
      "Cell \u001b[1;32mIn[18], line 2\u001b[0m\n\u001b[0;32m      1\u001b[0m \u001b[39m# Create an initially empty family dictionary\u001b[39;00m\n\u001b[1;32m----> 2\u001b[0m family \u001b[39m=\u001b[39m {family\u001b[39m.\u001b[39;49mdic}\n\u001b[0;32m      4\u001b[0m \u001b[39m# Ask the user to input names and ages and add them to the family dictionary\u001b[39;00m\n\u001b[0;32m      5\u001b[0m num_family_members \u001b[39m=\u001b[39m \u001b[39mint\u001b[39m(\u001b[39minput\u001b[39m(\u001b[39m\"\u001b[39m\u001b[39m4 \u001b[39m\u001b[39m\"\u001b[39m))\n",
      "\u001b[1;31mAttributeError\u001b[0m: 'dict' object has no attribute 'dic'"
     ]
    }
   ],
   "source": [
    "# Create an initially empty family dictionary\n",
    "family = {family.dic}\n",
    "\n",
    "# Ask the user to input names and ages and add them to the family dictionary\n",
    "num_family_members = int(input(\"4 \"))\n",
    "for i in range(1, num_family_members + 1):\n",
    "    name = input(f\"Enter the name of family member {i}: \")\n",
    "    age = int(input(f\"Enter the age of family member {i}: \"))\n",
    "    family[name] = age\n",
    "\n",
    "# Initialize the total cost to 0\n",
    "total_cost = 0\n",
    "\n",
    "# Calculate the cost for each family member\n",
    "for name, age in family.items():\n",
    "    if age < 3:\n",
    "        ticket_cost = 0\n",
    "    elif age >= 3 and age <= 12:\n",
    "        ticket_cost = 10\n",
    "    else:\n",
    "        ticket_cost = 15\n",
    "\n",
    "    # Print the cost for each family member\n",
    "    print(f\"{name} has to pay ${ticket_cost} for the movie.\")\n",
    "\n",
    "    # Add the ticket cost to the total cost\n",
    "    total_cost += ticket_cost\n",
    "\n",
    "# Print the total cost for the entire family\n",
    "print(f\"The total cost for the movies is ${total_cost}.\")\n"
   ]
  },
  {
   "cell_type": "code",
   "execution_count": null,
   "metadata": {},
   "outputs": [
    {
     "name": "stdout",
     "output_type": "stream",
     "text": [
      "Zara's clients are men, women, children, and home shoppers.\n",
      "The last international competitor is Desigual.\n",
      "The major clothes colors in the US are: pink, green.\n",
      "The number of key-value pairs in the dictionary is: 7.\n",
      "The keys of the dictionary are: ['name', 'creator_name', 'type_of_clothes', 'international_competitors', 'number_stores', 'major_color', 'country_creation'].\n",
      "Updated brand dictionary: {'name': 'Zara', 'creator_name': 'Amancio Ortega Gaona', 'type_of_clothes': ['men', 'women', 'children', 'home'], 'international_competitors': ['Gap', 'H&M', 'Benetton', 'Desigual'], 'number_stores': 2, 'major_color': {'France': 'blue', 'Spain': 'red', 'US': 'pink, green'}, 'country_creation': 'Spain'}\n",
      "more_on_zara dictionary: {'creation_date': 1975, 'number_stores': 10000}\n"
     ]
    }
   ],
   "source": [
    "# Part 1 - Information about the brand\n",
    "name = \"Zara\"\n",
    "creation_date = 1975\n",
    "creator_name = \"Amancio Ortega Gaona\"\n",
    "type_of_clothes = [\"men\", \"women\", \"children\", \"home\"]\n",
    "international_competitors = [\"Gap\", \"H&M\", \"Benetton\"]\n",
    "number_stores = 7000\n",
    "major_color = {\n",
    "    \"France\": \"blue\",\n",
    "    \"Spain\": \"red\",\n",
    "    \"US\": \"pink, green\"\n",
    "}\n",
    "\n",
    "# Part 2 - Create a dictionary called brand\n",
    "brand = {\n",
    "    \"name\": name,\n",
    "    \"creation_date\": creation_date,\n",
    "    \"creator_name\": creator_name,\n",
    "    \"type_of_clothes\": type_of_clothes,\n",
    "    \"international_competitors\": international_competitors,\n",
    "    \"number_stores\": number_stores,\n",
    "    \"major_color\": major_color\n",
    "}\n",
    "\n",
    "# Part 3 - Change the number of stores to 2\n",
    "brand[\"number_stores\"] = 2\n",
    "\n",
    "# Part 4 - Print a sentence that explains who Zara's clients are\n",
    "print(f\"Zara's clients are men, women, children, and home shoppers.\")\n",
    "\n",
    "# Part 5 - Add a key called country_creation with a value of Spain\n",
    "brand[\"country_creation\"] = \"Spain\"\n",
    "\n",
    "# Part 6 - Check if the key international_competitors is in the dictionary. If it is, add the store Desigual.\n",
    "if \"international_competitors\" in brand:\n",
    "    brand[\"international_competitors\"].append(\"Desigual\")\n",
    "\n",
    "# Part 7 - Delete the information about the date of creation\n",
    "del brand[\"creation_date\"]\n",
    "\n",
    "# Part 8 - Print the last international competitor\n",
    "last_international_competitor = brand[\"international_competitors\"][-1]\n",
    "print(f\"The last international competitor is {last_international_competitor}.\")\n",
    "\n",
    "# Part 9 - Print the major clothes colors in the US\n",
    "us_major_colors = brand[\"major_color\"][\"US\"]\n",
    "print(f\"The major clothes colors in the US are: {us_major_colors}.\")\n",
    "\n",
    "# Part 10 - Print the amount of key-value pairs (i.e., the length of the dictionary)\n",
    "num_key_value_pairs = len(brand)\n",
    "print(f\"The number of key-value pairs in the dictionary is: {num_key_value_pairs}.\")\n",
    "\n",
    "# Part 11 - Print the keys of the dictionary\n",
    "print(f\"The keys of the dictionary are: {list(brand.keys())}.\")\n",
    "\n",
    "# Part 12 - Create another dictionary called more_on_zara with the given details\n",
    "more_on_zara = {\n",
    "    \"creation_date\": 1975,\n",
    "    \"number_stores\": 10000\n",
    "}\n",
    "\n",
    "# Print the updated brand dictionary and the more_on_zara dictionary\n",
    "print(\"Updated brand dictionary:\", brand)\n",
    "print(\"more_on_zara dictionary:\", more_on_zara)\n"
   ]
  },
  {
   "cell_type": "code",
   "execution_count": null,
   "metadata": {},
   "outputs": [],
   "source": [
    "users = [\"Mickey\", \"Minnie\", \"Donald\", \"Ariel\", \"Pluto\"]\n",
    "\n",
    "# 1. Accessing elements in the list\n",
    "print(users[0])  # Output: Mickey\n",
    "print(users[2])  # Output: Donald\n",
    "\n",
    "# 2. Modifying elements in the list\n",
    "users[3] = \"Goofy\"\n",
    "print(users)  # Output: [\"Mickey\", \"Minnie\", \"Donald\", \"Goofy\", \"Pluto\"]\n",
    "\n",
    "# 3. Adding elements to the list\n",
    "users.append(\"Daisy\")\n",
    "print(users)  # Output: [\"Mickey\", \"Minnie\", \"Donald\", \"Goofy\", \"Pluto\", \"Daisy\"]\n",
    "\n",
    "# 4. Removing elements from the list\n",
    "users.remove(\"Minnie\")\n",
    "print(users)  # Output: [\"Mickey\", \"Donald\", \"Goofy\", \"Pluto\", \"Daisy\"]\n",
    "\n",
    "# 5. Checking if an element is in the list\n",
    "if \"Ariel\" in users:\n",
    "    print(\"Ariel is in the list.\")\n",
    "else:\n",
    "    print(\"Ariel is not in the list.\")\n",
    "\n",
    "# 6. Finding the index of an element in the list\n",
    "index = users.index(\"Donald\")\n",
    "print(f\"The index of Donald is: {index}\")  # Output: The index of Donald is: 1\n",
    "\n",
    "# 7. Finding the length of the list\n",
    "length = len(users)\n",
    "print(f\"The length of the list is: {length}\")  # Output: The length of the list is: 5\n",
    "\n",
    "# 8. Sorting the list\n",
    "users.sort()\n",
    "print(users)  # Output: [\"Daisy\", \"Donald\", \"Goofy\", \"Mickey\", \"Pluto\"]\n",
    "\n",
    "# 9. Reversing the list\n",
    "users.reverse()\n",
    "print(users)  # Output: [\"Pluto\", \"Mickey\", \"Goofy\", \"Donald\", \"Daisy\"]\n",
    "\n",
    "# 10. Slicing the list\n",
    "subset_users = users[1:4]\n",
    "print(subset_users)  # Output: [\"Mickey\", \"Goofy\", \"Donald\"]\n"
   ]
  },
  {
   "cell_type": "code",
   "execution_count": 19,
   "metadata": {},
   "outputs": [
    {
     "name": "stdout",
     "output_type": "stream",
     "text": [
      "[6, 6, 6, 5, 5]\n",
      "['MICKEY', 'MINNIE', 'DONALD', 'ARIEL', 'PLUTO']\n",
      "['Ariel', 'Donald', 'Mickey', 'Minnie', 'Pluto']\n",
      "[6, 6, 5]\n",
      "[]\n"
     ]
    }
   ],
   "source": [
    "users = [\"Mickey\", \"Minnie\", \"Donald\", \"Ariel\", \"Pluto\"]\n",
    "\n",
    "# 1. Recreate the 1st result using a for loop\n",
    "result1 = []\n",
    "for user in users:\n",
    "    result1.append(len(user))\n",
    "print(result1)  # Output: [6, 6, 6, 5, 5]\n",
    "\n",
    "# 2. Recreate the 2nd result using a for loop\n",
    "result2 = []\n",
    "for user in users:\n",
    "    result2.append(user.upper())\n",
    "print(result2)  # Output: ['MICKEY', 'MINNIE', 'DONALD', 'ARIEL', 'PLUTO']\n",
    "\n",
    "# 3. Recreate the 3rd result using the sorted() method\n",
    "result3 = sorted(users)\n",
    "print(result3)  # Output: ['Ariel', 'Donald', 'Mickey', 'Minnie', 'Pluto']\n",
    "\n",
    "# 4. Recreate the 1st result for characters whose names contain the letter \"i\"\n",
    "result4 = []\n",
    "for user in users:\n",
    "    if \"i\" in user:\n",
    "        result4.append(len(user))\n",
    "print(result4)  # Output: [6, 6, 5]\n",
    "\n",
    "# 5. Recreate the 1st result for characters whose names start with \"m\" or \"p\"\n",
    "result5 = []\n",
    "for user in users:\n",
    "    if user.startswith(\"m\") or user.startswith(\"p\"):\n",
    "        result5.append(len(user))\n",
    "print(result5)  # Output: [6, 6, 5, 5]\n"
   ]
  }
 ],
 "metadata": {
  "kernelspec": {
   "display_name": "Python 3",
   "language": "python",
   "name": "python3"
  },
  "language_info": {
   "codemirror_mode": {
    "name": "ipython",
    "version": 3
   },
   "file_extension": ".py",
   "mimetype": "text/x-python",
   "name": "python",
   "nbconvert_exporter": "python",
   "pygments_lexer": "ipython3",
   "version": "3.11.4"
  },
  "orig_nbformat": 4
 },
 "nbformat": 4,
 "nbformat_minor": 2
}
