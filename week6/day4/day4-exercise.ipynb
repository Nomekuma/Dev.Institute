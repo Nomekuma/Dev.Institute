{
 "cells": [
  {
   "cell_type": "code",
   "execution_count": 1,
   "metadata": {},
   "outputs": [
    {
     "name": "stdout",
     "output_type": "stream",
     "text": [
      "My favorite numbers: {9, 42, 12, 21, 30}\n",
      "Friend's favorite numbers: {8, 25, 3, 12}\n",
      "Our favorite numbers (combined): {3, 8, 9, 42, 12, 21, 25, 30}\n"
     ]
    }
   ],
   "source": [
    "# Step 1: Create a set called my_fav_numbers with your favorite numbers\n",
    "my_fav_numbers = {7, 12, 21, 30}\n",
    "\n",
    "# Step 2: Add two new numbers to the set\n",
    "my_fav_numbers.add(42)\n",
    "my_fav_numbers.add(9)\n",
    "\n",
    "# Step 3: Remove the last number from the set\n",
    "my_fav_numbers.pop()\n",
    "\n",
    "# Step 4: Create a set called friend_fav_numbers with your friend's favorite numbers\n",
    "friend_fav_numbers = {3, 8, 12, 25}\n",
    "\n",
    "# Step 5: Concatenate my_fav_numbers and friend_fav_numbers to a new variable called our_fav_numbers\n",
    "our_fav_numbers = my_fav_numbers.union(friend_fav_numbers)\n",
    "\n",
    "# Step 6: Print the sets to see the results (optional)\n",
    "print(\"My favorite numbers:\", my_fav_numbers)\n",
    "print(\"Friend's favorite numbers:\", friend_fav_numbers)\n",
    "print(\"Our favorite numbers (combined):\", our_fav_numbers)\n"
   ]
  },
  {
   "cell_type": "code",
   "execution_count": 2,
   "metadata": {},
   "outputs": [
    {
     "name": "stdout",
     "output_type": "stream",
     "text": [
      "(1, 2, 3, 4, 5)\n"
     ]
    }
   ],
   "source": [
    "# Existing tuple\n",
    "existing_tuple = (1, 2, 3)\n",
    "\n",
    "# New elements to add\n",
    "new_elements = (4, 5)\n",
    "\n",
    "# Concatenate the existing tuple and the new elements to create a new tuple\n",
    "new_tuple = existing_tuple + new_elements\n",
    "\n",
    "print(new_tuple)  # Output: (1, 2, 3, 4, 5)\n"
   ]
  },
  {
   "cell_type": "code",
   "execution_count": 3,
   "metadata": {},
   "outputs": [
    {
     "name": "stdout",
     "output_type": "stream",
     "text": [
      "[]\n"
     ]
    }
   ],
   "source": [
    "# Step 1: Create the list basket\n",
    "basket = [\"Banana\", \"Apples\", \"Oranges\", \"Blueberries\"]\n",
    "\n",
    "# Step 2: Remove \"Banana\" from the list\n",
    "basket.remove(\"Banana\")\n",
    "\n",
    "# Step 3: Remove \"Blueberries\" from the list\n",
    "basket.remove(\"Blueberries\")\n",
    "\n",
    "# Step 4: Add \"Kiwi\" to the end of the list\n",
    "basket.append(\"Kiwi\")\n",
    "\n",
    "# Step 5: Add \"Apples\" to the beginning of the list\n",
    "basket.insert(0, \"Apples\")\n",
    "\n",
    "# Step 6: Count how many apples are in the basket\n",
    "apple_count = basket.count(\"Apples\")\n",
    "\n",
    "# Step 7: Empty the basket\n",
    "basket.clear()\n",
    "\n",
    "# Step 8: Print the basket\n",
    "print(basket)\n"
   ]
  },
  {
   "cell_type": "code",
   "execution_count": 4,
   "metadata": {},
   "outputs": [
    {
     "name": "stdout",
     "output_type": "stream",
     "text": [
      "[1.5, 2.0, 2.5, 3.0, 3.5, 4.0, 4.5, 5.0]\n"
     ]
    }
   ],
   "source": [
    "# Generate a sequence of floats using list comprehension\n",
    "sequence = [num / 2 for num in range(3, 11)]\n",
    "\n",
    "print(sequence)\n"
   ]
  },
  {
   "cell_type": "code",
   "execution_count": 5,
   "metadata": {},
   "outputs": [
    {
     "name": "stdout",
     "output_type": "stream",
     "text": [
      "1\n",
      "2\n",
      "3\n",
      "4\n",
      "5\n",
      "6\n",
      "7\n",
      "8\n",
      "9\n",
      "10\n",
      "11\n",
      "12\n",
      "13\n",
      "14\n",
      "15\n",
      "16\n",
      "17\n",
      "18\n",
      "19\n",
      "20\n"
     ]
    }
   ],
   "source": [
    "# Step 1: Use a for loop to print all numbers from 1 to 20, inclusive.\n",
    "for num in range(1, 21):\n",
    "    print(num)\n"
   ]
  },
  {
   "cell_type": "code",
   "execution_count": 6,
   "metadata": {},
   "outputs": [
    {
     "name": "stdout",
     "output_type": "stream",
     "text": [
      "2\n",
      "4\n",
      "6\n",
      "8\n",
      "10\n",
      "12\n",
      "14\n",
      "16\n",
      "18\n",
      "20\n"
     ]
    }
   ],
   "source": [
    "# Step 2: Using a for loop, loop from 1 to 20 (inclusive), and print out every element with an even index.\n",
    "for i in range(1, 21):\n",
    "    if i % 2 == 0:\n",
    "        print(i)\n"
   ]
  },
  {
   "cell_type": "code",
   "execution_count": 8,
   "metadata": {},
   "outputs": [
    {
     "name": "stdout",
     "output_type": "stream",
     "text": [
      "You chose a new fruit. I hope you enjoy!\n"
     ]
    }
   ],
   "source": [
    "# Step 1: Ask the user to input their favorite fruit(s)\n",
    "favorite_fruits_string = input(\"Enter your favorite fruit(s) separated by a single space: \")\n",
    "\n",
    "# Step 2: Store the favorite fruit(s) in a list\n",
    "favorite_fruits = favorite_fruits_string.split()\n",
    "\n",
    "# Step 3: Ask the user to input a name of any fruit\n",
    "user_input_fruit = input(\"Enter the name of any fruit: \")\n",
    "\n",
    "# Step 4: Check if the user's input is in the favorite fruits list and print the appropriate message\n",
    "if user_input_fruit in favorite_fruits:\n",
    "    print(\"You chose one of your favorite fruits! Enjoy!\")\n",
    "else:\n",
    "    print(\"You chose a new fruit. I hope you enjoy!\")\n"
   ]
  },
  {
   "cell_type": "code",
   "execution_count": null,
   "metadata": {},
   "outputs": [],
   "source": [
    "# Initialize an empty list to store the toppings\n",
    "pizza_toppings = []\n",
    "\n",
    "# Define the base price of the pizza and the price per topping\n",
    "base_price = 10\n",
    "topping_price = 2.5\n",
    "\n",
    "# Ask the user to enter pizza toppings until they enter 'quit'\n",
    "while True:\n",
    "    topping = input(\"Enter a pizza topping (or 'quit' to stop): \")\n",
    "    if topping.lower() == 'quit':\n",
    "        break\n",
    "    else:\n",
    "        pizza_toppings.append(topping)\n",
    "        print(f\"Adding {topping} to your pizza.\")\n",
    "\n",
    "# Calculate the total price of the pizza\n",
    "total_price = base_price + (len(pizza_toppings) * topping_price)\n",
    "\n",
    "# Display the pizza toppings and the total price\n",
    "print(\"Your pizza toppings:\")\n",
    "for topping in pizza_toppings:\n",
    "    print(\"-\", topping)\n",
    "print(f\"Total price: ${total_price}\")\n"
   ]
  },
  {
   "cell_type": "code",
   "execution_count": null,
   "metadata": {},
   "outputs": [],
   "source": [
    "# Initialize the total cost to 0\n",
    "total_cost = 0\n",
    "\n",
    "# Ask the number of family members\n",
    "num_family_members = int(input(\"How many family members need tickets? \"))\n",
    "\n",
    "# Loop through each family member and ask for their age to calculate the total cost\n",
    "for i in range(1, num_family_members + 1):\n",
    "    age = int(input(f\"Enter age of family member {i}: \"))\n",
    "    if age < 3:\n",
    "        ticket_cost = 0\n",
    "    elif age >= 3 and age <= 12:\n",
    "        ticket_cost = 10\n",
    "    else:\n",
    "        ticket_cost = 15\n",
    "\n",
    "    total_cost += ticket_cost\n",
    "\n",
    "# Print the total cost of all family members' tickets\n",
    "print(f\"The total cost of all family members' tickets is ${total_cost}.\")\n"
   ]
  },
  {
   "cell_type": "code",
   "execution_count": 13,
   "metadata": {},
   "outputs": [
    {
     "ename": "ValueError",
     "evalue": "invalid literal for int() with base 10: ''",
     "output_type": "error",
     "traceback": [
      "\u001b[1;31m---------------------------------------------------------------------------\u001b[0m",
      "\u001b[1;31mValueError\u001b[0m                                Traceback (most recent call last)",
      "Cell \u001b[1;32mIn[13], line 9\u001b[0m\n\u001b[0;32m      7\u001b[0m \u001b[39m# Loop through each teenager and ask for their age, then decide if they can watch the movie\u001b[39;00m\n\u001b[0;32m      8\u001b[0m \u001b[39mfor\u001b[39;00m name \u001b[39min\u001b[39;00m teenagers:\n\u001b[1;32m----> 9\u001b[0m     age \u001b[39m=\u001b[39m \u001b[39mint\u001b[39;49m(\u001b[39minput\u001b[39;49m(\u001b[39mf\u001b[39;49m\u001b[39m\"\u001b[39;49m\u001b[39mEnter age of \u001b[39;49m\u001b[39m{\u001b[39;49;00mname\u001b[39m}\u001b[39;49;00m\u001b[39m: \u001b[39;49m\u001b[39m\"\u001b[39;49m))\n\u001b[0;32m     10\u001b[0m     \u001b[39mif\u001b[39;00m age \u001b[39m>\u001b[39m\u001b[39m=\u001b[39m \u001b[39m16\u001b[39m \u001b[39mand\u001b[39;00m age \u001b[39m<\u001b[39m\u001b[39m=\u001b[39m \u001b[39m21\u001b[39m:\n\u001b[0;32m     11\u001b[0m         allowed_teenagers\u001b[39m.\u001b[39mappend(name)\n",
      "\u001b[1;31mValueError\u001b[0m: invalid literal for int() with base 10: ''"
     ]
    }
   ],
   "source": [
    "# Given list of names of teenagers\n",
    "teenagers = [\"Alice\", \"Bob\", \"Charlie\", \"David\", \"Eve\", \"Frank\"]\n",
    "\n",
    "# Create an empty list to store the names of teenagers allowed to watch the movie\n",
    "allowed_teenagers = []\n",
    "\n",
    "# Loop through each teenager and ask for their age, then decide if they can watch the movie\n",
    "for name in teenagers:\n",
    "    age = int(input(f\"Enter age of {name}: \"))\n",
    "    if age >= 16 and age <= 21:\n",
    "        allowed_teenagers.append(name)\n",
    "\n",
    "# Print the final list of allowed teenagers to watch the movie\n",
    "print(\"The list of allowed teenagers to watch the movie:\")\n",
    "print(allowed_teenagers)\n"
   ]
  }
 ],
 "metadata": {
  "kernelspec": {
   "display_name": "Python 3",
   "language": "python",
   "name": "python3"
  },
  "language_info": {
   "codemirror_mode": {
    "name": "ipython",
    "version": 3
   },
   "file_extension": ".py",
   "mimetype": "text/x-python",
   "name": "python",
   "nbconvert_exporter": "python",
   "pygments_lexer": "ipython3",
   "version": "3.11.4"
  },
  "orig_nbformat": 4
 },
 "nbformat": 4,
 "nbformat_minor": 2
}
