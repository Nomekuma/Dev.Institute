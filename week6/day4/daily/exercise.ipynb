{
 "cells": [
  {
   "cell_type": "code",
   "execution_count": null,
   "metadata": {},
   "outputs": [],
   "source": [
    "# Ask the user for a number\n",
    "number = int(input(\"Enter a number: \"))\n",
    "\n",
    "# Ask the user for the desired length of the list\n",
    "length = int(input(\"Enter the length of the list: \"))\n",
    "\n",
    "# Create a list to store the multiples\n",
    "multiples_list = []\n",
    "\n",
    "# Calculate and add multiples of the number to the list until the desired length is reached\n",
    "for i in range(1, length + 1):\n",
    "    multiples_list.append(number * i)\n",
    "\n",
    "# Print the list of multiples\n",
    "print(multiples_list)\n"
   ]
  },
  {
   "cell_type": "code",
   "execution_count": null,
   "metadata": {},
   "outputs": [],
   "source": [
    "# Ask the user for a string\n",
    "user_word = input(\"Enter a word: \")\n",
    "\n",
    "# Create an empty string to store the result\n",
    "result_word = user_word[0]  # Start with the first character of the input string\n",
    "\n",
    "# Iterate through the characters of the input string\n",
    "for i in range(1, len(user_word)):\n",
    "    # Compare the current character with the previous character\n",
    "    if user_word[i] != user_word[i - 1]:\n",
    "        result_word += user_word[i]\n",
    "\n",
    "# Print the new string with consecutive duplicates removed\n",
    "print(result_word)\n"
   ]
  }
 ],
 "metadata": {
  "kernelspec": {
   "display_name": "Python 3",
   "language": "python",
   "name": "python3"
  },
  "language_info": {
   "codemirror_mode": {
    "name": "ipython",
    "version": 3
   },
   "file_extension": ".py",
   "mimetype": "text/x-python",
   "name": "python",
   "nbconvert_exporter": "python",
   "pygments_lexer": "ipython3",
   "version": "3.11.4"
  },
  "orig_nbformat": 4
 },
 "nbformat": 4,
 "nbformat_minor": 2
}
