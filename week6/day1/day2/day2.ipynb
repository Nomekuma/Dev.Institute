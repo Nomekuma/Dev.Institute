{
 "cells": [
  {
   "cell_type": "code",
   "execution_count": 1,
   "metadata": {},
   "outputs": [],
   "source": [
    "#Lists\n",
    "\n",
    "marks = [10, 20, 30, 40, 50] #initiliasing a list of integers\n",
    "\n",
    "marks.append(60) #add to the list (push in list)\n",
    "\n",
    "print(marks)\n",
    "print(type(marks))"
   ]
  },
  {
   "cell_type": "code",
   "execution_count": null,
   "metadata": {},
   "outputs": [],
   "source": [
    "#access the list\n",
    "\n",
    "names=['ram', 'shyam', 'hari', 'gita', 'sita']\n",
    "\n",
    "print(names[0])\n",
    "print(names[1])\n",
    "print(names[2])\n",
    "print(names[3])\n",
    "print(names[4])\n",
    "\n",
    "# print(names[5])"
   ]
  },
  {
   "cell_type": "code",
   "execution_count": null,
   "metadata": {},
   "outputs": [],
   "source": [
    "#access list using circular index\n",
    "\n",
    "names=['ram', 'shyam', 'hari', 'gita', 'sita']\n",
    "\n",
    "index=len(names)-1\n",
    "\n",
    "print(names[index])\n",
    "\n",
    "print(names[-1])"
   ]
  },
  {
   "cell_type": "code",
   "execution_count": null,
   "metadata": {},
   "outputs": [],
   "source": [
    "person=[\"John\",20,True,1.75]\n",
    "\n",
    "print(person)\n",
    "\n",
    "print(type(person[0]))\n",
    "\n",
    "print(type(person[2]))"
   ]
  },
  {
   "cell_type": "code",
   "execution_count": null,
   "metadata": {},
   "outputs": [],
   "source": [
    "#updating list elements\n",
    "marks=[10,20,30,40,50]\n",
    "marks[4]=100\n",
    "\n",
    "\n",
    "print(marks)"
   ]
  },
  {
   "cell_type": "code",
   "execution_count": null,
   "metadata": {},
   "outputs": [],
   "source": [
    "#removing values from the list\n",
    "names=['ram', 'shyam', 'hari', 'gita', 'sita']\n",
    "\n",
    "del names[2]  #remove using index\n",
    "\n",
    "names.remove('ram')  #remove using value\n",
    "\n",
    "print(names)\n",
    "\n",
    "\n",
    "# popped_value=names.pop() #remove last element and retuned it\n",
    "popped_value=names.pop(1) #remove element at index and return it\n",
    "\n",
    "print(popped_value)\n",
    "print(names)"
   ]
  },
  {
   "cell_type": "code",
   "execution_count": null,
   "metadata": {},
   "outputs": [],
   "source": [
    "#adding lists\n",
    "a=[1,2,3]\n",
    "b=[4,5,6]\n",
    "\n",
    "c=a+b\n",
    "\n",
    "print(c)"
   ]
  },
  {
   "cell_type": "code",
   "execution_count": null,
   "metadata": {},
   "outputs": [],
   "source": [
    "#list function\n",
    "a=[1,2,3,4,5,6]\n",
    "print(sum(a))\n",
    "\n",
    "\n",
    "names=['ram', 'shyam', 'hari', 'gita', 'sita']\n",
    "# names.sort()\n",
    "\n",
    "names=sorted(names)\n",
    "\n",
    "nums=[1,472,193,182,2]\n",
    "nums.sort()\n",
    "\n",
    "print(names)\n",
    "\n",
    "print(nums)\n",
    "\n",
    "\n",
    "person=[\"John\",20,True,1.75]\n",
    "person.insert(1,\"Doe\")\n",
    "\n",
    "print(person)\n",
    "\n",
    "\n",
    "a=[1,2,3,4,5,6]\n",
    "# a.reverse()\n",
    "# print(a)\n",
    "a.extend([7,8,9])\n",
    "print(a)"
   ]
  },
  {
   "cell_type": "code",
   "execution_count": null,
   "metadata": {},
   "outputs": [],
   "source": [
    "person=[\"John\",20,True,1.75]\n",
    "\n",
    "for item in person:\n",
    "    print(item)"
   ]
  },
  {
   "cell_type": "code",
   "execution_count": null,
   "metadata": {},
   "outputs": [],
   "source": [
    "person=[\"John\",20,True,1.75]\n",
    "\n",
    "for i in range(len(person)):\n",
    "    print(person[i])"
   ]
  },
  {
   "cell_type": "code",
   "execution_count": null,
   "metadata": {},
   "outputs": [],
   "source": [
    "i=0\n",
    "\n",
    "marks=[10,20,30,40,50]\n",
    "\n",
    "while i < len(marks):\n",
    "    print(marks[i])\n",
    "    i=i+1"
   ]
  },
  {
   "cell_type": "code",
   "execution_count": null,
   "metadata": {},
   "outputs": [],
   "source": [
    "#strings\n",
    "\n",
    "name=\"John\" #string = list of characters\n",
    "\n",
    "# name=['J','o','h','n']\n",
    "\n",
    "for character in name:\n",
    "    print(character)\n",
    "\n",
    "text='This is a sentence'\n",
    "for character in text:\n",
    "    print(character)"
   ]
  },
  {
   "cell_type": "code",
   "execution_count": null,
   "metadata": {},
   "outputs": [],
   "source": [
    "name=\"Nirmal\"\n",
    "# print(list(name))\n",
    "\n",
    "print(name[1])\n",
    "\n",
    "\n",
    "#string slicing\n",
    "sentence=\"This is a sentence\"\n",
    "\n",
    "print(sentence[0:7])"
   ]
  },
  {
   "cell_type": "code",
   "execution_count": null,
   "metadata": {},
   "outputs": [],
   "source": [
    "#tuples\n",
    "person2=(\"John\",20,1.65)\n",
    "\n",
    "print(person2[0])"
   ]
  },
  {
   "cell_type": "code",
   "execution_count": null,
   "metadata": {},
   "outputs": [],
   "source": [
    "#sets\n",
    "\n",
    "a={1,2,3,4,5}\n",
    "\n",
    "a.add(2)\n",
    "a.add(6)\n",
    "\n",
    "a.remove(1)\n",
    "\n",
    "print(a)"
   ]
  },
  {
   "cell_type": "code",
   "execution_count": null,
   "metadata": {},
   "outputs": [],
   "source": [
    "#accessing set\n",
    "a={1,2,3,4,5}\n",
    "\n",
    "print(a)\n",
    "\n",
    "for item in a:\n",
    "    print(item)\n",
    "\n",
    "b=list(a)\n",
    "print(b[0])"
   ]
  },
  {
   "cell_type": "code",
   "execution_count": null,
   "metadata": {},
   "outputs": [],
   "source": [
    "a={1,2,3}\n",
    "\n",
    "b={4,5}\n",
    "\n",
    "c=a.union(b)\n",
    "\n",
    "print(c)"
   ]
  },
  {
   "cell_type": "code",
   "execution_count": null,
   "metadata": {},
   "outputs": [],
   "source": [
    "a={1,2,3}\n",
    "\n",
    "b={2,3,4}\n",
    "\n",
    "print(a.intersection(b))"
   ]
  },
  {
   "cell_type": "code",
   "execution_count": null,
   "metadata": {},
   "outputs": [],
   "source": [
    "a={1,2,3,4,5}\n",
    "\n",
    "b={4,5}\n",
    "\n",
    "c=a.difference(b)\n",
    "\n",
    "\n",
    "d=b.difference(a)\n",
    "\n",
    "print(c)\n",
    "\n",
    "print(d)"
   ]
  },
  {
   "cell_type": "code",
   "execution_count": null,
   "metadata": {},
   "outputs": [],
   "source": [
    "#dictionary\n",
    "\n",
    "person={\n",
    "    \"name\":\"John\",\n",
    "    \"age\":20,\n",
    "    \"married\": False\n",
    "}\n",
    "\n",
    "print(person['name'])\n",
    "print(person['age'])\n",
    "\n",
    "person['height']=1.2\n",
    "\n",
    "print(person)\n",
    "\n",
    "person['age']=person['age']+1\n",
    "\n",
    "person['height']=1.5\n",
    "\n",
    "print(person)\n",
    "\n",
    "del person['married']\n",
    "\n",
    "print(person)"
   ]
  },
  {
   "cell_type": "code",
   "execution_count": null,
   "metadata": {},
   "outputs": [],
   "source": [
    "#tuple unpacking\n",
    "\n",
    "person={\n",
    "    \"name\":\"John\",\n",
    "    \"age\":20,\n",
    "    \"married\": False\n",
    "}\n",
    "\n",
    "print(person.items())\n",
    "\n",
    "unpacked_values=person.items()\n",
    "\n",
    "for item in unpacked_values:\n",
    "    print(item)"
   ]
  },
  {
   "cell_type": "code",
   "execution_count": null,
   "metadata": {},
   "outputs": [],
   "source": [
    "person={\n",
    "    \"name\":\"John\",\n",
    "    \"age\":20,\n",
    "    \"married\": False,\n",
    "    'kids': ['kid1','kid2','kid3']\n",
    "}\n",
    "\n",
    "print(person['kids'])\n",
    "\n",
    "\n",
    "person['kids'].append('kid4')\n",
    "\n",
    "print(person)"
   ]
  },
  {
   "cell_type": "code",
   "execution_count": null,
   "metadata": {},
   "outputs": [],
   "source": [
    "sample_dict = { \n",
    "   \"class\":{ \n",
    "      \"student\":{ \n",
    "         \"name\":\"Mike\",\n",
    "         \"marks\":{ \n",
    "            \"physics\":70,\n",
    "            \"history\":80\n",
    "         }\n",
    "      }\n",
    "   }\n",
    "}\n",
    "\n",
    "print(sample_dict['class']['student']['marks']['history'])"
   ]
  },
  {
   "cell_type": "code",
   "execution_count": null,
   "metadata": {},
   "outputs": [],
   "source": [
    "sample_dict = {\n",
    "  \"name\": \"Kelly\",\n",
    "  \"age\":25,\n",
    "  \"salary\": 8000,\n",
    "  \"city\": \"New york\"\n",
    "\n",
    "}\n",
    "keys_to_remove = [\"name\", \"salary\"]\n",
    "\n",
    "for key in keys_to_remove:\n",
    "    del sample_dict[key]\n",
    "\n",
    "\n",
    "print(sample_dict)"
   ]
  },
  {
   "cell_type": "code",
   "execution_count": null,
   "metadata": {},
   "outputs": [],
   "source": [
    "sample_dict = {\n",
    "  \"name\": \"Kelly\",\n",
    "  \"age\":25,\n",
    "  \"salary\": 8000,\n",
    "  \"city\": \"New york\"\n",
    "}\n",
    "\n",
    "print(sample_dict)\n",
    "\n",
    "sample_dict.clear()\n",
    "\n",
    "print(sample_dict)"
   ]
  },
  {
   "cell_type": "code",
   "execution_count": null,
   "metadata": {},
   "outputs": [],
   "source": [
    "list1 = [1,2,3]\n",
    "list2 = ['a','b','c']\n",
    "\n",
    "zipped_items=zip(list1, list2) #zipping output\n",
    "\n",
    "print(zipped_items)\n",
    "\n",
    "\n",
    "for item in zipped_items:\n",
    "    print(item)"
   ]
  },
  {
   "cell_type": "code",
   "execution_count": null,
   "metadata": {},
   "outputs": [],
   "source": [
    "list1 = [1,2,3]\n",
    "\n",
    "for num in list1:\n",
    "    print(num)\n",
    "else:\n",
    "    print(\"Loop terminated\")\n",
    "\n",
    "print(\"Done\")"
   ]
  },
  {
   "cell_type": "code",
   "execution_count": null,
   "metadata": {},
   "outputs": [],
   "source": [
    "i=10\n",
    "\n",
    "while i>0:\n",
    "    print(i)\n",
    "    i=i-1\n",
    "else:\n",
    "    print(f\"reached 0 \\n {i}\")"
   ]
  },
  {
   "cell_type": "code",
   "execution_count": null,
   "metadata": {},
   "outputs": [],
   "source": [
    "names=['ram', 'shyam', 'hari', 'gita', 'sita']\n",
    "\n",
    "for name in names:\n",
    "    if name=='hari':\n",
    "        pass\n",
    "    print(name)"
   ]
  },
  {
   "cell_type": "code",
   "execution_count": null,
   "metadata": {},
   "outputs": [],
   "source": [
    "def do_something():\n",
    "    pass\n",
    "\n",
    "a=1+2\n",
    "print(a)"
   ]
  },
  {
   "cell_type": "code",
   "execution_count": null,
   "metadata": {},
   "outputs": [],
   "source": [
    "person={\n",
    "    \"name\":\"John\",\n",
    "    \"age\":20,\n",
    "    \"married\": False\n",
    "}\n",
    "\n",
    "#accessing all keys using a loop\n",
    "for key in person:\n",
    "    print(key)\n",
    "\n",
    "\n",
    "#accessing all values using a loop\n",
    "\n",
    "for key in person:\n",
    "    print(person[key])\n",
    "\n",
    "#accessing both key and value with a loop\n",
    "\n",
    "for key,value in person.items():\n",
    "    print(key,value)"
   ]
  },
  {
   "cell_type": "code",
   "execution_count": null,
   "metadata": {},
   "outputs": [],
   "source": [
    "for i in range(10,20):\n",
    "   print(i)"
   ]
  },
  {
   "cell_type": "code",
   "execution_count": null,
   "metadata": {},
   "outputs": [],
   "source": [
    "marks=[10,20,30,40,50]\n",
    "\n",
    "print(max(marks))\n",
    "print(min(marks))\n",
    "print(sum(marks))"
   ]
  },
  {
   "cell_type": "code",
   "execution_count": null,
   "metadata": {},
   "outputs": [],
   "source": [
    "while True:\n",
    "    print(\"Hello\")"
   ]
  },
  {
   "cell_type": "code",
   "execution_count": null,
   "metadata": {},
   "outputs": [],
   "source": [
    "#searching a value in a list\n",
    "\n",
    "names=['ram', 'shyam', 'hari', 'gita', 'sita']\n",
    "\n",
    "search_value=input(\"Enter a name to search: \")\n",
    "\n",
    "found=False #flag\n",
    "\n",
    "\n",
    "for name in names:\n",
    "    if found==False:\n",
    "        print(name)\n",
    "        if name==search_value:\n",
    "            print(f\"Found: {search_value}\")\n",
    "            found=True\n",
    "\n",
    "\n",
    "\n",
    "# for name in names:\n",
    "#     print(name)\n",
    "#     if name==search_value:\n",
    "#         print(f\"Found: {search_value}\")"
   ]
  },
  {
   "cell_type": "code",
   "execution_count": null,
   "metadata": {},
   "outputs": [],
   "source": [
    "#searching a value in a list\n",
    "\n",
    "names=['ram', 'shyam', 'hari', 'gita', 'sita']\n",
    "\n",
    "search_value=input(\"Enter a name to search: \")\n",
    "\n",
    "for name in names:\n",
    "    print(name)\n",
    "    if name==search_value:\n",
    "        print(f\"Found: {search_value}\")\n",
    "        break"
   ]
  },
  {
   "cell_type": "code",
   "execution_count": null,
   "metadata": {},
   "outputs": [],
   "source": [
    "#program to calculate the average of marks\n",
    "marks=[10,20,30,40,50]\n",
    "\n",
    "sum=0\n",
    "for mark in marks:\n",
    "    sum=sum+mark\n",
    "\n",
    "print(sum)\n",
    "\n",
    "print(sum/len(marks))"
   ]
  },
  {
   "cell_type": "code",
   "execution_count": null,
   "metadata": {},
   "outputs": [],
   "source": [
    "#program to calculate the average of marks\n",
    "marks=[10,20,30,40,50]\n",
    "\n",
    "sum=0\n",
    "for mark in marks:\n",
    "    if mark==30:\n",
    "        continue\n",
    "    sum=sum+mark\n",
    "\n",
    "print(sum)\n",
    "\n",
    "print(sum/len(marks))"
   ]
  },
  {
   "cell_type": "code",
   "execution_count": null,
   "metadata": {},
   "outputs": [],
   "source": [
    "for i in range(10):\n",
    "    if 3 <= i <= 5:\n",
    "        print(i)"
   ]
  },
  {
   "cell_type": "code",
   "execution_count": null,
   "metadata": {},
   "outputs": [],
   "source": [
    "marks=[10,20,30,40,50]\n",
    "\n",
    "i=0\n",
    "for mark in marks:\n",
    "    print(f'{i}: {mark}')\n",
    "    i=i+1"
   ]
  },
  {
   "cell_type": "code",
   "execution_count": null,
   "metadata": {},
   "outputs": [],
   "source": [
    "marks=[10,20,30,40,50]\n",
    "\n",
    "\n",
    "for i,mark in enumerate(marks):\n",
    "    print(f'{i}: {mark}')"
   ]
  },
  {
   "cell_type": "code",
   "execution_count": null,
   "metadata": {},
   "outputs": [],
   "source": [
    "names=['ram', 'shyam', 'hari', 'gita', 'sita']\n",
    "\n",
    "i=0\n",
    "for name in names:\n",
    "    names[i]=name.upper()\n",
    "    i=i+1\n",
    "\n",
    "print(names)"
   ]
  },
  {
   "cell_type": "code",
   "execution_count": null,
   "metadata": {},
   "outputs": [],
   "source": [
    "names=['ram', 'shyam', 'hari', 'gita', 'sita']\n",
    "\n",
    "\n",
    "capital_names=[name.upper() for name in names]\n",
    "print(capital_names)"
   ]
  },
  {
   "cell_type": "code",
   "execution_count": null,
   "metadata": {},
   "outputs": [],
   "source": [
    "mark=60\n",
    "\n",
    "if mark>50:\n",
    "    print(\"pass\")\n",
    "else:\n",
    "    print(\"fail\")\n",
    "\n",
    "\n",
    "print(\"Pass\") if mark>50 else print(\"Fail\")"
   ]
  },
  {
   "cell_type": "code",
   "execution_count": null,
   "metadata": {},
   "outputs": [],
   "source": [
    "names=[\"John\",\"Tom\",\"Don\"]\n",
    "\n",
    "students=[ [\"John\",[10,20,30]], [ \"Tom\",[20,30,40]],    [ \"Don\",[30,40,50]]] #3d\n",
    "\n",
    "for student in students:\n",
    "    for mark in student[1]:\n",
    "        print(mark)"
   ]
  }
 ],
 "metadata": {
  "kernelspec": {
   "display_name": "Python 3",
   "language": "python",
   "name": "python3"
  },
  "language_info": {
   "codemirror_mode": {
    "name": "ipython",
    "version": 3
   },
   "file_extension": ".py",
   "mimetype": "text/x-python",
   "name": "python",
   "nbconvert_exporter": "python",
   "pygments_lexer": "ipython3",
   "version": "3.11.4"
  },
  "orig_nbformat": 4
 },
 "nbformat": 4,
 "nbformat_minor": 2
}
