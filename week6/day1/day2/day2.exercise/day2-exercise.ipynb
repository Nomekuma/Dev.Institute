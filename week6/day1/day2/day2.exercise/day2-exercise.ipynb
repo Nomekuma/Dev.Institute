{
 "cells": [
  {
   "cell_type": "code",
   "execution_count": 1,
   "metadata": {},
   "outputs": [
    {
     "name": "stdout",
     "output_type": "stream",
     "text": [
      "Hello world\n",
      "Hello world\n",
      "Hello world\n",
      "Hello world\n"
     ]
    }
   ],
   "source": [
    "print(\"Hello world\\n\" * 4, end=\"\")\n"
   ]
  },
  {
   "cell_type": "code",
   "execution_count": 2,
   "metadata": {},
   "outputs": [
    {
     "name": "stdout",
     "output_type": "stream",
     "text": [
      "7762392\n"
     ]
    }
   ],
   "source": [
    "result = (99 ** 3) * 8\n",
    "print(result)\n"
   ]
  },
  {
   "cell_type": "code",
   "execution_count": 3,
   "metadata": {},
   "outputs": [
    {
     "name": "stdout",
     "output_type": "stream",
     "text": [
      "I have a MyBrand computer\n"
     ]
    }
   ],
   "source": [
    "# Step 1: Create the variable computer_brand and assign the brand name of your computer to it\n",
    "computer_brand = \"MyBrand\"  # Replace \"MyBrand\" with the actual brand name of your computer\n",
    "\n",
    "# Step 2: Print the sentence using the computer_brand variable\n",
    "print(\"I have a\", computer_brand, \"computer\")\n"
   ]
  },
  {
   "cell_type": "code",
   "execution_count": 4,
   "metadata": {},
   "outputs": [
    {
     "name": "stdout",
     "output_type": "stream",
     "text": [
      "My name is Sakeel Guheea, I am 31 years old, and my shoe size is 8.5.\n"
     ]
    }
   ],
   "source": [
    "# Step 1: Create the variable name and set its value to your name\n",
    "name = \"Sakeel Guheea\"  # Replace \"Your Name\" with your actual name\n",
    "\n",
    "# Step 2: Create the variable age and set its value to your age\n",
    "age = 31  # Replace 25 with your actual age\n",
    "\n",
    "# Step 3: Create the variable shoe_size and set its value to your shoe size\n",
    "shoe_size = 8.5  # Replace 8.5 with your actual shoe size\n",
    "\n",
    "# Step 4: Create the variable info and set its value to an interesting sentence about yourself\n",
    "info = f\"My name is {name}, I am {age} years old, and my shoe size is {shoe_size}.\"\n",
    "\n",
    "# Step 5: Print the info message\n",
    "print(info)\n"
   ]
  },
  {
   "cell_type": "code",
   "execution_count": 5,
   "metadata": {},
   "outputs": [
    {
     "name": "stdout",
     "output_type": "stream",
     "text": [
      "Hello World\n"
     ]
    }
   ],
   "source": [
    "# Step 1: Create two variables a and b and assign them numerical values\n",
    "a = 10  # Replace 10 with your desired value for 'a'\n",
    "b = 5   # Replace 5 with your desired value for 'b'\n",
    "\n",
    "# Step 2: Check if 'a' is bigger than 'b' and print \"Hello World\" if the condition is true\n",
    "if a > b:\n",
    "    print(\"Hello World\")\n"
   ]
  },
  {
   "cell_type": "code",
   "execution_count": 4,
   "metadata": {},
   "outputs": [
    {
     "name": "stdout",
     "output_type": "stream",
     "text": [
      "1 is odd.\n"
     ]
    }
   ],
   "source": [
    "# Step 1: Ask the user for a number and convert it to an integer\n",
    "user_input = input(\"Enter a number: 1\")\n",
    "number = int(user_input)\n",
    "\n",
    "# Step 2: Check if the number is odd or even and print the result\n",
    "if number % 2 == 0:\n",
    "    print(f\"{number} is even.\")\n",
    "else:\n",
    "    print(f\"{number} is odd.\")\n"
   ]
  },
  {
   "cell_type": "code",
   "execution_count": 5,
   "metadata": {},
   "outputs": [
    {
     "name": "stdout",
     "output_type": "stream",
     "text": [
      "Nice to meet you, 1! But my name is Sakeel Guheea. We should form a superhero duo!\n"
     ]
    }
   ],
   "source": [
    "# Step 1: Ask the user for their name\n",
    "user_name = input(\"What's your name? \")\n",
    "\n",
    "# Step 2: Compare the user's name with a pre-defined name (e.g., \"ChatGPT\")\n",
    "pre_defined_name = \"Sakeel Guheea\"\n",
    "\n",
    "# Step 3: Check if the names are the same and print a funny message accordingly\n",
    "if user_name.lower() == pre_defined_name.lower():\n",
    "    print(\"Hey, we have the same name! We must be twins from different dimensions!\")\n",
    "else:\n",
    "    print(f\"Nice to meet you, {user_name}! But my name is {pre_defined_name}. We should form a superhero duo!\")\n"
   ]
  },
  {
   "cell_type": "code",
   "execution_count": 6,
   "metadata": {},
   "outputs": [
    {
     "name": "stdout",
     "output_type": "stream",
     "text": [
      "You need to grow some more to ride the roller coaster. Keep reaching for the stars!\n"
     ]
    }
   ],
   "source": [
    "# Step 1: Ask the user for their height in inches and convert it to centimeters\n",
    "user_height_inches = float(input(\"Please enter your height in inches: \"))\n",
    "user_height_cm = user_height_inches * 2.54\n",
    "\n",
    "# Step 2: Check if the user's height is over 145cm and print the appropriate message\n",
    "if user_height_cm > 145:\n",
    "    print(\"You are tall enough to ride the roller coaster! Enjoy the ride!\")\n",
    "else:\n",
    "    print(\"You need to grow some more to ride the roller coaster. Keep reaching for the stars!\")\n"
   ]
  },
  {
   "cell_type": "code",
   "execution_count": null,
   "metadata": {},
   "outputs": [],
   "source": []
  }
 ],
 "metadata": {
  "kernelspec": {
   "display_name": "Python 3",
   "language": "python",
   "name": "python3"
  },
  "language_info": {
   "codemirror_mode": {
    "name": "ipython",
    "version": 3
   },
   "file_extension": ".py",
   "mimetype": "text/x-python",
   "name": "python",
   "nbconvert_exporter": "python",
   "pygments_lexer": "ipython3",
   "version": "3.11.4"
  },
  "orig_nbformat": 4
 },
 "nbformat": 4,
 "nbformat_minor": 2
}
