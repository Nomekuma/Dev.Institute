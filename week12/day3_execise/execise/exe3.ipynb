{
 "cells": [
  {
   "cell_type": "code",
   "execution_count": 1,
   "metadata": {},
   "outputs": [
    {
     "name": "stdout",
     "output_type": "stream",
     "text": [
      "Random NumPy Array:\n",
      "[[22  7 47 53 60 55]\n",
      " [54 48 67 90  2 60]\n",
      " [83 68 67 93 71 15]\n",
      " [82 50  4  5 28 37]\n",
      " [38 58 60 26 67 30]]\n",
      "Maximum integer for each row:\n",
      "[60 90 93 82 67]\n"
     ]
    }
   ],
   "source": [
    "import numpy as np\n",
    "\n",
    "# Create a random NumPy array with shape (5, 6) filled with integers between 1 and 100\n",
    "array = np.random.randint(1, 101, size=(5, 6))\n",
    "\n",
    "print(\"Random NumPy Array:\")\n",
    "print(array)\n",
    "\n",
    "# Compute the maximum integer for each row\n",
    "max_per_row = np.max(array, axis=1)\n",
    "\n",
    "print(\"Maximum integer for each row:\")\n",
    "print(max_per_row)\n"
   ]
  }
 ],
 "metadata": {
  "kernelspec": {
   "display_name": "Python 3",
   "language": "python",
   "name": "python3"
  },
  "language_info": {
   "codemirror_mode": {
    "name": "ipython",
    "version": 3
   },
   "file_extension": ".py",
   "mimetype": "text/x-python",
   "name": "python",
   "nbconvert_exporter": "python",
   "pygments_lexer": "ipython3",
   "version": "3.11.4"
  },
  "orig_nbformat": 4
 },
 "nbformat": 4,
 "nbformat_minor": 2
}
