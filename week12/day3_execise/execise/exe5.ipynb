{
 "cells": [
  {
   "cell_type": "code",
   "execution_count": 1,
   "metadata": {},
   "outputs": [
    {
     "ename": "ModuleNotFoundError",
     "evalue": "No module named 'pandas'",
     "output_type": "error",
     "traceback": [
      "\u001b[1;31m---------------------------------------------------------------------------\u001b[0m",
      "\u001b[1;31mModuleNotFoundError\u001b[0m                       Traceback (most recent call last)",
      "Cell \u001b[1;32mIn[1], line 1\u001b[0m\n\u001b[1;32m----> 1\u001b[0m \u001b[39mimport\u001b[39;00m \u001b[39mpandas\u001b[39;00m \u001b[39mas\u001b[39;00m \u001b[39mpd\u001b[39;00m\n\u001b[0;32m      3\u001b[0m \u001b[39m# Create the Series\u001b[39;00m\n\u001b[0;32m      4\u001b[0m series \u001b[39m=\u001b[39m pd\u001b[39m.\u001b[39mSeries([\u001b[39m'\u001b[39m\u001b[39m01 Jan 2020\u001b[39m\u001b[39m'\u001b[39m, \u001b[39m'\u001b[39m\u001b[39m10-19-2020\u001b[39m\u001b[39m'\u001b[39m, \u001b[39m'\u001b[39m\u001b[39m20150303\u001b[39m\u001b[39m'\u001b[39m, \u001b[39m'\u001b[39m\u001b[39m2013/04/04\u001b[39m\u001b[39m'\u001b[39m, \u001b[39m'\u001b[39m\u001b[39m2012-05-05\u001b[39m\u001b[39m'\u001b[39m, \u001b[39m'\u001b[39m\u001b[39m2013-06-06T12:20\u001b[39m\u001b[39m'\u001b[39m])\n",
      "\u001b[1;31mModuleNotFoundError\u001b[0m: No module named 'pandas'"
     ]
    }
   ],
   "source": [
    "import pandas as pd\n",
    "\n",
    "# Create the Series\n",
    "series = pd.Series(['01 Jan 2020', '10-19-2020', '20150303', '2013/04/04', '2012-05-05', '2013-06-06T12:20'])\n",
    "\n",
    "# Convert the strings to datetime objects\n",
    "dates = pd.to_datetime(series)\n",
    "\n",
    "# Extract day of month, week number, day of year, and day of week\n",
    "day_of_month = dates.dt.day\n",
    "week_number = dates.dt.week\n",
    "day_of_year = dates.dt.dayofyear\n",
    "day_of_week = dates.dt.dayofweek\n",
    "\n",
    "# Create a DataFrame to display the extracted information\n",
    "result_df = pd.DataFrame({\n",
    "    'Date': dates,\n",
    "    'Day of Month': day_of_month,\n",
    "    'Week Number': week_number,\n",
    "    'Day of Year': day_of_year,\n",
    "    'Day of Week': day_of_week\n",
    "})\n",
    "\n",
    "print(result_df)\n"
   ]
  }
 ],
 "metadata": {
  "kernelspec": {
   "display_name": "Python 3",
   "language": "python",
   "name": "python3"
  },
  "language_info": {
   "codemirror_mode": {
    "name": "ipython",
    "version": 3
   },
   "file_extension": ".py",
   "mimetype": "text/x-python",
   "name": "python",
   "nbconvert_exporter": "python",
   "pygments_lexer": "ipython3",
   "version": "3.11.4"
  },
  "orig_nbformat": 4
 },
 "nbformat": 4,
 "nbformat_minor": 2
}
