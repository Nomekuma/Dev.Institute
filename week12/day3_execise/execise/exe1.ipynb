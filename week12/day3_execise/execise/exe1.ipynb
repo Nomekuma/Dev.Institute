{
 "cells": [
  {
   "cell_type": "code",
   "execution_count": 1,
   "metadata": {},
   "outputs": [
    {
     "name": "stdout",
     "output_type": "stream",
     "text": [
      "[ 0.   2.5  5.   7.5 10. ]\n"
     ]
    }
   ],
   "source": [
    "import numpy as np\n",
    "\n",
    "def create_numpy_array(start, length, stop):\n",
    "    if length < 1:\n",
    "        raise ValueError(\"Length must be greater than or equal to 1\")\n",
    "    \n",
    "    step = (stop - start) / (length - 1)\n",
    "    arr = np.arange(start, stop + step, step)\n",
    "    \n",
    "    return arr\n",
    "\n",
    "# Example usage:\n",
    "start = 0\n",
    "length = 5\n",
    "stop = 10\n",
    "\n",
    "result = create_numpy_array(start, length, stop)\n",
    "print(result)\n"
   ]
  },
  {
   "cell_type": "code",
   "execution_count": 2,
   "metadata": {},
   "outputs": [
    {
     "name": "stdout",
     "output_type": "stream",
     "text": [
      "[  6.  10.  14.  18.  22.  26.  30.  34.  38.  42.  46.  50.  54.  58.\n",
      "  62.  66.  70.  74.  78.  82.  86.  90.  94.  98. 102. 106. 110. 114.\n",
      " 118. 122. 126. 130. 134. 138. 142. 146. 150. 154. 158. 162. 166. 170.\n",
      " 174. 178. 182. 186. 190. 194. 198. 202. 206. 210. 214. 218. 222. 226.\n",
      " 230. 234. 238. 242. 246. 250. 254. 258. 262. 266. 270. 274. 278. 282.\n",
      " 286. 290. 294. 298. 302. 306. 310. 314. 318. 322. 326. 330. 334. 338.\n",
      " 342. 346. 350. 354. 358. 362. 366. 370. 374. 378. 382. 386. 390. 394.\n",
      " 398. 402.]\n"
     ]
    }
   ],
   "source": [
    "import numpy as np\n",
    "\n",
    "def create_numpy_array(start, length, stop):\n",
    "    if length < 1:\n",
    "        raise ValueError(\"Length must be greater than or equal to 1\")\n",
    "    \n",
    "    step = (stop - start) / (length - 1)\n",
    "    arr = np.arange(start, stop + step, step)\n",
    "    \n",
    "    return arr\n",
    "\n",
    "# Create a NumPy array with length 100, starting from 6, and step of 4 between consecutive numbers\n",
    "start = 6\n",
    "length = 100\n",
    "stop = start + (length - 1) * 4  # Calculate the stop value based on the start and step\n",
    "\n",
    "result = create_numpy_array(start, length, stop)\n",
    "print(result)\n"
   ]
  }
 ],
 "metadata": {
  "kernelspec": {
   "display_name": "Python 3",
   "language": "python",
   "name": "python3"
  },
  "language_info": {
   "codemirror_mode": {
    "name": "ipython",
    "version": 3
   },
   "file_extension": ".py",
   "mimetype": "text/x-python",
   "name": "python",
   "nbconvert_exporter": "python",
   "pygments_lexer": "ipython3",
   "version": "3.11.4"
  },
  "orig_nbformat": 4
 },
 "nbformat": 4,
 "nbformat_minor": 2
}
