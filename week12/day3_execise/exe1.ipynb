{
 "cells": [
  {
   "cell_type": "code",
   "execution_count": 1,
   "metadata": {},
   "outputs": [
    {
     "name": "stdout",
     "output_type": "stream",
     "text": [
      "[[ 83  93  53  35  13  20  98   1  84  42  71  95  51  77  89 100   4  21\n",
      "   97  38]\n",
      " [ 21  29  91  96   9  89   3  61   4   9  81  53  68  39  97  18  77  37\n",
      "   49  41]\n",
      " [ 80  16  30  98  10  85   7  15  89  60  61  88  86  86  16  86  33  35\n",
      "   33  98]\n",
      " [ 74  33  87  20  33  65  61  17  13   4  28  92  40  97  78  89  89   4\n",
      "   42  55]\n",
      " [ 74  55  10  40  39  96  26  97  47  13  20  65  29  59  85  10  49   8\n",
      "   57  91]\n",
      " [  6  41  91  70   7  89  77   8  13  19  66  43  71  80  40  44  14  53\n",
      "   57  29]\n",
      " [100  73  43  13  22   8  91  35  79  99  97  90  62  31  37  81  56  48\n",
      "   84  60]\n",
      " [ 40  89  28  47  26  80  67  49  10   8  40  47  85  35  40  16  25  82\n",
      "   32  49]\n",
      " [ 55  33   6  20  42  38  90  86  94  71  16   9  11  84  96  72  58  58\n",
      "   60  96]\n",
      " [ 19  70  60  97  36  25  37  99  56  55  77  95  24  77  54  36  70  15\n",
      "   30  52]]\n"
     ]
    }
   ],
   "source": [
    "import numpy as np\n",
    "\n",
    "M = 10  # Number of rows\n",
    "N = 20  # Number of columns\n",
    "\n",
    "# Create a NumPy array filled with random integers between 1 and 100\n",
    "table = np.random.randint(1, 101, size=(M, N))\n",
    "\n",
    "# Print the table\n",
    "print(table)\n"
   ]
  },
  {
   "cell_type": "code",
   "execution_count": 2,
   "metadata": {},
   "outputs": [
    {
     "name": "stdout",
     "output_type": "stream",
     "text": [
      "Third row using Python list:\n",
      "[80 16 30 98 10 85  7 15 89 60 61 88 86 86 16 86 33 35 33 98]\n"
     ]
    }
   ],
   "source": [
    "# Assuming you have already created the 'table' using the code provided earlier\n",
    "\n",
    "third_row = table[2]  # Index 2 corresponds to the third row (Python uses 0-based indexing)\n",
    "\n",
    "print(\"Third row using Python list:\")\n",
    "print(third_row)\n"
   ]
  },
  {
   "cell_type": "code",
   "execution_count": 3,
   "metadata": {},
   "outputs": [
    {
     "name": "stdout",
     "output_type": "stream",
     "text": [
      "Third row using NumPy:\n",
      "[80 16 30 98 10 85  7 15 89 60 61 88 86 86 16 86 33 35 33 98]\n"
     ]
    }
   ],
   "source": [
    "import numpy as np\n",
    "\n",
    "# Assuming you have already created the 'table' using the NumPy code provided earlier\n",
    "\n",
    "third_row = table[2, :]  # Index 2 corresponds to the third row, ':' means all columns\n",
    "\n",
    "print(\"Third row using NumPy:\")\n",
    "print(third_row)\n"
   ]
  },
  {
   "cell_type": "code",
   "execution_count": 4,
   "metadata": {},
   "outputs": [
    {
     "name": "stdout",
     "output_type": "stream",
     "text": [
      "Third column using Python list:\n",
      "53\n",
      "91\n",
      "30\n",
      "87\n",
      "10\n",
      "91\n",
      "43\n",
      "28\n",
      "6\n",
      "60\n"
     ]
    }
   ],
   "source": [
    "# Assuming you have already created the 'table' using the code provided earlier\n",
    "\n",
    "third_column = [row[2] for row in table]  # Index 2 corresponds to the third column\n",
    "\n",
    "print(\"Third column using Python list:\")\n",
    "for value in third_column:\n",
    "    print(value)\n"
   ]
  },
  {
   "cell_type": "code",
   "execution_count": 5,
   "metadata": {},
   "outputs": [
    {
     "name": "stdout",
     "output_type": "stream",
     "text": [
      "Third column using NumPy:\n",
      "[53 91 30 87 10 91 43 28  6 60]\n"
     ]
    }
   ],
   "source": [
    "import numpy as np\n",
    "\n",
    "# Assuming you have already created the 'table' using the NumPy code provided earlier\n",
    "\n",
    "third_column = table[:, 2]  # Index 2 corresponds to the third column\n",
    "\n",
    "print(\"Third column using NumPy:\")\n",
    "print(third_column)\n"
   ]
  },
  {
   "cell_type": "code",
   "execution_count": 6,
   "metadata": {},
   "outputs": [
    {
     "name": "stdout",
     "output_type": "stream",
     "text": [
      "Table with last row elements set to 7 using Python list:\n",
      "[ 83  93  53  35  13  20  98   1  84  42  71  95  51  77  89 100   4  21\n",
      "  97  38]\n",
      "[21 29 91 96  9 89  3 61  4  9 81 53 68 39 97 18 77 37 49 41]\n",
      "[80 16 30 98 10 85  7 15 89 60 61 88 86 86 16 86 33 35 33 98]\n",
      "[74 33 87 20 33 65 61 17 13  4 28 92 40 97 78 89 89  4 42 55]\n",
      "[74 55 10 40 39 96 26 97 47 13 20 65 29 59 85 10 49  8 57 91]\n",
      "[ 6 41 91 70  7 89 77  8 13 19 66 43 71 80 40 44 14 53 57 29]\n",
      "[100  73  43  13  22   8  91  35  79  99  97  90  62  31  37  81  56  48\n",
      "  84  60]\n",
      "[40 89 28 47 26 80 67 49 10  8 40 47 85 35 40 16 25 82 32 49]\n",
      "[55 33  6 20 42 38 90 86 94 71 16  9 11 84 96 72 58 58 60 96]\n",
      "[7 7 7 7 7 7 7 7 7 7 7 7 7 7 7 7 7 7 7 7]\n"
     ]
    }
   ],
   "source": [
    "# Assuming you have already created the 'table' using the code provided earlier\n",
    "\n",
    "last_row_index = len(table) - 1  # Index of the last row\n",
    "\n",
    "for i in range(len(table[last_row_index])):\n",
    "    table[last_row_index][i] = 7\n",
    "\n",
    "print(\"Table with last row elements set to 7 using Python list:\")\n",
    "for row in table:\n",
    "    print(row)\n"
   ]
  },
  {
   "cell_type": "code",
   "execution_count": 7,
   "metadata": {},
   "outputs": [
    {
     "name": "stdout",
     "output_type": "stream",
     "text": [
      "Table with last row elements set to 7 using NumPy:\n",
      "[[ 83  93  53  35  13  20  98   1  84  42  71  95  51  77  89 100   4  21\n",
      "   97  38]\n",
      " [ 21  29  91  96   9  89   3  61   4   9  81  53  68  39  97  18  77  37\n",
      "   49  41]\n",
      " [ 80  16  30  98  10  85   7  15  89  60  61  88  86  86  16  86  33  35\n",
      "   33  98]\n",
      " [ 74  33  87  20  33  65  61  17  13   4  28  92  40  97  78  89  89   4\n",
      "   42  55]\n",
      " [ 74  55  10  40  39  96  26  97  47  13  20  65  29  59  85  10  49   8\n",
      "   57  91]\n",
      " [  6  41  91  70   7  89  77   8  13  19  66  43  71  80  40  44  14  53\n",
      "   57  29]\n",
      " [100  73  43  13  22   8  91  35  79  99  97  90  62  31  37  81  56  48\n",
      "   84  60]\n",
      " [ 40  89  28  47  26  80  67  49  10   8  40  47  85  35  40  16  25  82\n",
      "   32  49]\n",
      " [ 55  33   6  20  42  38  90  86  94  71  16   9  11  84  96  72  58  58\n",
      "   60  96]\n",
      " [  7   7   7   7   7   7   7   7   7   7   7   7   7   7   7   7   7   7\n",
      "    7   7]]\n"
     ]
    }
   ],
   "source": [
    "import numpy as np\n",
    "\n",
    "# Assuming you have already created the 'table' using the NumPy code provided earlier\n",
    "\n",
    "last_row_index = table.shape[0] - 1  # Index of the last row\n",
    "\n",
    "table[last_row_index, :] = 7\n",
    "\n",
    "print(\"Table with last row elements set to 7 using NumPy:\")\n",
    "print(table)\n"
   ]
  },
  {
   "cell_type": "code",
   "execution_count": 8,
   "metadata": {},
   "outputs": [
    {
     "name": "stdout",
     "output_type": "stream",
     "text": [
      "Table with last column set to sum of first two columns using Python list:\n",
      "[ 83  93  53  35  13  20  98   1  84  42  71  95  51  77  89 100   4  21\n",
      "  97 176]\n",
      "[21 29 91 96  9 89  3 61  4  9 81 53 68 39 97 18 77 37 49 50]\n",
      "[80 16 30 98 10 85  7 15 89 60 61 88 86 86 16 86 33 35 33 96]\n",
      "[ 74  33  87  20  33  65  61  17  13   4  28  92  40  97  78  89  89   4\n",
      "  42 107]\n",
      "[ 74  55  10  40  39  96  26  97  47  13  20  65  29  59  85  10  49   8\n",
      "  57 129]\n",
      "[ 6 41 91 70  7 89 77  8 13 19 66 43 71 80 40 44 14 53 57 47]\n",
      "[100  73  43  13  22   8  91  35  79  99  97  90  62  31  37  81  56  48\n",
      "  84 173]\n",
      "[ 40  89  28  47  26  80  67  49  10   8  40  47  85  35  40  16  25  82\n",
      "  32 129]\n",
      "[55 33  6 20 42 38 90 86 94 71 16  9 11 84 96 72 58 58 60 88]\n",
      "[ 7  7  7  7  7  7  7  7  7  7  7  7  7  7  7  7  7  7  7 14]\n"
     ]
    }
   ],
   "source": [
    "# Assuming you have already created the 'table' using the code provided earlier\n",
    "\n",
    "for i in range(len(table)):\n",
    "    table[i][-1] = table[i][0] + table[i][1]\n",
    "\n",
    "print(\"Table with last column set to sum of first two columns using Python list:\")\n",
    "for row in table:\n",
    "    print(row)\n"
   ]
  },
  {
   "cell_type": "code",
   "execution_count": 9,
   "metadata": {},
   "outputs": [
    {
     "name": "stdout",
     "output_type": "stream",
     "text": [
      "Table with last column set to sum of first two columns using NumPy:\n",
      "[[ 83  93  53  35  13  20  98   1  84  42  71  95  51  77  89 100   4  21\n",
      "   97 176]\n",
      " [ 21  29  91  96   9  89   3  61   4   9  81  53  68  39  97  18  77  37\n",
      "   49  50]\n",
      " [ 80  16  30  98  10  85   7  15  89  60  61  88  86  86  16  86  33  35\n",
      "   33  96]\n",
      " [ 74  33  87  20  33  65  61  17  13   4  28  92  40  97  78  89  89   4\n",
      "   42 107]\n",
      " [ 74  55  10  40  39  96  26  97  47  13  20  65  29  59  85  10  49   8\n",
      "   57 129]\n",
      " [  6  41  91  70   7  89  77   8  13  19  66  43  71  80  40  44  14  53\n",
      "   57  47]\n",
      " [100  73  43  13  22   8  91  35  79  99  97  90  62  31  37  81  56  48\n",
      "   84 173]\n",
      " [ 40  89  28  47  26  80  67  49  10   8  40  47  85  35  40  16  25  82\n",
      "   32 129]\n",
      " [ 55  33   6  20  42  38  90  86  94  71  16   9  11  84  96  72  58  58\n",
      "   60  88]\n",
      " [  7   7   7   7   7   7   7   7   7   7   7   7   7   7   7   7   7   7\n",
      "    7  14]]\n"
     ]
    }
   ],
   "source": [
    "import numpy as np\n",
    "\n",
    "# Assuming you have already created the 'table' using the NumPy code provided earlier\n",
    "\n",
    "table[:, -1] = table[:, 0] + table[:, 1]\n",
    "\n",
    "print(\"Table with last column set to sum of first two columns using NumPy:\")\n",
    "print(table)\n"
   ]
  }
 ],
 "metadata": {
  "kernelspec": {
   "display_name": "Python 3",
   "language": "python",
   "name": "python3"
  },
  "language_info": {
   "codemirror_mode": {
    "name": "ipython",
    "version": 3
   },
   "file_extension": ".py",
   "mimetype": "text/x-python",
   "name": "python",
   "nbconvert_exporter": "python",
   "pygments_lexer": "ipython3",
   "version": "3.11.4"
  },
  "orig_nbformat": 4
 },
 "nbformat": 4,
 "nbformat_minor": 2
}
