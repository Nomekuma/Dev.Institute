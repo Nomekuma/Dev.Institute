{
 "cells": [
  {
   "cell_type": "code",
   "execution_count": 1,
   "metadata": {},
   "outputs": [
    {
     "ename": "ModuleNotFoundError",
     "evalue": "No module named 'seaborn'",
     "output_type": "error",
     "traceback": [
      "\u001b[1;31m---------------------------------------------------------------------------\u001b[0m",
      "\u001b[1;31mModuleNotFoundError\u001b[0m                       Traceback (most recent call last)",
      "Cell \u001b[1;32mIn[1], line 1\u001b[0m\n\u001b[1;32m----> 1\u001b[0m \u001b[39mimport\u001b[39;00m \u001b[39mseaborn\u001b[39;00m \u001b[39mas\u001b[39;00m \u001b[39msns\u001b[39;00m\n\u001b[0;32m      2\u001b[0m \u001b[39mimport\u001b[39;00m \u001b[39mmatplotlib\u001b[39;00m\u001b[39m.\u001b[39;00m\u001b[39mpyplot\u001b[39;00m \u001b[39mas\u001b[39;00m \u001b[39mplt\u001b[39;00m\n\u001b[0;32m      3\u001b[0m \u001b[39mimport\u001b[39;00m \u001b[39mpandas\u001b[39;00m \u001b[39mas\u001b[39;00m \u001b[39mpd\u001b[39;00m\n",
      "\u001b[1;31mModuleNotFoundError\u001b[0m: No module named 'seaborn'"
     ]
    }
   ],
   "source": [
    "import seaborn as sns\n",
    "import matplotlib.pyplot as plt\n",
    "import pandas as pd\n",
    "\n",
    "# Load the Titanic dataset\n",
    "url = 'https://raw.githubusercontent.com/datasciencedojo/datasets/master/titanic.csv'\n",
    "df = pd.read_csv(url)\n",
    "\n",
    "# Set the style for the plots\n",
    "sns.set(style=\"whitegrid\")\n",
    "\n",
    "# Box plot of gender distribution by age\n",
    "plt.figure(figsize=(8, 6))\n",
    "sns.catplot(x=\"Sex\", y=\"Age\", data=df, kind=\"box\", palette=\"Set1\")\n",
    "plt.title(\"Gender Distribution by Age\")\n",
    "plt.xlabel(\"Gender\")\n",
    "plt.ylabel(\"Age\")\n",
    "plt.show()\n",
    "\n",
    "# Count plot of passenger class by gender\n",
    "plt.figure(figsize=(8, 6))\n",
    "sns.countplot(data=df, x=\"Pclass\", hue=\"Sex\", palette=\"Set2\")\n",
    "plt.title(\"Passenger Class Count by Gender\")\n",
    "plt.xlabel(\"Passenger Class\")\n",
    "plt.ylabel(\"Count\")\n",
    "plt.legend(title=\"Gender\")\n",
    "plt.show()\n",
    "\n",
    "# Facet grid of survival by passenger class and age\n",
    "g = sns.FacetGrid(df, col=\"Survived\", row=\"Pclass\", height=3, aspect=2, margin_titles=True)\n",
    "g.map(plt.hist, \"Age\", bins=20, color=\"steelblue\")\n",
    "g.set_axis_labels(\"Age\", \"Count\")\n",
    "g.set_titles(col_template=\"Survived: {col_name}\", row_template=\"Class: {row_name}\")\n",
    "plt.subplots_adjust(top=0.9)\n",
    "g.fig.suptitle(\"Survival by Passenger Class and Age\")\n",
    "plt.show()\n",
    "\n",
    "# Pairplot of numerical variables with hue as survival status\n",
    "num_vars = [\"Age\", \"Fare\", \"Parch\", \"SibSp\"]\n",
    "sns.pairplot(df, hue=\"Survived\", diag_kind=\"kde\", vars=num_vars, plot_kws={\"alpha\": 0.7})\n",
    "plt.suptitle(\"Pairplot of Numerical Variables with Survival Hue\")\n",
    "plt.show()\n"
   ]
  }
 ],
 "metadata": {
  "kernelspec": {
   "display_name": "Python 3",
   "language": "python",
   "name": "python3"
  },
  "language_info": {
   "codemirror_mode": {
    "name": "ipython",
    "version": 3
   },
   "file_extension": ".py",
   "mimetype": "text/x-python",
   "name": "python",
   "nbconvert_exporter": "python",
   "pygments_lexer": "ipython3",
   "version": "3.11.4"
  },
  "orig_nbformat": 4
 },
 "nbformat": 4,
 "nbformat_minor": 2
}
