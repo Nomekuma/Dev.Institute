{
 "cells": [
  {
   "cell_type": "code",
   "execution_count": 1,
   "metadata": {},
   "outputs": [
    {
     "name": "stdout",
     "output_type": "stream",
     "text": [
      "qVmrz\n"
     ]
    }
   ],
   "source": [
    "import string\n",
    "import random\n",
    "\n",
    "def generate_random_string(length):\n",
    "    if length < 1:\n",
    "        raise ValueError(\"Length should be at least 1\")\n",
    "\n",
    "    letters = string.ascii_letters  # Contains all uppercase and lowercase letters\n",
    "    random_string = ''.join(random.choice(letters) for _ in range(length))\n",
    "\n",
    "    return random_string\n",
    "\n",
    "# Generate a random string of length 5\n",
    "random_string_5 = generate_random_string(5)\n",
    "print(random_string_5)\n"
   ]
  }
 ],
 "metadata": {
  "kernelspec": {
   "display_name": "Python 3",
   "language": "python",
   "name": "python3"
  },
  "language_info": {
   "codemirror_mode": {
    "name": "ipython",
    "version": 3
   },
   "file_extension": ".py",
   "mimetype": "text/x-python",
   "name": "python",
   "nbconvert_exporter": "python",
   "pygments_lexer": "ipython3",
   "version": "3.11.4"
  },
  "orig_nbformat": 4
 },
 "nbformat": 4,
 "nbformat_minor": 2
}
