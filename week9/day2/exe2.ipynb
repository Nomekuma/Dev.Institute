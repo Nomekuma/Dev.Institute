{
 "cells": [
  {
   "cell_type": "code",
   "execution_count": 1,
   "metadata": {},
   "outputs": [],
   "source": [
    "# func.py\n",
    "def add_numbers(num1, num2):\n",
    "    result = num1 + num2\n",
    "    print(f\"The sum of {num1} and {num2} is: {result}\")\n"
   ]
  },
  {
   "cell_type": "code",
   "execution_count": 2,
   "metadata": {},
   "outputs": [
    {
     "ename": "ModuleNotFoundError",
     "evalue": "No module named 'func'",
     "output_type": "error",
     "traceback": [
      "\u001b[1;31m---------------------------------------------------------------------------\u001b[0m",
      "\u001b[1;31mModuleNotFoundError\u001b[0m                       Traceback (most recent call last)",
      "Cell \u001b[1;32mIn[2], line 1\u001b[0m\n\u001b[1;32m----> 1\u001b[0m \u001b[39mimport\u001b[39;00m \u001b[39mfunc\u001b[39;00m\n\u001b[0;32m      3\u001b[0m func\u001b[39m.\u001b[39madd_numbers(\u001b[39m5\u001b[39m, \u001b[39m7\u001b[39m)\n",
      "\u001b[1;31mModuleNotFoundError\u001b[0m: No module named 'func'"
     ]
    }
   ],
   "source": [
    "import func\n",
    "\n",
    "func.add_numbers(5, 7)\n"
   ]
  },
  {
   "cell_type": "code",
   "execution_count": 3,
   "metadata": {},
   "outputs": [],
   "source": [
    "# func.py\n",
    "def add_numbers(num1, num2):\n",
    "    result = num1 + num2\n",
    "    print(f\"The sum of {num1} and {num2} is: {result}\")\n"
   ]
  },
  {
   "cell_type": "code",
   "execution_count": 4,
   "metadata": {},
   "outputs": [
    {
     "ename": "ModuleNotFoundError",
     "evalue": "No module named 'func'",
     "output_type": "error",
     "traceback": [
      "\u001b[1;31m---------------------------------------------------------------------------\u001b[0m",
      "\u001b[1;31mModuleNotFoundError\u001b[0m                       Traceback (most recent call last)",
      "Cell \u001b[1;32mIn[4], line 1\u001b[0m\n\u001b[1;32m----> 1\u001b[0m \u001b[39mfrom\u001b[39;00m \u001b[39mfunc\u001b[39;00m \u001b[39mimport\u001b[39;00m add_numbers\n\u001b[0;32m      3\u001b[0m add_numbers(\u001b[39m5\u001b[39m, \u001b[39m7\u001b[39m)\n",
      "\u001b[1;31mModuleNotFoundError\u001b[0m: No module named 'func'"
     ]
    }
   ],
   "source": [
    "from func import add_numbers\n",
    "\n",
    "add_numbers(5, 7)\n"
   ]
  },
  {
   "cell_type": "code",
   "execution_count": 5,
   "metadata": {},
   "outputs": [],
   "source": [
    "# func.py\n",
    "def add_numbers(num1, num2):\n",
    "    result = num1 + num2\n",
    "    print(f\"The sum of {num1} and {num2} is: {result}\")\n"
   ]
  },
  {
   "cell_type": "code",
   "execution_count": 6,
   "metadata": {},
   "outputs": [
    {
     "ename": "ModuleNotFoundError",
     "evalue": "No module named 'func'",
     "output_type": "error",
     "traceback": [
      "\u001b[1;31m---------------------------------------------------------------------------\u001b[0m",
      "\u001b[1;31mModuleNotFoundError\u001b[0m                       Traceback (most recent call last)",
      "Cell \u001b[1;32mIn[6], line 1\u001b[0m\n\u001b[1;32m----> 1\u001b[0m \u001b[39mfrom\u001b[39;00m \u001b[39mfunc\u001b[39;00m \u001b[39mimport\u001b[39;00m add_numbers \u001b[39mas\u001b[39;00m add\n\u001b[0;32m      3\u001b[0m add(\u001b[39m5\u001b[39m, \u001b[39m7\u001b[39m)\n",
      "\u001b[1;31mModuleNotFoundError\u001b[0m: No module named 'func'"
     ]
    }
   ],
   "source": [
    "from func import add_numbers as add\n",
    "\n",
    "add(5, 7)\n"
   ]
  },
  {
   "cell_type": "code",
   "execution_count": 7,
   "metadata": {},
   "outputs": [],
   "source": [
    "# func.py\n",
    "def add_numbers(num1, num2):\n",
    "    result = num1 + num2\n",
    "    print(f\"The sum of {num1} and {num2} is: {result}\")\n"
   ]
  },
  {
   "cell_type": "code",
   "execution_count": 8,
   "metadata": {},
   "outputs": [
    {
     "ename": "ModuleNotFoundError",
     "evalue": "No module named 'func'",
     "output_type": "error",
     "traceback": [
      "\u001b[1;31m---------------------------------------------------------------------------\u001b[0m",
      "\u001b[1;31mModuleNotFoundError\u001b[0m                       Traceback (most recent call last)",
      "Cell \u001b[1;32mIn[8], line 1\u001b[0m\n\u001b[1;32m----> 1\u001b[0m \u001b[39mimport\u001b[39;00m \u001b[39mfunc\u001b[39;00m \u001b[39mas\u001b[39;00m \u001b[39mf\u001b[39;00m\n\u001b[0;32m      3\u001b[0m f\u001b[39m.\u001b[39madd_numbers(\u001b[39m5\u001b[39m, \u001b[39m7\u001b[39m)\n",
      "\u001b[1;31mModuleNotFoundError\u001b[0m: No module named 'func'"
     ]
    }
   ],
   "source": [
    "import func as f\n",
    "\n",
    "f.add_numbers(5, 7)\n"
   ]
  }
 ],
 "metadata": {
  "kernelspec": {
   "display_name": "Python 3",
   "language": "python",
   "name": "python3"
  },
  "language_info": {
   "codemirror_mode": {
    "name": "ipython",
    "version": 3
   },
   "file_extension": ".py",
   "mimetype": "text/x-python",
   "name": "python",
   "nbconvert_exporter": "python",
   "pygments_lexer": "ipython3",
   "version": "3.11.4"
  },
  "orig_nbformat": 4
 },
 "nbformat": 4,
 "nbformat_minor": 2
}
