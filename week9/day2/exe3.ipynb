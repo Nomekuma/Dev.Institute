{
 "cells": [
  {
   "cell_type": "code",
   "execution_count": 1,
   "metadata": {},
   "outputs": [
    {
     "name": "stdout",
     "output_type": "stream",
     "text": [
      "Sorry, you rolled 51, which is different from your chosen number 50.\n"
     ]
    }
   ],
   "source": [
    "import random\n",
    "\n",
    "def roll_dice_and_check(number):\n",
    "    if not 1 <= number <= 100:\n",
    "        raise ValueError(\"Number should be between 1 and 100\")\n",
    "\n",
    "    rolled_number = random.randint(1, 100)\n",
    "\n",
    "    if rolled_number == number:\n",
    "        print(f\"Success! You rolled {rolled_number}, which is the same as your chosen number {number}.\")\n",
    "    else:\n",
    "        print(f\"Sorry, you rolled {rolled_number}, which is different from your chosen number {number}.\")\n",
    "\n",
    "# Test the function with a random number (you can replace 50 with any number between 1 and 100)\n",
    "roll_dice_and_check(50)\n"
   ]
  }
 ],
 "metadata": {
  "kernelspec": {
   "display_name": "Python 3",
   "language": "python",
   "name": "python3"
  },
  "language_info": {
   "codemirror_mode": {
    "name": "ipython",
    "version": 3
   },
   "file_extension": ".py",
   "mimetype": "text/x-python",
   "name": "python",
   "nbconvert_exporter": "python",
   "pygments_lexer": "ipython3",
   "version": "3.11.4"
  },
  "orig_nbformat": 4
 },
 "nbformat": 4,
 "nbformat_minor": 2
}
