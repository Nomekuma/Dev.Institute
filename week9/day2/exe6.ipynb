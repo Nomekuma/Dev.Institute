{
 "cells": [
  {
   "cell_type": "code",
   "execution_count": 1,
   "metadata": {},
   "outputs": [
    {
     "name": "stdout",
     "output_type": "stream",
     "text": [
      "The 1st of January is in 149 days and 02:00:32 hours.\n"
     ]
    }
   ],
   "source": [
    "import datetime\n",
    "\n",
    "def time_left_until_january_1st():\n",
    "    current_date = datetime.datetime.now()\n",
    "    january_1st = datetime.datetime(current_date.year + 1, 1, 1)\n",
    "\n",
    "    time_left = january_1st - current_date\n",
    "    days = time_left.days\n",
    "    hours, remainder = divmod(time_left.seconds, 3600)\n",
    "    minutes, seconds = divmod(remainder, 60)\n",
    "\n",
    "    print(f\"The 1st of January is in {days} days and {hours:02d}:{minutes:02d}:{seconds:02d} hours.\")\n",
    "\n",
    "# Call the function to display the amount of time left until January 1st\n",
    "time_left_until_january_1st()\n"
   ]
  }
 ],
 "metadata": {
  "kernelspec": {
   "display_name": "Python 3",
   "language": "python",
   "name": "python3"
  },
  "language_info": {
   "codemirror_mode": {
    "name": "ipython",
    "version": 3
   },
   "file_extension": ".py",
   "mimetype": "text/x-python",
   "name": "python",
   "nbconvert_exporter": "python",
   "pygments_lexer": "ipython3",
   "version": "3.11.4"
  },
  "orig_nbformat": 4
 },
 "nbformat": 4,
 "nbformat_minor": 2
}
