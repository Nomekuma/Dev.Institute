{
 "cells": [
  {
   "cell_type": "code",
   "execution_count": 1,
   "metadata": {},
   "outputs": [
    {
     "name": "stdout",
     "output_type": "stream",
     "text": [
      "5 dollar\n",
      "5\n",
      "5 dollar\n",
      "10 dollar\n",
      "15 dollar\n",
      "5 dollar\n",
      "10 dollar\n",
      "20 dollar\n",
      "Cannot add between Currency type <dollar> and <shekel>\n"
     ]
    }
   ],
   "source": [
    "class Currency:\n",
    "    def __init__(self, currency, amount):\n",
    "        self.currency = currency\n",
    "        self.amount = amount\n",
    "\n",
    "    def __str__(self):\n",
    "        return f\"{self.amount} {self.currency}\"\n",
    "\n",
    "    def __int__(self):\n",
    "        return self.amount\n",
    "\n",
    "    def __repr__(self):\n",
    "        return f\"{self.amount} {self.currency}\"\n",
    "\n",
    "    def __add__(self, other):\n",
    "        if isinstance(other, int):\n",
    "            return Currency(self.currency, self.amount + other)\n",
    "        elif isinstance(other, Currency) and self.currency == other.currency:\n",
    "            return Currency(self.currency, self.amount + other.amount)\n",
    "        else:\n",
    "            raise TypeError(f\"Cannot add between Currency type <{self.currency}> and <{other.currency}>\")\n",
    "\n",
    "    def __iadd__(self, other):\n",
    "        return self.__add__(other)\n",
    "\n",
    "# Example usage:\n",
    "if __name__ == \"__main__\":\n",
    "    c1 = Currency('dollar', 5)\n",
    "    c2 = Currency('dollar', 10)\n",
    "    c3 = Currency('shekel', 1)\n",
    "    c4 = Currency('shekel', 10)\n",
    "\n",
    "    print(str(c1))  # Output: '5 dollars'\n",
    "    print(int(c1))  # Output: 5\n",
    "    print(repr(c1))  # Output: '5 dollars'\n",
    "\n",
    "    print(c1 + 5)  # Output: 10\n",
    "    print(c1 + c2)  # Output: 15\n",
    "\n",
    "    print(c1)  # Output: 5 dollars\n",
    "\n",
    "    c1 += 5\n",
    "    print(c1)  # Output: 10 dollars\n",
    "\n",
    "    c1 += c2\n",
    "    print(c1)  # Output: 20 dollars\n",
    "\n",
    "    try:\n",
    "        print(c1 + c3)  # Output: TypeError: Cannot add between Currency type <dollar> and <shekel>\n",
    "    except TypeError as e:\n",
    "        print(e)\n"
   ]
  }
 ],
 "metadata": {
  "kernelspec": {
   "display_name": "Python 3",
   "language": "python",
   "name": "python3"
  },
  "language_info": {
   "codemirror_mode": {
    "name": "ipython",
    "version": 3
   },
   "file_extension": ".py",
   "mimetype": "text/x-python",
   "name": "python",
   "nbconvert_exporter": "python",
   "pygments_lexer": "ipython3",
   "version": "3.11.4"
  },
  "orig_nbformat": 4
 },
 "nbformat": 4,
 "nbformat_minor": 2
}
