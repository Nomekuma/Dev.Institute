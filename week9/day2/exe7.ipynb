{
 "cells": [
  {
   "cell_type": "code",
   "execution_count": 1,
   "metadata": {},
   "outputs": [
    {
     "name": "stdout",
     "output_type": "stream",
     "text": [
      "You have lived for approximately 12,407,640 minutes.\n"
     ]
    }
   ],
   "source": [
    "import datetime\n",
    "\n",
    "def minutes_lived(birthdate):\n",
    "    current_datetime = datetime.datetime.now()\n",
    "    birth_datetime = datetime.datetime.strptime(birthdate, \"%Y-%m-%d %H:%M:%S\")\n",
    "\n",
    "    time_lived = current_datetime - birth_datetime\n",
    "    minutes_lived = time_lived.total_seconds() / 60\n",
    "\n",
    "    print(f\"You have lived for approximately {int(minutes_lived):,} minutes.\")\n",
    "\n",
    "# Call the function with the birthdate in the format \"YYYY-MM-DD HH:MM:SS\"\n",
    "birthdate = \"2000-01-01 12:00:00\"\n",
    "minutes_lived(birthdate)\n"
   ]
  }
 ],
 "metadata": {
  "kernelspec": {
   "display_name": "Python 3",
   "language": "python",
   "name": "python3"
  },
  "language_info": {
   "codemirror_mode": {
    "name": "ipython",
    "version": 3
   },
   "file_extension": ".py",
   "mimetype": "text/x-python",
   "name": "python",
   "nbconvert_exporter": "python",
   "pygments_lexer": "ipython3",
   "version": "3.11.4"
  },
  "orig_nbformat": 4
 },
 "nbformat": 4,
 "nbformat_minor": 2
}
