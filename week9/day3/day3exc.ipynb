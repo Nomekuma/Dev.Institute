{
 "cells": [
  {
   "cell_type": "code",
   "execution_count": 2,
   "metadata": {},
   "outputs": [
    {
     "name": "stdout",
     "output_type": "stream",
     "text": [
      "Darth\n",
      "Luke\n",
      "Darth\n",
      "Lea\n",
      "Darth\n",
      "Lea\n",
      "Lea\n",
      "Luke\n",
      "Darth\n",
      "Lea\n",
      "Darth\n",
      "Darth\n",
      "Lea\n",
      "Lea\n",
      "Darth\n",
      "Lea\n",
      "Darth\n",
      "Lea\n",
      "Luke\n",
      "Darth\n",
      "Lea\n",
      "Lea\n",
      "Darth\n",
      "Lea\n",
      "Darth\n",
      "Darth\n",
      "Lea\n",
      "Lea\n",
      "Luke\n",
      "Luke\n",
      "Lea\n",
      "Darth\n",
      "Darth\n",
      "Luke\n",
      "Lea\n",
      "Darth\n",
      "Darth\n",
      "Lea\n",
      "Lea\n",
      "Lea\n",
      "Lea\n",
      "Lea\n",
      "Luke\n",
      "Darth\n",
      "Luke\n",
      "Lea\n",
      "Lea\n",
      "Lea\n",
      "Lea\n",
      "Luke\n",
      "Lea\n",
      "Darth\n",
      "Lea\n",
      "Lea\n",
      "Darth\n",
      "Lea\n",
      "Lea\n",
      "Darth\n",
      "Darth\n",
      "Lea\n",
      "Darth\n",
      "Lea\n",
      "Darth\n",
      "Luke\n",
      "Lea\n",
      "Luke\n",
      "Darth\n",
      "Darth\n",
      "Luke\n",
      "Darth\n",
      "Lea\n",
      "Darth\n",
      "Lea\n",
      "Luke\n",
      "Lea\n",
      "Lea\n",
      "Lea\n",
      "Lea\n",
      "Lea\n",
      "Darth\n",
      "Lea\n",
      "Lea\n",
      "Lea\n",
      "Lea\n",
      "Lea\n",
      "Lea\n",
      "Lea\n",
      "Luke\n",
      "Lea\n",
      "Lea\n",
      "Lea\n",
      "Lea\n",
      "Lea\n",
      "Lea\n",
      "Darth\n",
      "Luke\n",
      "Darth\n",
      "Lea\n",
      "Lea\n",
      "Darth\n"
     ]
    }
   ],
   "source": [
    "with open(\"nameslist.txt\", \"r\") as file:\n",
    "    for line in file:\n",
    "        print(line.strip())\n"
   ]
  },
  {
   "cell_type": "code",
   "execution_count": 3,
   "metadata": {},
   "outputs": [
    {
     "name": "stdout",
     "output_type": "stream",
     "text": [
      "Darth\n"
     ]
    }
   ],
   "source": [
    "with open(\"nameslist.txt\", \"r\") as file:\n",
    "    lines = file.readlines()\n",
    "    fifth_line = lines[4] \n",
    "    print(fifth_line.strip())\n"
   ]
  },
  {
   "cell_type": "code",
   "execution_count": 4,
   "metadata": {},
   "outputs": [
    {
     "name": "stdout",
     "output_type": "stream",
     "text": [
      "Darth\n"
     ]
    }
   ],
   "source": [
    "with open(\"nameslist.txt\", \"r\") as file:\n",
    "    first_five_chars = file.read(5)\n",
    "    print(first_five_chars)\n"
   ]
  },
  {
   "cell_type": "code",
   "execution_count": 5,
   "metadata": {},
   "outputs": [
    {
     "name": "stdout",
     "output_type": "stream",
     "text": [
      "['Darth', 'Luke', 'Darth', 'Lea', 'Darth', 'Lea', 'Lea', 'Luke', 'Darth', 'Lea', 'Darth', 'Darth', 'Lea', 'Lea', 'Darth', 'Lea', 'Darth', 'Lea', 'Luke', 'Darth', 'Lea', 'Lea', 'Darth', 'Lea', 'Darth', 'Darth', 'Lea', 'Lea', 'Luke', 'Luke', 'Lea', 'Darth', 'Darth', 'Luke', 'Lea', 'Darth', 'Darth', 'Lea', 'Lea', 'Lea', 'Lea', 'Lea', 'Luke', 'Darth', 'Luke', 'Lea', 'Lea', 'Lea', 'Lea', 'Luke', 'Lea', 'Darth', 'Lea', 'Lea', 'Darth', 'Lea', 'Lea', 'Darth', 'Darth', 'Lea', 'Darth', 'Lea', 'Darth', 'Luke', 'Lea', 'Luke', 'Darth', 'Darth', 'Luke', 'Darth', 'Lea', 'Darth', 'Lea', 'Luke', 'Lea', 'Lea', 'Lea', 'Lea', 'Lea', 'Darth', 'Lea', 'Lea', 'Lea', 'Lea', 'Lea', 'Lea', 'Lea', 'Luke', 'Lea', 'Lea', 'Lea', 'Lea', 'Lea', 'Lea', 'Darth', 'Luke', 'Darth', 'Lea', 'Lea', 'Darth']\n"
     ]
    }
   ],
   "source": [
    "with open(\"nameslist.txt\", \"r\") as file:\n",
    "    content = file.read()\n",
    "    words = content.split()\n",
    "    print(words)\n"
   ]
  },
  {
   "cell_type": "code",
   "execution_count": 6,
   "metadata": {},
   "outputs": [
    {
     "name": "stdout",
     "output_type": "stream",
     "text": [
      "Occurrences of names:\n",
      "Darth: 31\n",
      "Luke: 15\n",
      "Lea: 54\n"
     ]
    }
   ],
   "source": [
    "with open(\"nameslist.txt\", \"r\") as file:\n",
    "    content = file.read()\n",
    "    words = content.split()\n",
    "\n",
    "name_counts = {\n",
    "    \"Darth\": 0,\n",
    "    \"Luke\": 0,\n",
    "    \"Lea\": 0\n",
    "}\n",
    "\n",
    "for word in words:\n",
    "    if word == \"Darth\":\n",
    "        name_counts[\"Darth\"] += 1\n",
    "    elif word == \"Luke\":\n",
    "        name_counts[\"Luke\"] += 1\n",
    "    elif word == \"Lea\":\n",
    "        name_counts[\"Lea\"] += 1\n",
    "\n",
    "print(\"Occurrences of names:\")\n",
    "for name, count in name_counts.items():\n",
    "    print(name + \":\", count)\n"
   ]
  },
  {
   "cell_type": "code",
   "execution_count": 7,
   "metadata": {},
   "outputs": [],
   "source": [
    "first_name = \"John\"\n",
    "\n",
    "with open(\"nameslist.txt\", \"a\") as file:\n",
    "    file.write(first_name + \"\\n\")\n"
   ]
  },
  {
   "cell_type": "code",
   "execution_count": 8,
   "metadata": {},
   "outputs": [],
   "source": [
    "with open(\"nameslist.txt\", \"r\") as file:\n",
    "    content = file.read()\n",
    "    words = content.split()\n",
    "modified_words = []\n",
    "for word in words:\n",
    "    if word == \"Luke\":\n",
    "        modified_words.append(word + \" SkyWalker\")\n",
    "    else:\n",
    "        modified_words.append(word)\n",
    "with open(\"nameslist.txt\", \"w\") as file:\n",
    "    file.write(\" \".join(modified_words))\n"
   ]
  }
 ],
 "metadata": {
  "kernelspec": {
   "display_name": "Python 3",
   "language": "python",
   "name": "python3"
  },
  "language_info": {
   "codemirror_mode": {
    "name": "ipython",
    "version": 3
   },
   "file_extension": ".py",
   "mimetype": "text/x-python",
   "name": "python",
   "nbconvert_exporter": "python",
   "pygments_lexer": "ipython3",
   "version": "3.11.4"
  },
  "orig_nbformat": 4
 },
 "nbformat": 4,
 "nbformat_minor": 2
}
