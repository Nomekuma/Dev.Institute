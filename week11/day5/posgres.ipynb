{
 "cells": [
  {
   "cell_type": "code",
   "execution_count": 5,
   "metadata": {},
   "outputs": [
    {
     "ename": "NameError",
     "evalue": "name 'hr' is not defined",
     "output_type": "error",
     "traceback": [
      "\u001b[1;31m---------------------------------------------------------------------------\u001b[0m",
      "\u001b[1;31mNameError\u001b[0m                                 Traceback (most recent call last)",
      "Cell \u001b[1;32mIn[5], line 6\u001b[0m\n\u001b[0;32m      4\u001b[0m PASSWORD \u001b[39m=\u001b[39m \u001b[39m'\u001b[39m\u001b[39msak-1905\u001b[39m\u001b[39m'\u001b[39m\n\u001b[0;32m      5\u001b[0m DATABASE \u001b[39m=\u001b[39m \u001b[39m'\u001b[39m\u001b[39memployee\u001b[39m\u001b[39m'\u001b[39m\n\u001b[1;32m----> 6\u001b[0m connection \u001b[39m=\u001b[39m psycopg2\u001b[39m.\u001b[39mconnect(host\u001b[39m=\u001b[39mHOSTNAME, user\u001b[39m=\u001b[39mUSERNAME, password\u001b[39m=\u001b[39mPASSWORD, dbname\u001b[39m=\u001b[39mhr\u001b[39m.\u001b[39mbackup )\n\u001b[0;32m      7\u001b[0m cursor \u001b[39m=\u001b[39m connection\u001b[39m.\u001b[39mcursor()\n",
      "\u001b[1;31mNameError\u001b[0m: name 'hr' is not defined"
     ]
    }
   ],
   "source": [
    "import psycopg2\n",
    "HOSTNAME = 'localhost'\n",
    "USERNAME = 'postgres'\n",
    "PASSWORD = 'sak-1905'\n",
    "DATABASE = 'employee'\n",
    "connection = psycopg2.connect(host=HOSTNAME, user=USERNAME, password=PASSWORD, dbname=hr.backup )\n",
    "cursor = connection.cursor()"
   ]
  }
 ],
 "metadata": {
  "kernelspec": {
   "display_name": "Python 3",
   "language": "python",
   "name": "python3"
  },
  "language_info": {
   "codemirror_mode": {
    "name": "ipython",
    "version": 3
   },
   "file_extension": ".py",
   "mimetype": "text/x-python",
   "name": "python",
   "nbconvert_exporter": "python",
   "pygments_lexer": "ipython3",
   "version": "3.11.4"
  },
  "orig_nbformat": 4
 },
 "nbformat": 4,
 "nbformat_minor": 2
}
