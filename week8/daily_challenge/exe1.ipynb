{
 "cells": [
  {
   "cell_type": "code",
   "execution_count": 1,
   "metadata": {},
   "outputs": [
    {
     "name": "stdout",
     "output_type": "stream",
     "text": [
      "McDonald's farm\n",
      "\n",
      "cow : 5\n",
      "sheep : 2\n",
      "goat : 12\n",
      "\n",
      "E-I-E-I-0!\n",
      "\n"
     ]
    }
   ],
   "source": [
    "class Farm:\n",
    "    def __init__(self, name):\n",
    "        self.name = name\n",
    "        self.animals = {}\n",
    "\n",
    "    def add_animal(self, animal_type, count=1):\n",
    "        if animal_type in self.animals:\n",
    "            self.animals[animal_type] += count\n",
    "        else:\n",
    "            self.animals[animal_type] = count\n",
    "\n",
    "    def get_info(self):\n",
    "        info = f\"{self.name}'s farm\\n\\n\"\n",
    "        for animal, count in self.animals.items():\n",
    "            info += f\"{animal} : {count}\\n\"\n",
    "        info += \"\\nE-I-E-I-0!\\n\"\n",
    "        return info\n",
    "\n",
    "# Test the code\n",
    "macdonald = Farm(\"McDonald\")\n",
    "macdonald.add_animal('cow', 5)\n",
    "macdonald.add_animal('sheep')\n",
    "macdonald.add_animal('sheep')\n",
    "macdonald.add_animal('goat', 12)\n",
    "print(macdonald.get_info())\n"
   ]
  },
  {
   "cell_type": "code",
   "execution_count": 2,
   "metadata": {},
   "outputs": [],
   "source": [
    "class Farm:\n",
    "    def __init__(self, name):\n",
    "        self.name = name\n",
    "        self.animals = {}\n"
   ]
  },
  {
   "cell_type": "code",
   "execution_count": 3,
   "metadata": {},
   "outputs": [],
   "source": [
    "farm1 = Farm(\"Farm1\")\n"
   ]
  },
  {
   "cell_type": "code",
   "execution_count": 4,
   "metadata": {},
   "outputs": [
    {
     "name": "stdout",
     "output_type": "stream",
     "text": [
      "McDonald's farm\n",
      "\n",
      "cow : 5\n",
      "sheep : 2\n",
      "goat : 12\n",
      "\n",
      "E-I-E-I-0!\n",
      "\n"
     ]
    }
   ],
   "source": [
    "class Farm:\n",
    "    def __init__(self, name):\n",
    "        self.name = name\n",
    "        self.animals = {}\n",
    "\n",
    "    def add_animal(self, animal_type, count=1):\n",
    "        if animal_type in self.animals:\n",
    "            self.animals[animal_type] += count\n",
    "        else:\n",
    "            self.animals[animal_type] = count\n",
    "\n",
    "    def get_info(self):\n",
    "        info = f\"{self.name}'s farm\\n\\n\"\n",
    "        for animal, count in self.animals.items():\n",
    "            info += f\"{animal} : {count}\\n\"\n",
    "        info += \"\\nE-I-E-I-0!\\n\"\n",
    "        return info\n",
    "\n",
    "# Test the code\n",
    "macdonald = Farm(\"McDonald\")\n",
    "macdonald.add_animal('cow', 5)\n",
    "macdonald.add_animal('sheep')\n",
    "macdonald.add_animal('sheep')\n",
    "macdonald.add_animal('goat', 12)\n",
    "print(macdonald.get_info())\n"
   ]
  },
  {
   "cell_type": "code",
   "execution_count": 5,
   "metadata": {},
   "outputs": [
    {
     "name": "stdout",
     "output_type": "stream",
     "text": [
      "McDonald's farm\n",
      "\n",
      "cow : 5\n",
      "sheep : 2\n",
      "goat : 12\n",
      "\n",
      "E-I-E-I-0!\n",
      "\n"
     ]
    }
   ],
   "source": [
    "class Farm:\n",
    "    def __init__(self, name):\n",
    "        self.name = name\n",
    "        self.animals = {}\n",
    "\n",
    "    def add_animal(self, animal_type, count=1):\n",
    "        if animal_type in self.animals:\n",
    "            self.animals[animal_type] += count\n",
    "        else:\n",
    "            self.animals[animal_type] = count\n",
    "\n",
    "    def get_info(self):\n",
    "        info = f\"{self.name}'s farm\\n\\n\"\n",
    "        for animal, count in self.animals.items():\n",
    "            info += f\"{animal} : {count}\\n\"\n",
    "        info += \"\\nE-I-E-I-0!\\n\"\n",
    "        return info\n",
    "\n",
    "# Test the code\n",
    "macdonald = Farm(\"McDonald\")\n",
    "macdonald.add_animal('cow', 5)\n",
    "macdonald.add_animal('sheep')\n",
    "macdonald.add_animal('sheep')\n",
    "macdonald.add_animal('goat', 12)\n",
    "print(macdonald.get_info())\n"
   ]
  },
  {
   "cell_type": "code",
   "execution_count": 6,
   "metadata": {},
   "outputs": [
    {
     "name": "stdout",
     "output_type": "stream",
     "text": [
      "McDonald's farm\n",
      "\n",
      "  cow : 5\n",
      "sheep : 2\n",
      " goat : 12\n",
      "\n",
      "E-I-E-I-0!\n",
      "\n"
     ]
    }
   ],
   "source": [
    "class Farm:\n",
    "    def __init__(self, name):\n",
    "        self.name = name\n",
    "        self.animals = {}\n",
    "\n",
    "    def add_animal(self, animal_type, count=1):\n",
    "        if animal_type in self.animals:\n",
    "            self.animals[animal_type] += count\n",
    "        else:\n",
    "            self.animals[animal_type] = count\n",
    "\n",
    "    def get_info(self):\n",
    "        info = f\"{self.name}'s farm\\n\\n\"\n",
    "        max_animal_len = max(len(animal) for animal in self.animals.keys())\n",
    "        for animal, count in self.animals.items():\n",
    "            info += f\"{animal:>{max_animal_len}} : {count}\\n\"\n",
    "        info += \"\\nE-I-E-I-0!\\n\"\n",
    "        return info\n",
    "\n",
    "# Test the code\n",
    "macdonald = Farm(\"McDonald\")\n",
    "macdonald.add_animal('cow', 5)\n",
    "macdonald.add_animal('sheep')\n",
    "macdonald.add_animal('sheep')\n",
    "macdonald.add_animal('goat', 12)\n",
    "print(macdonald.get_info())\n"
   ]
  },
  {
   "cell_type": "code",
   "execution_count": 7,
   "metadata": {},
   "outputs": [
    {
     "name": "stdout",
     "output_type": "stream",
     "text": [
      "['cow', 'goat', 'sheep']\n",
      "McDonald's farm\n",
      "\n",
      "  cow : 5\n",
      "sheep : 2\n",
      " goat : 12\n",
      "\n",
      "E-I-E-I-0!\n",
      "\n"
     ]
    }
   ],
   "source": [
    "class Farm:\n",
    "    def __init__(self, name):\n",
    "        self.name = name\n",
    "        self.animals = {}\n",
    "\n",
    "    def add_animal(self, animal_type, count=1):\n",
    "        if animal_type in self.animals:\n",
    "            self.animals[animal_type] += count\n",
    "        else:\n",
    "            self.animals[animal_type] = count\n",
    "\n",
    "    def get_animal_types(self):\n",
    "        return sorted(list(self.animals.keys()))\n",
    "\n",
    "    def get_info(self):\n",
    "        info = f\"{self.name}'s farm\\n\\n\"\n",
    "        max_animal_len = max(len(animal) for animal in self.animals.keys())\n",
    "        for animal, count in self.animals.items():\n",
    "            info += f\"{animal:>{max_animal_len}} : {count}\\n\"\n",
    "        info += \"\\nE-I-E-I-0!\\n\"\n",
    "        return info\n",
    "\n",
    "# Test the code\n",
    "macdonald = Farm(\"McDonald\")\n",
    "macdonald.add_animal('cow', 5)\n",
    "macdonald.add_animal('sheep')\n",
    "macdonald.add_animal('sheep')\n",
    "macdonald.add_animal('goat', 12)\n",
    "\n",
    "animal_types = macdonald.get_animal_types()\n",
    "print(animal_types)  # Output: ['cow', 'goat', 'sheep']\n",
    "print(macdonald.get_info())\n"
   ]
  },
  {
   "cell_type": "code",
   "execution_count": 8,
   "metadata": {},
   "outputs": [
    {
     "name": "stdout",
     "output_type": "stream",
     "text": [
      "['cow', 'goat', 'sheep']\n",
      "McDonald's farm has cow, goat, sheep.\n",
      "McDonald's farm\n",
      "\n",
      "  cow : 5\n",
      "sheep : 2\n",
      " goat : 12\n",
      "\n",
      "E-I-E-I-0!\n",
      "\n"
     ]
    }
   ],
   "source": [
    "class Farm:\n",
    "    def __init__(self, name):\n",
    "        self.name = name\n",
    "        self.animals = {}\n",
    "\n",
    "    def add_animal(self, animal_type, count=1):\n",
    "        if animal_type in self.animals:\n",
    "            self.animals[animal_type] += count\n",
    "        else:\n",
    "            self.animals[animal_type] = count\n",
    "\n",
    "    def get_animal_types(self):\n",
    "        return sorted(list(self.animals.keys()))\n",
    "\n",
    "    def get_info(self):\n",
    "        info = f\"{self.name}'s farm\\n\\n\"\n",
    "        max_animal_len = max(len(animal) for animal in self.animals.keys())\n",
    "        for animal, count in self.animals.items():\n",
    "            info += f\"{animal:>{max_animal_len}} : {count}\\n\"\n",
    "        info += \"\\nE-I-E-I-0!\\n\"\n",
    "        return info\n",
    "\n",
    "    def get_short_info(self):\n",
    "        animal_types = self.get_animal_types()\n",
    "        animals_str = \", \".join(animal_types)\n",
    "        return f\"{self.name}'s farm has {animals_str}.\"\n",
    "\n",
    "# Test the code\n",
    "macdonald = Farm(\"McDonald\")\n",
    "macdonald.add_animal('cow', 5)\n",
    "macdonald.add_animal('sheep')\n",
    "macdonald.add_animal('sheep')\n",
    "macdonald.add_animal('goat', 12)\n",
    "\n",
    "animal_types = macdonald.get_animal_types()\n",
    "print(animal_types)  # Output: ['cow', 'goat', 'sheep']\n",
    "\n",
    "short_info = macdonald.get_short_info()\n",
    "print(short_info)  # Output: \"McDonald's farm has cow, goat, sheep.\"\n",
    "print(macdonald.get_info())\n"
   ]
  }
 ],
 "metadata": {
  "kernelspec": {
   "display_name": "Python 3",
   "language": "python",
   "name": "python3"
  },
  "language_info": {
   "codemirror_mode": {
    "name": "ipython",
    "version": 3
   },
   "file_extension": ".py",
   "mimetype": "text/x-python",
   "name": "python",
   "nbconvert_exporter": "python",
   "pygments_lexer": "ipython3",
   "version": "3.11.4"
  },
  "orig_nbformat": 4
 },
 "nbformat": 4,
 "nbformat_minor": 2
}
