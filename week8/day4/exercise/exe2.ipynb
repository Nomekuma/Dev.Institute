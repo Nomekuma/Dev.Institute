{
 "cells": [
  {
   "cell_type": "code",
   "execution_count": 1,
   "metadata": {},
   "outputs": [],
   "source": [
    "class Dog:\n",
    "    def __init__(self, name, age, weight):\n",
    "        self.name = name\n",
    "        self.age = age\n",
    "        self.weight = weight\n"
   ]
  },
  {
   "cell_type": "code",
   "execution_count": 2,
   "metadata": {},
   "outputs": [
    {
     "name": "stdout",
     "output_type": "stream",
     "text": [
      "Buddy\n",
      "3\n",
      "15\n",
      "Max\n",
      "5\n",
      "20\n"
     ]
    }
   ],
   "source": [
    "# Create an instance of the Dog class\n",
    "dog1 = Dog('Buddy', 3, 15)\n",
    "dog2 = Dog('Max', 5, 20)\n",
    "\n",
    "# Access the attributes of the dog instances\n",
    "print(dog1.name)  # Output: Buddy\n",
    "print(dog1.age)   # Output: 3\n",
    "print(dog1.weight)  # Output: 15\n",
    "\n",
    "print(dog2.name)  # Output: Max\n",
    "print(dog2.age)   # Output: 5\n",
    "print(dog2.weight)  # Output: 20\n"
   ]
  },
  {
   "cell_type": "code",
   "execution_count": 3,
   "metadata": {},
   "outputs": [],
   "source": [
    "class Dog:\n",
    "    def __init__(self, name, age, weight):\n",
    "        self.name = name\n",
    "        self.age = age\n",
    "        self.weight = weight\n",
    "\n",
    "    def bark(self):\n",
    "        return f'{self.name} is barking'\n"
   ]
  },
  {
   "cell_type": "code",
   "execution_count": 4,
   "metadata": {},
   "outputs": [
    {
     "name": "stdout",
     "output_type": "stream",
     "text": [
      "Buddy is barking\n"
     ]
    }
   ],
   "source": [
    "# Create an instance of the Dog class\n",
    "dog1 = Dog('Buddy', 3, 15)\n",
    "\n",
    "# Call the bark method\n",
    "print(dog1.bark())  # Output: Buddy is barking\n"
   ]
  },
  {
   "cell_type": "code",
   "execution_count": 5,
   "metadata": {},
   "outputs": [],
   "source": [
    "class Dog:\n",
    "    def __init__(self, name, age, weight):\n",
    "        self.name = name\n",
    "        self.age = age\n",
    "        self.weight = weight\n",
    "\n",
    "    def bark(self):\n",
    "        return f'{self.name} is barking'\n",
    "\n",
    "    def run_speed(self):\n",
    "        return self.weight / (self.age * 10)\n"
   ]
  },
  {
   "cell_type": "code",
   "execution_count": 6,
   "metadata": {},
   "outputs": [
    {
     "name": "stdout",
     "output_type": "stream",
     "text": [
      "0.5\n"
     ]
    }
   ],
   "source": [
    "# Create an instance of the Dog class\n",
    "dog1 = Dog('Buddy', 3, 15)\n",
    "\n",
    "# Call the run_speed method\n",
    "print(dog1.run_speed())  # Output: 0.5\n"
   ]
  },
  {
   "cell_type": "code",
   "execution_count": 7,
   "metadata": {},
   "outputs": [
    {
     "name": "stdout",
     "output_type": "stream",
     "text": [
      "Max won the fight\n"
     ]
    }
   ],
   "source": [
    "class Dog:\n",
    "    def __init__(self, name, age, weight):\n",
    "        self.name = name\n",
    "        self.age = age\n",
    "        self.weight = weight\n",
    "\n",
    "    def bark(self):\n",
    "        return f'{self.name} is barking'\n",
    "\n",
    "    def run_speed(self):\n",
    "        return self.weight / (self.age * 10)\n",
    "\n",
    "    def fight(self, other_dog):\n",
    "        self_score = self.run_speed() * self.weight\n",
    "        other_score = other_dog.run_speed() * other_dog.weight\n",
    "\n",
    "        if self_score > other_score:\n",
    "            return f'{self.name} won the fight'\n",
    "        elif self_score < other_score:\n",
    "            return f'{other_dog.name} won the fight'\n",
    "        else:\n",
    "            return 'It was a tie'\n",
    "\n",
    "# Create two instances of the Dog class\n",
    "dog1 = Dog('Buddy', 3, 15)\n",
    "dog2 = Dog('Max', 5, 20)\n",
    "\n",
    "# Call the fight method\n",
    "print(dog1.fight(dog2))  # Output: Max won the fight\n"
   ]
  },
  {
   "cell_type": "code",
   "execution_count": 8,
   "metadata": {},
   "outputs": [
    {
     "name": "stdout",
     "output_type": "stream",
     "text": [
      "Buddy is barking\n",
      "Max is barking\n",
      "Rocky is barking\n",
      "0.5\n",
      "0.4\n",
      "0.45\n",
      "Max won the fight\n",
      "Rocky won the fight\n",
      "Rocky won the fight\n"
     ]
    }
   ],
   "source": [
    "class Dog:\n",
    "    def __init__(self, name, age, weight):\n",
    "        self.name = name\n",
    "        self.age = age\n",
    "        self.weight = weight\n",
    "\n",
    "    def bark(self):\n",
    "        return f'{self.name} is barking'\n",
    "\n",
    "    def run_speed(self):\n",
    "        return self.weight / (self.age * 10)\n",
    "\n",
    "    def fight(self, other_dog):\n",
    "        self_score = self.run_speed() * self.weight\n",
    "        other_score = other_dog.run_speed() * other_dog.weight\n",
    "\n",
    "        if self_score > other_score:\n",
    "            return f'{self.name} won the fight'\n",
    "        elif self_score < other_score:\n",
    "            return f'{other_dog.name} won the fight'\n",
    "        else:\n",
    "            return 'It was a tie'\n",
    "\n",
    "# Create three instances of the Dog class\n",
    "dog1 = Dog('Buddy', 3, 15)\n",
    "dog2 = Dog('Max', 5, 20)\n",
    "dog3 = Dog('Rocky', 4, 18)\n",
    "\n",
    "# Call the bark method on each dog\n",
    "print(dog1.bark())  # Output: Buddy is barking\n",
    "print(dog2.bark())  # Output: Max is barking\n",
    "print(dog3.bark())  # Output: Rocky is barking\n",
    "\n",
    "# Call the run_speed method on each dog\n",
    "print(dog1.run_speed())  # Output: 0.5\n",
    "print(dog2.run_speed())  # Output: 0.4\n",
    "print(dog3.run_speed())  # Output: 0.45\n",
    "\n",
    "# Have the dogs fight each other\n",
    "print(dog1.fight(dog2))  # Output: Max won the fight\n",
    "print(dog2.fight(dog3))  # Output: Max won the fight\n",
    "print(dog1.fight(dog3))  # Output: Buddy won the fight\n"
   ]
  }
 ],
 "metadata": {
  "kernelspec": {
   "display_name": "Python 3",
   "language": "python",
   "name": "python3"
  },
  "language_info": {
   "codemirror_mode": {
    "name": "ipython",
    "version": 3
   },
   "file_extension": ".py",
   "mimetype": "text/x-python",
   "name": "python",
   "nbconvert_exporter": "python",
   "pygments_lexer": "ipython3",
   "version": "3.11.4"
  },
  "orig_nbformat": 4
 },
 "nbformat": 4,
 "nbformat_minor": 2
}
