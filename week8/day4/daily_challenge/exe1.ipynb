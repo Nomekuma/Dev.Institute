{
 "cells": [
  {
   "cell_type": "code",
   "execution_count": 1,
   "metadata": {},
   "outputs": [
    {
     "name": "stdout",
     "output_type": "stream",
     "text": [
      "[1, 2, 3, 4, 5, 6, 7, 8, 9, 10]\n",
      "[21, 22, 23, 24, 25, 26, 27, 28, 29, 30]\n",
      "Invalid page number. Page number must be between 1 and 5.\n"
     ]
    }
   ],
   "source": [
    "class Pagination:\n",
    "    def __init__(self, total_items, items_per_page):\n",
    "        self.total_items = total_items\n",
    "        self.items_per_page = items_per_page\n",
    "        self.current_page = 1\n",
    "\n",
    "    def get_current_page_items(self):\n",
    "        start_index = (self.current_page - 1) * self.items_per_page\n",
    "        end_index = start_index + self.items_per_page\n",
    "        return list(range(start_index + 1, min(end_index, self.total_items) + 1))\n",
    "\n",
    "    def go_to_page(self, page_number):\n",
    "        if 1 <= page_number <= self.get_total_pages():\n",
    "            self.current_page = page_number\n",
    "        else:\n",
    "            print(f\"Invalid page number. Page number must be between 1 and {self.get_total_pages()}.\")\n",
    "\n",
    "    def get_total_pages(self):\n",
    "        return (self.total_items + self.items_per_page - 1) // self.items_per_page\n",
    "\n",
    "# Example usage:\n",
    "\n",
    "# Create a Pagination object with 50 total items and 10 items per page\n",
    "pagination = Pagination(total_items=50, items_per_page=10)\n",
    "\n",
    "# Get the current page of items\n",
    "current_page_items = pagination.get_current_page_items()\n",
    "print(current_page_items)  # Output: [1, 2, 3, 4, 5, 6, 7, 8, 9, 10]\n",
    "\n",
    "# Go to page 3\n",
    "pagination.go_to_page(3)\n",
    "\n",
    "# Get the current page of items\n",
    "current_page_items = pagination.get_current_page_items()\n",
    "print(current_page_items)  # Output: [21, 22, 23, 24, 25, 26, 27, 28, 29, 30]\n",
    "\n",
    "# Go to an invalid page (e.g., page 0)\n",
    "pagination.go_to_page(0)  # Output: Invalid page number. Page number must be between 1 and 5.\n"
   ]
  },
  {
   "cell_type": "code",
   "execution_count": 2,
   "metadata": {},
   "outputs": [
    {
     "name": "stdout",
     "output_type": "stream",
     "text": [
      "[1, 2, 3, 4, 5]\n",
      "[11, 12, 13, 14, 15]\n",
      "Invalid page number. Page number must be between 1 and 10.\n"
     ]
    }
   ],
   "source": [
    "class Pagination:\n",
    "    def __init__(self, items=None, items_per_page=10):\n",
    "        self.items = items or []\n",
    "        self.items_per_page = items_per_page\n",
    "        self.current_page = 1\n",
    "\n",
    "    def get_current_page_items(self):\n",
    "        start_index = (self.current_page - 1) * self.items_per_page\n",
    "        end_index = start_index + self.items_per_page\n",
    "        return self.items[start_index:end_index]\n",
    "\n",
    "    def go_to_page(self, page_number):\n",
    "        if 1 <= page_number <= self.get_total_pages():\n",
    "            self.current_page = page_number\n",
    "        else:\n",
    "            print(f\"Invalid page number. Page number must be between 1 and {self.get_total_pages()}.\")\n",
    "\n",
    "    def get_total_pages(self):\n",
    "        return (len(self.items) + self.items_per_page - 1) // self.items_per_page\n",
    "\n",
    "# Example usage:\n",
    "\n",
    "# Create a Pagination object with a list of items and 5 items per page\n",
    "items_to_paginate = list(range(1, 51))  # A list of numbers from 1 to 50\n",
    "pagination = Pagination(items=items_to_paginate, items_per_page=5)\n",
    "\n",
    "# Get the current page of items\n",
    "current_page_items = pagination.get_current_page_items()\n",
    "print(current_page_items)  # Output: [1, 2, 3, 4, 5]\n",
    "\n",
    "# Go to page 3\n",
    "pagination.go_to_page(3)\n",
    "\n",
    "# Get the current page of items\n",
    "current_page_items = pagination.get_current_page_items()\n",
    "print(current_page_items)  # Output: [11, 12, 13, 14, 15]\n",
    "\n",
    "# Go to an invalid page (e.g., page 0)\n",
    "pagination.go_to_page(0)  # Output: Invalid page number. Page number must be between 1 and 10.\n"
   ]
  },
  {
   "cell_type": "code",
   "execution_count": 3,
   "metadata": {},
   "outputs": [
    {
     "name": "stdout",
     "output_type": "stream",
     "text": [
      "[1, 2, 3, 4, 5]\n",
      "[11, 12, 13, 14, 15]\n",
      "Invalid page number. Page number must be between 1 and 10.\n"
     ]
    }
   ],
   "source": [
    "class Pagination:\n",
    "    def __init__(self, items=None, pageSize=10):\n",
    "        self.items = items or []\n",
    "        self.pageSize = pageSize\n",
    "        self.current_page = 1\n",
    "\n",
    "    def get_current_page_items(self):\n",
    "        start_index = (self.current_page - 1) * self.pageSize\n",
    "        end_index = start_index + self.pageSize\n",
    "        return self.items[start_index:end_index]\n",
    "\n",
    "    def go_to_page(self, page_number):\n",
    "        if 1 <= page_number <= self.get_total_pages():\n",
    "            self.current_page = page_number\n",
    "        else:\n",
    "            print(f\"Invalid page number. Page number must be between 1 and {self.get_total_pages()}.\")\n",
    "\n",
    "    def get_total_pages(self):\n",
    "        return (len(self.items) + self.pageSize - 1) // self.pageSize\n",
    "\n",
    "# Example usage:\n",
    "\n",
    "# Create a Pagination object with a list of items and a page size of 5\n",
    "items_to_paginate = list(range(1, 51))  # A list of numbers from 1 to 50\n",
    "pagination = Pagination(items=items_to_paginate, pageSize=5)\n",
    "\n",
    "# Get the current page of items\n",
    "current_page_items = pagination.get_current_page_items()\n",
    "print(current_page_items)  # Output: [1, 2, 3, 4, 5]\n",
    "\n",
    "# Go to page 3\n",
    "pagination.go_to_page(3)\n",
    "\n",
    "# Get the current page of items\n",
    "current_page_items = pagination.get_current_page_items()\n",
    "print(current_page_items)  # Output: [11, 12, 13, 14, 15]\n",
    "\n",
    "# Go to an invalid page (e.g., page 0)\n",
    "pagination.go_to_page(0)  # Output: Invalid page number. Page number must be between 1 and 10.\n"
   ]
  },
  {
   "cell_type": "code",
   "execution_count": 4,
   "metadata": {},
   "outputs": [
    {
     "name": "stdout",
     "output_type": "stream",
     "text": [
      "['a', 'b', 'c', 'd']\n",
      "['e', 'f', 'g', 'h']\n",
      "['y', 'z']\n",
      "['i', 'j', 'k', 'l']\n",
      "['e', 'f', 'g', 'h']\n"
     ]
    }
   ],
   "source": [
    "class Pagination:\n",
    "    def __init__(self, items=None, pageSize=10):\n",
    "        self.items = items or []\n",
    "        self.pageSize = pageSize\n",
    "        self.current_page = 1\n",
    "\n",
    "    def getVisibleItems(self):\n",
    "        start_index = (self.current_page - 1) * self.pageSize\n",
    "        end_index = start_index + self.pageSize\n",
    "        return self.items[start_index:end_index]\n",
    "\n",
    "    def prevPage(self):\n",
    "        if self.current_page > 1:\n",
    "            self.current_page -= 1\n",
    "\n",
    "    def nextPage(self):\n",
    "        if self.current_page < self.get_total_pages():\n",
    "            self.current_page += 1\n",
    "\n",
    "    def firstPage(self):\n",
    "        self.current_page = 1\n",
    "\n",
    "    def lastPage(self):\n",
    "        self.current_page = self.get_total_pages()\n",
    "\n",
    "    def goToPage(self, pageNum):\n",
    "        if 1 <= pageNum <= self.get_total_pages():\n",
    "            self.current_page = pageNum\n",
    "        else:\n",
    "            print(f\"Invalid page number. Page number must be between 1 and {self.get_total_pages()}.\")\n",
    "\n",
    "    def get_total_pages(self):\n",
    "        return (len(self.items) + self.pageSize - 1) // self.pageSize\n",
    "\n",
    "# Example usage:\n",
    "\n",
    "alphabetList = list(\"abcdefghijklmnopqrstuvwxyz\")\n",
    "pagination = Pagination(items=alphabetList, pageSize=4)\n",
    "\n",
    "print(pagination.getVisibleItems())  # Output: ['a', 'b', 'c', 'd']\n",
    "\n",
    "pagination.nextPage()\n",
    "print(pagination.getVisibleItems())  # Output: ['e', 'f', 'g', 'h']\n",
    "\n",
    "pagination.lastPage()\n",
    "print(pagination.getVisibleItems())  # Output: ['y', 'z']\n",
    "\n",
    "pagination.goToPage(3)\n",
    "print(pagination.getVisibleItems())  # Output: ['k', 'l', 'm', 'n']\n",
    "\n",
    "pagination.prevPage()\n",
    "print(pagination.getVisibleItems())  # Output: ['g', 'h', 'i', 'j']\n"
   ]
  }
 ],
 "metadata": {
  "kernelspec": {
   "display_name": "Python 3",
   "language": "python",
   "name": "python3"
  },
  "language_info": {
   "codemirror_mode": {
    "name": "ipython",
    "version": 3
   },
   "file_extension": ".py",
   "mimetype": "text/x-python",
   "name": "python",
   "nbconvert_exporter": "python",
   "pygments_lexer": "ipython3",
   "version": "3.11.4"
  },
  "orig_nbformat": 4
 },
 "nbformat": 4,
 "nbformat_minor": 2
}
