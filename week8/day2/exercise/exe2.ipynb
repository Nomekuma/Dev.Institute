{
 "cells": [
  {
   "cell_type": "code",
   "execution_count": 1,
   "metadata": {},
   "outputs": [],
   "source": [
    "class Dog:\n",
    "    def __init__(self, name, age):\n",
    "        self.name = name\n",
    "        self.age = age\n"
   ]
  },
  {
   "cell_type": "code",
   "execution_count": 2,
   "metadata": {},
   "outputs": [
    {
     "name": "stdout",
     "output_type": "stream",
     "text": [
      "Buddy\n",
      "3\n",
      "Max\n",
      "5\n"
     ]
    }
   ],
   "source": [
    "# Instantiate two Dog objects\n",
    "dog1 = Dog(\"Buddy\", 3)\n",
    "dog2 = Dog(\"Max\", 5)\n",
    "\n",
    "# Accessing attributes of the Dog objects\n",
    "print(dog1.name)  # Output: Buddy\n",
    "print(dog1.age)   # Output: 3\n",
    "print(dog2.name)  # Output: Max\n",
    "print(dog2.age)   # Output: 5\n"
   ]
  },
  {
   "cell_type": "code",
   "execution_count": 3,
   "metadata": {},
   "outputs": [],
   "source": [
    "class Dog:\n",
    "    def __init__(self, name, height):\n",
    "        self.name = name\n",
    "        self.height = height\n"
   ]
  },
  {
   "cell_type": "code",
   "execution_count": 4,
   "metadata": {},
   "outputs": [
    {
     "name": "stdout",
     "output_type": "stream",
     "text": [
      "Buddy\n",
      "30\n",
      "Max\n",
      "40\n"
     ]
    }
   ],
   "source": [
    "# Instantiate two Dog objects\n",
    "dog1 = Dog(\"Buddy\", 30)\n",
    "dog2 = Dog(\"Max\", 40)\n",
    "\n",
    "# Accessing attributes of the Dog objects\n",
    "print(dog1.name)     # Output: Buddy\n",
    "print(dog1.height)   # Output: 30\n",
    "print(dog2.name)     # Output: Max\n",
    "print(dog2.height)   # Output: 40\n"
   ]
  },
  {
   "cell_type": "code",
   "execution_count": 5,
   "metadata": {},
   "outputs": [
    {
     "name": "stdout",
     "output_type": "stream",
     "text": [
      "Buddy goes woof!\n"
     ]
    }
   ],
   "source": [
    "class Dog:\n",
    "    def __init__(self, name, height):\n",
    "        self.name = name\n",
    "        self.height = height\n",
    "\n",
    "    def bark(self):\n",
    "        print(f\"{self.name} goes woof!\")\n",
    "\n",
    "# Instantiate a Dog object\n",
    "dog1 = Dog(\"Buddy\", 30)\n",
    "\n",
    "# Call the bark method\n",
    "dog1.bark()  # Output: Buddy goes woof!\n"
   ]
  },
  {
   "cell_type": "code",
   "execution_count": 6,
   "metadata": {},
   "outputs": [
    {
     "name": "stdout",
     "output_type": "stream",
     "text": [
      "Buddy jumps 60 cm high!\n"
     ]
    }
   ],
   "source": [
    "class Dog:\n",
    "    def __init__(self, name, height):\n",
    "        self.name = name\n",
    "        self.height = height\n",
    "\n",
    "    def bark(self):\n",
    "        print(f\"{self.name} goes woof!\")\n",
    "\n",
    "    def jump(self):\n",
    "        x = self.height * 2\n",
    "        print(f\"{self.name} jumps {x} cm high!\")\n",
    "\n",
    "# Instantiate a Dog object\n",
    "dog1 = Dog(\"Buddy\", 30)\n",
    "\n",
    "# Call the jump method\n",
    "dog1.jump()  # Output: Buddy jumps 60 cm high!\n"
   ]
  },
  {
   "cell_type": "code",
   "execution_count": 7,
   "metadata": {},
   "outputs": [],
   "source": [
    "class Dog:\n",
    "    def __init__(self, name, height):\n",
    "        self.name = name\n",
    "        self.height = height\n",
    "\n",
    "    def bark(self):\n",
    "        print(f\"{self.name} goes woof!\")\n",
    "\n",
    "    def jump(self):\n",
    "        x = self.height * 2\n",
    "        print(f\"{self.name} jumps {x} cm high!\")\n",
    "\n",
    "# Create an object called davids_dog\n",
    "davids_dog = Dog(\"Rex\", 50)\n"
   ]
  },
  {
   "cell_type": "code",
   "execution_count": 8,
   "metadata": {},
   "outputs": [
    {
     "name": "stdout",
     "output_type": "stream",
     "text": [
      "Rex's height is 50 cm.\n",
      "Rex goes woof!\n",
      "Rex jumps 100 cm high!\n"
     ]
    }
   ],
   "source": [
    "class Dog:\n",
    "    def __init__(self, name, height):\n",
    "        self.name = name\n",
    "        self.height = height\n",
    "\n",
    "    def bark(self):\n",
    "        print(f\"{self.name} goes woof!\")\n",
    "\n",
    "    def jump(self):\n",
    "        x = self.height * 2\n",
    "        print(f\"{self.name} jumps {x} cm high!\")\n",
    "\n",
    "# Create an object called davids_dog\n",
    "davids_dog = Dog(\"Rex\", 50)\n",
    "\n",
    "# Print the details of davids_dog\n",
    "print(f\"{davids_dog.name}'s height is {davids_dog.height} cm.\")\n",
    "\n",
    "# Call the bark method\n",
    "davids_dog.bark()  # Output: Rex goes woof!\n",
    "\n",
    "# Call the jump method\n",
    "davids_dog.jump()  # Output: Rex jumps 100 cm high!\n"
   ]
  },
  {
   "cell_type": "code",
   "execution_count": 9,
   "metadata": {},
   "outputs": [],
   "source": [
    "class Dog:\n",
    "    def __init__(self, name, height):\n",
    "        self.name = name\n",
    "        self.height = height\n",
    "\n",
    "    def bark(self):\n",
    "        print(f\"{self.name} goes woof!\")\n",
    "\n",
    "    def jump(self):\n",
    "        x = self.height * 2\n",
    "        print(f\"{self.name} jumps {x} cm high!\")\n",
    "\n",
    "# Create an object called sarahs_dog\n",
    "sarahs_dog = Dog(\"Teacup\", 20)\n"
   ]
  },
  {
   "cell_type": "code",
   "execution_count": 10,
   "metadata": {},
   "outputs": [
    {
     "name": "stdout",
     "output_type": "stream",
     "text": [
      "Teacup's height is 20 cm.\n",
      "Teacup goes woof!\n",
      "Teacup jumps 40 cm high!\n"
     ]
    }
   ],
   "source": [
    "class Dog:\n",
    "    def __init__(self, name, height):\n",
    "        self.name = name\n",
    "        self.height = height\n",
    "\n",
    "    def bark(self):\n",
    "        print(f\"{self.name} goes woof!\")\n",
    "\n",
    "    def jump(self):\n",
    "        x = self.height * 2\n",
    "        print(f\"{self.name} jumps {x} cm high!\")\n",
    "\n",
    "# Create an object called sarahs_dog\n",
    "sarahs_dog = Dog(\"Teacup\", 20)\n",
    "\n",
    "# Print the details of sarahs_dog\n",
    "print(f\"{sarahs_dog.name}'s height is {sarahs_dog.height} cm.\")\n",
    "\n",
    "# Call the bark method\n",
    "sarahs_dog.bark()  # Output: Teacup goes woof!\n",
    "\n",
    "# Call the jump method\n",
    "sarahs_dog.jump()  # Output: Teacup jumps 40 cm high!\n"
   ]
  },
  {
   "cell_type": "code",
   "execution_count": 11,
   "metadata": {},
   "outputs": [
    {
     "name": "stdout",
     "output_type": "stream",
     "text": [
      "Rex is bigger.\n"
     ]
    }
   ],
   "source": [
    "class Dog:\n",
    "    def __init__(self, name, height):\n",
    "        self.name = name\n",
    "        self.height = height\n",
    "\n",
    "    def bark(self):\n",
    "        print(f\"{self.name} goes woof!\")\n",
    "\n",
    "    def jump(self):\n",
    "        x = self.height * 2\n",
    "        print(f\"{self.name} jumps {x} cm high!\")\n",
    "\n",
    "# Create objects for the dogs\n",
    "davids_dog = Dog(\"Rex\", 50)\n",
    "sarahs_dog = Dog(\"Teacup\", 20)\n",
    "\n",
    "# Check which dog is bigger\n",
    "if davids_dog.height > sarahs_dog.height:\n",
    "    print(f\"{davids_dog.name} is bigger.\")\n",
    "elif davids_dog.height < sarahs_dog.height:\n",
    "    print(f\"{sarahs_dog.name} is bigger.\")\n",
    "else:\n",
    "    print(\"Both dogs have the same height.\")\n"
   ]
  }
 ],
 "metadata": {
  "kernelspec": {
   "display_name": "Python 3",
   "language": "python",
   "name": "python3"
  },
  "language_info": {
   "codemirror_mode": {
    "name": "ipython",
    "version": 3
   },
   "file_extension": ".py",
   "mimetype": "text/x-python",
   "name": "python",
   "nbconvert_exporter": "python",
   "pygments_lexer": "ipython3",
   "version": "3.11.4"
  },
  "orig_nbformat": 4
 },
 "nbformat": 4,
 "nbformat_minor": 2
}
