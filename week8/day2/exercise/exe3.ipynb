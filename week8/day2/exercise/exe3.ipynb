{
 "cells": [
  {
   "cell_type": "code",
   "execution_count": 1,
   "metadata": {},
   "outputs": [],
   "source": [
    "class Song:\n",
    "    def __init__(self, lyrics):\n",
    "        self.lyrics = lyrics\n"
   ]
  },
  {
   "cell_type": "code",
   "execution_count": 2,
   "metadata": {},
   "outputs": [
    {
     "name": "stdout",
     "output_type": "stream",
     "text": [
      "['Verse 1', 'Lyrics line 1', 'Lyrics line 2', 'Chorus', 'Chorus line 1', 'Chorus line 2']\n",
      "['Verse 1', 'Lyrics line 1', 'Lyrics line 2', 'Bridge', 'Bridge line 1', 'Bridge line 2', 'Chorus', 'Chorus line 1', 'Chorus line 2']\n"
     ]
    }
   ],
   "source": [
    "# Create an instance of the Song class with lyrics for a song\n",
    "song1 = Song([\"Verse 1\",\n",
    "              \"Lyrics line 1\",\n",
    "              \"Lyrics line 2\",\n",
    "              \"Chorus\",\n",
    "              \"Chorus line 1\",\n",
    "              \"Chorus line 2\"])\n",
    "\n",
    "# Create another instance with lyrics for a different song\n",
    "song2 = Song([\"Verse 1\",\n",
    "              \"Lyrics line 1\",\n",
    "              \"Lyrics line 2\",\n",
    "              \"Bridge\",\n",
    "              \"Bridge line 1\",\n",
    "              \"Bridge line 2\",\n",
    "              \"Chorus\",\n",
    "              \"Chorus line 1\",\n",
    "              \"Chorus line 2\"])\n",
    "\n",
    "# Access the lyrics attribute of each song object\n",
    "print(song1.lyrics)\n",
    "print(song2.lyrics)\n"
   ]
  },
  {
   "cell_type": "code",
   "execution_count": 3,
   "metadata": {},
   "outputs": [
    {
     "name": "stdout",
     "output_type": "stream",
     "text": [
      "Verse 1\n",
      "Lyrics line 1\n",
      "Lyrics line 2\n",
      "Chorus\n",
      "Chorus line 1\n",
      "Chorus line 2\n"
     ]
    }
   ],
   "source": [
    "class Song:\n",
    "    def __init__(self, lyrics):\n",
    "        self.lyrics = lyrics\n",
    "\n",
    "    def sing_me_a_song(self):\n",
    "        for line in self.lyrics:\n",
    "            print(line)\n",
    "\n",
    "# Create an instance of the Song class with lyrics for a song\n",
    "song1 = Song([\"Verse 1\",\n",
    "              \"Lyrics line 1\",\n",
    "              \"Lyrics line 2\",\n",
    "              \"Chorus\",\n",
    "              \"Chorus line 1\",\n",
    "              \"Chorus line 2\"])\n",
    "\n",
    "# Call the sing_me_a_song method to print the lyrics\n",
    "song1.sing_me_a_song()\n"
   ]
  },
  {
   "cell_type": "code",
   "execution_count": 4,
   "metadata": {},
   "outputs": [
    {
     "name": "stdout",
     "output_type": "stream",
     "text": [
      "There’s a lady who's sure\n",
      "all that glitters is gold\n",
      "and she’s buying a stairway to heaven\n"
     ]
    }
   ],
   "source": [
    "class Song:\n",
    "    def __init__(self, lyrics):\n",
    "        self.lyrics = lyrics\n",
    "\n",
    "    def sing_me_a_song(self):\n",
    "        for line in self.lyrics:\n",
    "            print(line)\n",
    "\n",
    "# Create an object stairway of the Song class with lyrics for the song \"Stairway to Heaven\"\n",
    "stairway = Song([\"There’s a lady who's sure\",\n",
    "                 \"all that glitters is gold\",\n",
    "                 \"and she’s buying a stairway to heaven\"])\n",
    "\n",
    "# Call the sing_me_a_song method to print the lyrics\n",
    "stairway.sing_me_a_song()\n"
   ]
  },
  {
   "cell_type": "code",
   "execution_count": 5,
   "metadata": {},
   "outputs": [
    {
     "name": "stdout",
     "output_type": "stream",
     "text": [
      "There’s a lady who's sure\n",
      "all that glitters is gold\n",
      "and she’s buying a stairway to heaven\n"
     ]
    }
   ],
   "source": [
    "# Create an object stairway of the Song class with lyrics for the song \"Stairway to Heaven\"\n",
    "stairway = Song([\"There’s a lady who's sure\",\n",
    "                 \"all that glitters is gold\",\n",
    "                 \"and she’s buying a stairway to heaven\"])\n",
    "\n",
    "# Call the sing_me_a_song method to print the lyrics\n",
    "stairway.sing_me_a_song()\n"
   ]
  }
 ],
 "metadata": {
  "kernelspec": {
   "display_name": "Python 3",
   "language": "python",
   "name": "python3"
  },
  "language_info": {
   "codemirror_mode": {
    "name": "ipython",
    "version": 3
   },
   "file_extension": ".py",
   "mimetype": "text/x-python",
   "name": "python",
   "nbconvert_exporter": "python",
   "pygments_lexer": "ipython3",
   "version": "3.11.4"
  },
  "orig_nbformat": 4
 },
 "nbformat": 4,
 "nbformat_minor": 2
}
