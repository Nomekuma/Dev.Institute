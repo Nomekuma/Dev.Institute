{
 "cells": [
  {
   "cell_type": "code",
   "execution_count": 1,
   "metadata": {},
   "outputs": [],
   "source": [
    "class Cat:\n",
    "    def __init__(self, cat_name, cat_age):\n",
    "        self.name = cat_name\n",
    "        self.age = cat_age\n",
    "\n",
    "# Instantiate three Cat objects\n",
    "cat1 = Cat(\"Fluffy\", 2)\n",
    "cat2 = Cat(\"Whiskers\", 3)\n",
    "cat3 = Cat(\"Mittens\", 1)\n"
   ]
  },
  {
   "cell_type": "code",
   "execution_count": 2,
   "metadata": {},
   "outputs": [
    {
     "name": "stdout",
     "output_type": "stream",
     "text": [
      "The oldest cat is Whiskers with age 3.\n"
     ]
    }
   ],
   "source": [
    "class Cat:\n",
    "    def __init__(self, cat_name, cat_age):\n",
    "        self.name = cat_name\n",
    "        self.age = cat_age\n",
    "\n",
    "def find_oldest_cat(cat_list):\n",
    "    oldest_cat = None\n",
    "    max_age = 0\n",
    "\n",
    "    for cat in cat_list:\n",
    "        if cat.age > max_age:\n",
    "            oldest_cat = cat\n",
    "            max_age = cat.age\n",
    "\n",
    "    return oldest_cat\n",
    "\n",
    "# Instantiate three Cat objects\n",
    "cat1 = Cat(\"Fluffy\", 2)\n",
    "cat2 = Cat(\"Whiskers\", 3)\n",
    "cat3 = Cat(\"Mittens\", 1)\n",
    "\n",
    "# Create a list of Cat objects\n",
    "cat_list = [cat1, cat2, cat3]\n",
    "\n",
    "# Find the oldest cat\n",
    "oldest_cat = find_oldest_cat(cat_list)\n",
    "\n",
    "# Print the name and age of the oldest cat\n",
    "if oldest_cat:\n",
    "    print(f\"The oldest cat is {oldest_cat.name} with age {oldest_cat.age}.\")\n",
    "else:\n",
    "    print(\"No cats found.\")\n"
   ]
  },
  {
   "cell_type": "code",
   "execution_count": 3,
   "metadata": {},
   "outputs": [
    {
     "name": "stdout",
     "output_type": "stream",
     "text": [
      "The oldest cat is Whiskers, and is 3 years old.\n"
     ]
    }
   ],
   "source": [
    "class Cat:\n",
    "    def __init__(self, cat_name, cat_age):\n",
    "        self.name = cat_name\n",
    "        self.age = cat_age\n",
    "\n",
    "def find_oldest_cat(cat_list):\n",
    "    oldest_cat = None\n",
    "    max_age = 0\n",
    "\n",
    "    for cat in cat_list:\n",
    "        if cat.age > max_age:\n",
    "            oldest_cat = cat\n",
    "            max_age = cat.age\n",
    "\n",
    "    return oldest_cat\n",
    "\n",
    "# Instantiate three Cat objects\n",
    "cat1 = Cat(\"Fluffy\", 2)\n",
    "cat2 = Cat(\"Whiskers\", 3)\n",
    "cat3 = Cat(\"Mittens\", 1)\n",
    "\n",
    "# Create a list of Cat objects\n",
    "cat_list = [cat1, cat2, cat3]\n",
    "\n",
    "# Find the oldest cat\n",
    "oldest_cat = find_oldest_cat(cat_list)\n",
    "\n",
    "# Print the result\n",
    "if oldest_cat:\n",
    "    print(f\"The oldest cat is {oldest_cat.name}, and is {oldest_cat.age} years old.\")\n",
    "else:\n",
    "    print(\"No cats found.\")\n"
   ]
  }
 ],
 "metadata": {
  "kernelspec": {
   "display_name": "Python 3",
   "language": "python",
   "name": "python3"
  },
  "language_info": {
   "codemirror_mode": {
    "name": "ipython",
    "version": 3
   },
   "file_extension": ".py",
   "mimetype": "text/x-python",
   "name": "python",
   "nbconvert_exporter": "python",
   "pygments_lexer": "ipython3",
   "version": "3.11.4"
  },
  "orig_nbformat": 4
 },
 "nbformat": 4,
 "nbformat_minor": 2
}
